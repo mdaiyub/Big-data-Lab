{
  "nbformat": 4,
  "nbformat_minor": 0,
  "metadata": {
    "colab": {
      "provenance": [],
      "include_colab_link": true
    },
    "kernelspec": {
      "name": "python3",
      "display_name": "Python 3"
    },
    "language_info": {
      "name": "python"
    }
  },
  "cells": [
    {
      "cell_type": "markdown",
      "metadata": {
        "id": "view-in-github",
        "colab_type": "text"
      },
      "source": [
        "<a href=\"https://colab.research.google.com/github/mdaiyub/Big-data-Lab/blob/main/BigDataLab04_H.ipynb\" target=\"_parent\"><img src=\"https://colab.research.google.com/assets/colab-badge.svg\" alt=\"Open In Colab\"/></a>"
      ]
    },
    {
      "cell_type": "code",
      "execution_count": null,
      "metadata": {
        "id": "3m2LrIdLsiWW"
      },
      "outputs": [],
      "source": [
        "#openjdk installation\n",
        "!apt-get install openjdk-8-jdk-headless -qq > /dev/null\n",
        "#Downloading the apche spark with specific version\n",
        "!wget -q https://dlcdn.apache.org/spark/spark-3.4.1/spark-3.4.1-bin-hadoop3.tgz\n",
        "#Zip into unzip the apche spark\n",
        "!tar -xf spark-3.4.1-bin-hadoop3.tgz\n",
        "#findspark installation\n",
        "!pip install -q findspark\n",
        "#Environment setup for the openjdk and spark\n",
        "import os\n",
        "os.environ[\"JAVA_HOME\"] = \"/usr/lib/jvm/java-8-openjdk-amd64\"\n",
        "os.environ[\"SPARK_HOME\"] = \"/content/spark-3.4.1-bin-hadoop3\"\n",
        "import findspark\n",
        "findspark.init()\n",
        "from pyspark.sql import SparkSession\n",
        "spark = SparkSession.builder.master(\"local[*]\").getOrCreate()"
      ]
    },
    {
      "cell_type": "code",
      "source": [
        "# Upload the file\n",
        "from google.colab import files\n",
        "files.upload()"
      ],
      "metadata": {
        "colab": {
          "base_uri": "https://localhost:8080/",
          "height": 127
        },
        "id": "dEVG1jH7zjs7",
        "outputId": "9452500f-9b7f-4ef2-d261-c63299cdd99b"
      },
      "execution_count": null,
      "outputs": [
        {
          "output_type": "display_data",
          "data": {
            "text/plain": [
              "<IPython.core.display.HTML object>"
            ],
            "text/html": [
              "\n",
              "     <input type=\"file\" id=\"files-8d44f106-2ae4-4acd-a0e9-322aa5abd78a\" name=\"files[]\" multiple disabled\n",
              "        style=\"border:none\" />\n",
              "     <output id=\"result-8d44f106-2ae4-4acd-a0e9-322aa5abd78a\">\n",
              "      Upload widget is only available when the cell has been executed in the\n",
              "      current browser session. Please rerun this cell to enable.\n",
              "      </output>\n",
              "      <script>// Copyright 2017 Google LLC\n",
              "//\n",
              "// Licensed under the Apache License, Version 2.0 (the \"License\");\n",
              "// you may not use this file except in compliance with the License.\n",
              "// You may obtain a copy of the License at\n",
              "//\n",
              "//      http://www.apache.org/licenses/LICENSE-2.0\n",
              "//\n",
              "// Unless required by applicable law or agreed to in writing, software\n",
              "// distributed under the License is distributed on an \"AS IS\" BASIS,\n",
              "// WITHOUT WARRANTIES OR CONDITIONS OF ANY KIND, either express or implied.\n",
              "// See the License for the specific language governing permissions and\n",
              "// limitations under the License.\n",
              "\n",
              "/**\n",
              " * @fileoverview Helpers for google.colab Python module.\n",
              " */\n",
              "(function(scope) {\n",
              "function span(text, styleAttributes = {}) {\n",
              "  const element = document.createElement('span');\n",
              "  element.textContent = text;\n",
              "  for (const key of Object.keys(styleAttributes)) {\n",
              "    element.style[key] = styleAttributes[key];\n",
              "  }\n",
              "  return element;\n",
              "}\n",
              "\n",
              "// Max number of bytes which will be uploaded at a time.\n",
              "const MAX_PAYLOAD_SIZE = 100 * 1024;\n",
              "\n",
              "function _uploadFiles(inputId, outputId) {\n",
              "  const steps = uploadFilesStep(inputId, outputId);\n",
              "  const outputElement = document.getElementById(outputId);\n",
              "  // Cache steps on the outputElement to make it available for the next call\n",
              "  // to uploadFilesContinue from Python.\n",
              "  outputElement.steps = steps;\n",
              "\n",
              "  return _uploadFilesContinue(outputId);\n",
              "}\n",
              "\n",
              "// This is roughly an async generator (not supported in the browser yet),\n",
              "// where there are multiple asynchronous steps and the Python side is going\n",
              "// to poll for completion of each step.\n",
              "// This uses a Promise to block the python side on completion of each step,\n",
              "// then passes the result of the previous step as the input to the next step.\n",
              "function _uploadFilesContinue(outputId) {\n",
              "  const outputElement = document.getElementById(outputId);\n",
              "  const steps = outputElement.steps;\n",
              "\n",
              "  const next = steps.next(outputElement.lastPromiseValue);\n",
              "  return Promise.resolve(next.value.promise).then((value) => {\n",
              "    // Cache the last promise value to make it available to the next\n",
              "    // step of the generator.\n",
              "    outputElement.lastPromiseValue = value;\n",
              "    return next.value.response;\n",
              "  });\n",
              "}\n",
              "\n",
              "/**\n",
              " * Generator function which is called between each async step of the upload\n",
              " * process.\n",
              " * @param {string} inputId Element ID of the input file picker element.\n",
              " * @param {string} outputId Element ID of the output display.\n",
              " * @return {!Iterable<!Object>} Iterable of next steps.\n",
              " */\n",
              "function* uploadFilesStep(inputId, outputId) {\n",
              "  const inputElement = document.getElementById(inputId);\n",
              "  inputElement.disabled = false;\n",
              "\n",
              "  const outputElement = document.getElementById(outputId);\n",
              "  outputElement.innerHTML = '';\n",
              "\n",
              "  const pickedPromise = new Promise((resolve) => {\n",
              "    inputElement.addEventListener('change', (e) => {\n",
              "      resolve(e.target.files);\n",
              "    });\n",
              "  });\n",
              "\n",
              "  const cancel = document.createElement('button');\n",
              "  inputElement.parentElement.appendChild(cancel);\n",
              "  cancel.textContent = 'Cancel upload';\n",
              "  const cancelPromise = new Promise((resolve) => {\n",
              "    cancel.onclick = () => {\n",
              "      resolve(null);\n",
              "    };\n",
              "  });\n",
              "\n",
              "  // Wait for the user to pick the files.\n",
              "  const files = yield {\n",
              "    promise: Promise.race([pickedPromise, cancelPromise]),\n",
              "    response: {\n",
              "      action: 'starting',\n",
              "    }\n",
              "  };\n",
              "\n",
              "  cancel.remove();\n",
              "\n",
              "  // Disable the input element since further picks are not allowed.\n",
              "  inputElement.disabled = true;\n",
              "\n",
              "  if (!files) {\n",
              "    return {\n",
              "      response: {\n",
              "        action: 'complete',\n",
              "      }\n",
              "    };\n",
              "  }\n",
              "\n",
              "  for (const file of files) {\n",
              "    const li = document.createElement('li');\n",
              "    li.append(span(file.name, {fontWeight: 'bold'}));\n",
              "    li.append(span(\n",
              "        `(${file.type || 'n/a'}) - ${file.size} bytes, ` +\n",
              "        `last modified: ${\n",
              "            file.lastModifiedDate ? file.lastModifiedDate.toLocaleDateString() :\n",
              "                                    'n/a'} - `));\n",
              "    const percent = span('0% done');\n",
              "    li.appendChild(percent);\n",
              "\n",
              "    outputElement.appendChild(li);\n",
              "\n",
              "    const fileDataPromise = new Promise((resolve) => {\n",
              "      const reader = new FileReader();\n",
              "      reader.onload = (e) => {\n",
              "        resolve(e.target.result);\n",
              "      };\n",
              "      reader.readAsArrayBuffer(file);\n",
              "    });\n",
              "    // Wait for the data to be ready.\n",
              "    let fileData = yield {\n",
              "      promise: fileDataPromise,\n",
              "      response: {\n",
              "        action: 'continue',\n",
              "      }\n",
              "    };\n",
              "\n",
              "    // Use a chunked sending to avoid message size limits. See b/62115660.\n",
              "    let position = 0;\n",
              "    do {\n",
              "      const length = Math.min(fileData.byteLength - position, MAX_PAYLOAD_SIZE);\n",
              "      const chunk = new Uint8Array(fileData, position, length);\n",
              "      position += length;\n",
              "\n",
              "      const base64 = btoa(String.fromCharCode.apply(null, chunk));\n",
              "      yield {\n",
              "        response: {\n",
              "          action: 'append',\n",
              "          file: file.name,\n",
              "          data: base64,\n",
              "        },\n",
              "      };\n",
              "\n",
              "      let percentDone = fileData.byteLength === 0 ?\n",
              "          100 :\n",
              "          Math.round((position / fileData.byteLength) * 100);\n",
              "      percent.textContent = `${percentDone}% done`;\n",
              "\n",
              "    } while (position < fileData.byteLength);\n",
              "  }\n",
              "\n",
              "  // All done.\n",
              "  yield {\n",
              "    response: {\n",
              "      action: 'complete',\n",
              "    }\n",
              "  };\n",
              "}\n",
              "\n",
              "scope.google = scope.google || {};\n",
              "scope.google.colab = scope.google.colab || {};\n",
              "scope.google.colab._files = {\n",
              "  _uploadFiles,\n",
              "  _uploadFilesContinue,\n",
              "};\n",
              "})(self);\n",
              "</script> "
            ]
          },
          "metadata": {}
        },
        {
          "output_type": "stream",
          "name": "stdout",
          "text": [
            "Saving lab4.csv to lab4.csv\n"
          ]
        },
        {
          "output_type": "execute_result",
          "data": {
            "text/plain": [
              "{'lab4.csv': b'Name,Age,Exp,Salary\\r\\nAminul,22,2,10000\\r\\nAnika,25,5,15000\\r\\nJui,22,7,10000\\r\\nRabbani,24,5,20000\\r\\nKarim,30,2,15000\\r\\nSalam,24,7,17000\\r\\nAlamin,20,7,15000\\r\\nNazmul,24,2,15000\\r\\nRafi,23,2,14000\\r\\n'}"
            ]
          },
          "metadata": {},
          "execution_count": 2
        }
      ]
    },
    {
      "cell_type": "markdown",
      "source": [
        "# Filter Operation\n"
      ],
      "metadata": {
        "id": "Pr6boyVozZRz"
      }
    },
    {
      "cell_type": "markdown",
      "source": [
        "**Experiment No: 04**"
      ],
      "metadata": {
        "id": "DBGlVwZ41wIC"
      }
    },
    {
      "cell_type": "markdown",
      "source": [
        "**Experiment Name: Filter Operation**"
      ],
      "metadata": {
        "id": "-EzLZRwK16TJ"
      }
    },
    {
      "cell_type": "code",
      "source": [
        "df = spark.read.format('csv').option(\"header\",\"true\").option(\"inferschema\",\"true\").option(\"mode\",\"failfast\").load(\"lab4.csv\")"
      ],
      "metadata": {
        "id": "32SAvVObze1L"
      },
      "execution_count": null,
      "outputs": []
    },
    {
      "cell_type": "code",
      "source": [
        "df.printSchema()"
      ],
      "metadata": {
        "colab": {
          "base_uri": "https://localhost:8080/"
        },
        "id": "CACuLqsd1gfS",
        "outputId": "88618361-e861-4a79-f158-730e29fead6a"
      },
      "execution_count": null,
      "outputs": [
        {
          "output_type": "stream",
          "name": "stdout",
          "text": [
            "root\n",
            " |-- Name: string (nullable = true)\n",
            " |-- Age: integer (nullable = true)\n",
            " |-- Exp: integer (nullable = true)\n",
            " |-- Salary: integer (nullable = true)\n",
            "\n"
          ]
        }
      ]
    },
    {
      "cell_type": "code",
      "source": [
        "df.show()"
      ],
      "metadata": {
        "colab": {
          "base_uri": "https://localhost:8080/"
        },
        "id": "F1ALbI1I1pev",
        "outputId": "e661bcc8-d6bc-4c55-cf51-57d3c906bcbe"
      },
      "execution_count": null,
      "outputs": [
        {
          "output_type": "stream",
          "name": "stdout",
          "text": [
            "+-------+---+---+------+\n",
            "|   Name|Age|Exp|Salary|\n",
            "+-------+---+---+------+\n",
            "| Aminul| 22|  2| 10000|\n",
            "|  Anika| 25|  5| 15000|\n",
            "|    Jui| 22|  7| 10000|\n",
            "|Rabbani| 24|  5| 20000|\n",
            "|  Karim| 30|  2| 15000|\n",
            "|  Salam| 24|  7| 17000|\n",
            "| Alamin| 20|  7| 15000|\n",
            "| Nazmul| 24|  2| 15000|\n",
            "|   Rafi| 23|  2| 14000|\n",
            "+-------+---+---+------+\n",
            "\n"
          ]
        }
      ]
    },
    {
      "cell_type": "code",
      "source": [
        "df.columns"
      ],
      "metadata": {
        "colab": {
          "base_uri": "https://localhost:8080/"
        },
        "id": "nXpHT5vo1sN4",
        "outputId": "5598da7c-81af-47af-a207-36034124f7a6"
      },
      "execution_count": null,
      "outputs": [
        {
          "output_type": "execute_result",
          "data": {
            "text/plain": [
              "['Name', 'Age', 'Exp', 'Salary']"
            ]
          },
          "metadata": {},
          "execution_count": 13
        }
      ]
    },
    {
      "cell_type": "code",
      "source": [
        "df.filter(\"Salary<=15000\").show()"
      ],
      "metadata": {
        "colab": {
          "base_uri": "https://localhost:8080/"
        },
        "id": "GKU_z3pM6JDL",
        "outputId": "f317011d-4a36-46f4-cc14-0adc26a87c99"
      },
      "execution_count": null,
      "outputs": [
        {
          "output_type": "stream",
          "name": "stdout",
          "text": [
            "+------+---+---+------+\n",
            "|  Name|Age|Exp|Salary|\n",
            "+------+---+---+------+\n",
            "|Aminul| 22|  2| 10000|\n",
            "| Anika| 25|  5| 15000|\n",
            "|   Jui| 22|  7| 10000|\n",
            "| Karim| 30|  2| 15000|\n",
            "|Alamin| 20|  7| 15000|\n",
            "|Nazmul| 24|  2| 15000|\n",
            "|  Rafi| 23|  2| 14000|\n",
            "+------+---+---+------+\n",
            "\n"
          ]
        }
      ]
    },
    {
      "cell_type": "code",
      "source": [
        "df.filter(df[\"Salary\"]<=20000).show()"
      ],
      "metadata": {
        "colab": {
          "base_uri": "https://localhost:8080/"
        },
        "id": "XBHmAmhE7q8q",
        "outputId": "cd598bce-6aa3-4f58-c76c-dbbcbb494e5d"
      },
      "execution_count": null,
      "outputs": [
        {
          "output_type": "stream",
          "name": "stdout",
          "text": [
            "+-------+---+---+------+\n",
            "|   Name|Age|Exp|Salary|\n",
            "+-------+---+---+------+\n",
            "| Aminul| 22|  2| 10000|\n",
            "|  Anika| 25|  5| 15000|\n",
            "|    Jui| 22|  7| 10000|\n",
            "|Rabbani| 24|  5| 20000|\n",
            "|  Karim| 30|  2| 15000|\n",
            "|  Salam| 24|  7| 17000|\n",
            "| Alamin| 20|  7| 15000|\n",
            "| Nazmul| 24|  2| 15000|\n",
            "|   Rafi| 23|  2| 14000|\n",
            "+-------+---+---+------+\n",
            "\n"
          ]
        }
      ]
    },
    {
      "cell_type": "code",
      "source": [
        "df.filter(df[\"Salary\"]<=20000).show()"
      ],
      "metadata": {
        "colab": {
          "base_uri": "https://localhost:8080/"
        },
        "id": "Ie17NPm79BEz",
        "outputId": "1d0a31ca-25be-418b-ad61-b8203ff1a1ba"
      },
      "execution_count": null,
      "outputs": [
        {
          "output_type": "stream",
          "name": "stdout",
          "text": [
            "+-------+---+---+------+\n",
            "|   Name|Age|Exp|Salary|\n",
            "+-------+---+---+------+\n",
            "| Aminul| 22|  2| 10000|\n",
            "|  Anika| 25|  5| 15000|\n",
            "|    Jui| 22|  7| 10000|\n",
            "|Rabbani| 24|  5| 20000|\n",
            "|  Karim| 30|  2| 15000|\n",
            "|  Salam| 24|  7| 17000|\n",
            "| Alamin| 20|  7| 15000|\n",
            "| Nazmul| 24|  2| 15000|\n",
            "|   Rafi| 23|  2| 14000|\n",
            "+-------+---+---+------+\n",
            "\n"
          ]
        }
      ]
    },
    {
      "cell_type": "markdown",
      "source": [
        "**Conjunction**"
      ],
      "metadata": {
        "id": "HkgGjKvdAEBW"
      }
    },
    {
      "cell_type": "code",
      "source": [
        "df.filter((df[\"Salary\"]<=12000) & (df[\"Salary\"]>=19000)).show()"
      ],
      "metadata": {
        "colab": {
          "base_uri": "https://localhost:8080/"
        },
        "id": "Gjr6WkM_69hL",
        "outputId": "cbd458c5-e100-49c7-95f6-f1162e27bbe3"
      },
      "execution_count": null,
      "outputs": [
        {
          "output_type": "stream",
          "name": "stdout",
          "text": [
            "+----+---+---+------+\n",
            "|Name|Age|Exp|Salary|\n",
            "+----+---+---+------+\n",
            "+----+---+---+------+\n",
            "\n"
          ]
        }
      ]
    },
    {
      "cell_type": "code",
      "source": [
        "df.filter((df[\"Salary\"]<=12000) & (df[\"Salary\"]>=10000)).show()"
      ],
      "metadata": {
        "colab": {
          "base_uri": "https://localhost:8080/"
        },
        "id": "Cp0ry0uL7Wqr",
        "outputId": "f100bc84-6ce3-44e8-aeb0-a69f5f5825e4"
      },
      "execution_count": null,
      "outputs": [
        {
          "output_type": "stream",
          "name": "stdout",
          "text": [
            "+------+---+---+------+\n",
            "|  Name|Age|Exp|Salary|\n",
            "+------+---+---+------+\n",
            "|Aminul| 22|  2| 10000|\n",
            "|   Jui| 22|  7| 10000|\n",
            "+------+---+---+------+\n",
            "\n"
          ]
        }
      ]
    },
    {
      "cell_type": "markdown",
      "source": [
        "**Disjunction**"
      ],
      "metadata": {
        "id": "JDY8LhNf7hdJ"
      }
    },
    {
      "cell_type": "code",
      "source": [
        "df.filter((df[\"Salary\"]<=10000) | (df[\"Salary\"]>=50000)).show()"
      ],
      "metadata": {
        "colab": {
          "base_uri": "https://localhost:8080/"
        },
        "id": "yxsETfCi7ky6",
        "outputId": "9f0059c8-c2af-4354-fbdc-871787765d3b"
      },
      "execution_count": null,
      "outputs": [
        {
          "output_type": "stream",
          "name": "stdout",
          "text": [
            "+------+---+---+------+\n",
            "|  Name|Age|Exp|Salary|\n",
            "+------+---+---+------+\n",
            "|Aminul| 22|  2| 10000|\n",
            "|   Jui| 22|  7| 10000|\n",
            "+------+---+---+------+\n",
            "\n"
          ]
        }
      ]
    },
    {
      "cell_type": "markdown",
      "source": [
        "**Negation**"
      ],
      "metadata": {
        "id": "PenVVtuQ_QpQ"
      }
    },
    {
      "cell_type": "code",
      "source": [
        "df.filter(~(df[\"Salary\"]<=12000)).show()"
      ],
      "metadata": {
        "colab": {
          "base_uri": "https://localhost:8080/"
        },
        "id": "PGXPJibg_TlY",
        "outputId": "d4b132e1-5cee-420b-e420-58934acd9466"
      },
      "execution_count": null,
      "outputs": [
        {
          "output_type": "stream",
          "name": "stdout",
          "text": [
            "+-------+---+---+------+\n",
            "|   Name|Age|Exp|Salary|\n",
            "+-------+---+---+------+\n",
            "|  Anika| 25|  5| 15000|\n",
            "|Rabbani| 24|  5| 20000|\n",
            "|  Karim| 30|  2| 15000|\n",
            "|  Salam| 24|  7| 17000|\n",
            "| Alamin| 20|  7| 15000|\n",
            "| Nazmul| 24|  2| 15000|\n",
            "|   Rafi| 23|  2| 14000|\n",
            "+-------+---+---+------+\n",
            "\n"
          ]
        }
      ]
    },
    {
      "cell_type": "code",
      "source": [],
      "metadata": {
        "id": "zzIOJ6g9DFcb"
      },
      "execution_count": null,
      "outputs": []
    }
  ]
}