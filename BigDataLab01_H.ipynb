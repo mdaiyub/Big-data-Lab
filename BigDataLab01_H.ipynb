{
  "nbformat": 4,
  "nbformat_minor": 0,
  "metadata": {
    "colab": {
      "provenance": [],
      "include_colab_link": true
    },
    "kernelspec": {
      "name": "python3",
      "display_name": "Python 3"
    },
    "language_info": {
      "name": "python"
    }
  },
  "cells": [
    {
      "cell_type": "markdown",
      "metadata": {
        "id": "view-in-github",
        "colab_type": "text"
      },
      "source": [
        "<a href=\"https://colab.research.google.com/github/mdaiyub/Big-data-Lab/blob/main/BigDataLab01_H.ipynb\" target=\"_parent\"><img src=\"https://colab.research.google.com/assets/colab-badge.svg\" alt=\"Open In Colab\"/></a>"
      ]
    },
    {
      "cell_type": "markdown",
      "source": [
        "# Experiment data: 07/08/2023\n"
      ],
      "metadata": {
        "id": "YiWTy9hAlyX7"
      }
    },
    {
      "cell_type": "markdown",
      "source": [
        "**Experiment no. 01**"
      ],
      "metadata": {
        "id": "rHwiXzYIvesA"
      }
    },
    {
      "cell_type": "markdown",
      "source": [
        "**Experiment Name: Installing the big data tools.**"
      ],
      "metadata": {
        "id": "mcTK9-eivjB4"
      }
    },
    {
      "cell_type": "code",
      "execution_count": null,
      "metadata": {
        "id": "T7mcK1D7jsCe"
      },
      "outputs": [],
      "source": [
        "#openjdk installation\n",
        "!apt-get install openjdk-8-jdk-headless -qq > /dev/null"
      ]
    },
    {
      "cell_type": "code",
      "source": [
        "#Downloading the apche spark with specific version\n",
        "!wget -q https://dlcdn.apache.org/spark/spark-3.4.1/spark-3.4.1-bin-hadoop3.tgz"
      ],
      "metadata": {
        "id": "19o7Jeiokefz"
      },
      "execution_count": null,
      "outputs": []
    },
    {
      "cell_type": "code",
      "source": [
        "#Zip into unzip the apche spark\n",
        "!tar -xf spark-3.4.1-bin-hadoop3.tgz"
      ],
      "metadata": {
        "id": "d3lnYvC5lRfi"
      },
      "execution_count": null,
      "outputs": []
    },
    {
      "cell_type": "code",
      "source": [
        "#findspark installation\n",
        "!pip install -q findspark"
      ],
      "metadata": {
        "id": "VZbCS985mdyi"
      },
      "execution_count": null,
      "outputs": []
    },
    {
      "cell_type": "code",
      "source": [
        "#Environment setup for the openjdk and spark\n",
        "import os\n",
        "os.environ[\"JAVA_HOME\"] = \"/usr/lib/jvm/java-8-openjdk-amd64\"\n",
        "os.environ[\"SPARK_HOME\"] = \"/content/spark-3.4.1-bin-hadoop3\""
      ],
      "metadata": {
        "id": "FGyZsaXHmwLp"
      },
      "execution_count": null,
      "outputs": []
    },
    {
      "cell_type": "code",
      "source": [
        "import findspark\n",
        "findspark.init()"
      ],
      "metadata": {
        "id": "ALvz5BMvmiqT"
      },
      "execution_count": null,
      "outputs": []
    },
    {
      "cell_type": "code",
      "source": [
        "from pyspark.sql import SparkSession\n",
        "spark = SparkSession.builder.master(\"local[*]\").getOrCreate()"
      ],
      "metadata": {
        "id": "THKhbLScoPny"
      },
      "execution_count": null,
      "outputs": []
    },
    {
      "cell_type": "code",
      "source": [
        "spark"
      ],
      "metadata": {
        "colab": {
          "base_uri": "https://localhost:8080/",
          "height": 219
        },
        "id": "YJHA_V28o6AX",
        "outputId": "9a7ceaa3-77c7-4a73-8bf8-daec1cae85a3"
      },
      "execution_count": null,
      "outputs": [
        {
          "output_type": "execute_result",
          "data": {
            "text/plain": [
              "<pyspark.sql.session.SparkSession at 0x7fbdeb2743a0>"
            ],
            "text/html": [
              "\n",
              "            <div>\n",
              "                <p><b>SparkSession - in-memory</b></p>\n",
              "                \n",
              "        <div>\n",
              "            <p><b>SparkContext</b></p>\n",
              "\n",
              "            <p><a href=\"http://d272847be3ff:4040\">Spark UI</a></p>\n",
              "\n",
              "            <dl>\n",
              "              <dt>Version</dt>\n",
              "                <dd><code>v3.4.1</code></dd>\n",
              "              <dt>Master</dt>\n",
              "                <dd><code>local[*]</code></dd>\n",
              "              <dt>AppName</dt>\n",
              "                <dd><code>pyspark-shell</code></dd>\n",
              "            </dl>\n",
              "        </div>\n",
              "        \n",
              "            </div>\n",
              "        "
            ]
          },
          "metadata": {},
          "execution_count": 39
        }
      ]
    },
    {
      "cell_type": "markdown",
      "source": [
        "# Experiment  data: 14/08/2023\n",
        "**Experiment no. 02**\n"
      ],
      "metadata": {
        "id": "_DJobIrNt0Dr"
      }
    },
    {
      "cell_type": "markdown",
      "source": [
        "**Experiment name: Handling and processing the PySpark Data Frame**"
      ],
      "metadata": {
        "id": "EEU-36V9vCkL"
      }
    },
    {
      "cell_type": "code",
      "source": [
        "#openjdk installation\n",
        "!apt-get install openjdk-8-jdk-headless -qq > /dev/null\n",
        "#Downloading the apche spark with specific version\n",
        "!wget -q https://dlcdn.apache.org/spark/spark-3.4.1/spark-3.4.1-bin-hadoop3.tgz\n",
        "#Zip into unzip the apche spark\n",
        "!tar -xf spark-3.4.1-bin-hadoop3.tgz\n",
        "#findspark installation\n",
        "!pip install -q findspark\n",
        "#Environment setup for the openjdk and spark\n",
        "import os\n",
        "os.environ[\"JAVA_HOME\"] = \"/usr/lib/jvm/java-8-openjdk-amd64\"\n",
        "os.environ[\"SPARK_HOME\"] = \"/content/spark-3.4.1-bin-hadoop3\"\n",
        "import findspark\n",
        "findspark.init()\n",
        "from pyspark.sql import SparkSession\n",
        "spark = SparkSession.builder.master(\"local[*]\").getOrCreate()"
      ],
      "metadata": {
        "id": "9FUr2ahqueor"
      },
      "execution_count": null,
      "outputs": []
    },
    {
      "cell_type": "code",
      "source": [
        "# Upload the file\n",
        "from google.colab import files\n",
        "files.upload()"
      ],
      "metadata": {
        "colab": {
          "base_uri": "https://localhost:8080/",
          "height": 125
        },
        "id": "WgV4sGS3wq-U",
        "outputId": "d802ec5b-09ef-4e24-fad2-453da15f332f"
      },
      "execution_count": null,
      "outputs": [
        {
          "output_type": "display_data",
          "data": {
            "text/plain": [
              "<IPython.core.display.HTML object>"
            ],
            "text/html": [
              "\n",
              "     <input type=\"file\" id=\"files-24c62b86-04b9-4751-9c40-8f32081da4b0\" name=\"files[]\" multiple disabled\n",
              "        style=\"border:none\" />\n",
              "     <output id=\"result-24c62b86-04b9-4751-9c40-8f32081da4b0\">\n",
              "      Upload widget is only available when the cell has been executed in the\n",
              "      current browser session. Please rerun this cell to enable.\n",
              "      </output>\n",
              "      <script>// Copyright 2017 Google LLC\n",
              "//\n",
              "// Licensed under the Apache License, Version 2.0 (the \"License\");\n",
              "// you may not use this file except in compliance with the License.\n",
              "// You may obtain a copy of the License at\n",
              "//\n",
              "//      http://www.apache.org/licenses/LICENSE-2.0\n",
              "//\n",
              "// Unless required by applicable law or agreed to in writing, software\n",
              "// distributed under the License is distributed on an \"AS IS\" BASIS,\n",
              "// WITHOUT WARRANTIES OR CONDITIONS OF ANY KIND, either express or implied.\n",
              "// See the License for the specific language governing permissions and\n",
              "// limitations under the License.\n",
              "\n",
              "/**\n",
              " * @fileoverview Helpers for google.colab Python module.\n",
              " */\n",
              "(function(scope) {\n",
              "function span(text, styleAttributes = {}) {\n",
              "  const element = document.createElement('span');\n",
              "  element.textContent = text;\n",
              "  for (const key of Object.keys(styleAttributes)) {\n",
              "    element.style[key] = styleAttributes[key];\n",
              "  }\n",
              "  return element;\n",
              "}\n",
              "\n",
              "// Max number of bytes which will be uploaded at a time.\n",
              "const MAX_PAYLOAD_SIZE = 100 * 1024;\n",
              "\n",
              "function _uploadFiles(inputId, outputId) {\n",
              "  const steps = uploadFilesStep(inputId, outputId);\n",
              "  const outputElement = document.getElementById(outputId);\n",
              "  // Cache steps on the outputElement to make it available for the next call\n",
              "  // to uploadFilesContinue from Python.\n",
              "  outputElement.steps = steps;\n",
              "\n",
              "  return _uploadFilesContinue(outputId);\n",
              "}\n",
              "\n",
              "// This is roughly an async generator (not supported in the browser yet),\n",
              "// where there are multiple asynchronous steps and the Python side is going\n",
              "// to poll for completion of each step.\n",
              "// This uses a Promise to block the python side on completion of each step,\n",
              "// then passes the result of the previous step as the input to the next step.\n",
              "function _uploadFilesContinue(outputId) {\n",
              "  const outputElement = document.getElementById(outputId);\n",
              "  const steps = outputElement.steps;\n",
              "\n",
              "  const next = steps.next(outputElement.lastPromiseValue);\n",
              "  return Promise.resolve(next.value.promise).then((value) => {\n",
              "    // Cache the last promise value to make it available to the next\n",
              "    // step of the generator.\n",
              "    outputElement.lastPromiseValue = value;\n",
              "    return next.value.response;\n",
              "  });\n",
              "}\n",
              "\n",
              "/**\n",
              " * Generator function which is called between each async step of the upload\n",
              " * process.\n",
              " * @param {string} inputId Element ID of the input file picker element.\n",
              " * @param {string} outputId Element ID of the output display.\n",
              " * @return {!Iterable<!Object>} Iterable of next steps.\n",
              " */\n",
              "function* uploadFilesStep(inputId, outputId) {\n",
              "  const inputElement = document.getElementById(inputId);\n",
              "  inputElement.disabled = false;\n",
              "\n",
              "  const outputElement = document.getElementById(outputId);\n",
              "  outputElement.innerHTML = '';\n",
              "\n",
              "  const pickedPromise = new Promise((resolve) => {\n",
              "    inputElement.addEventListener('change', (e) => {\n",
              "      resolve(e.target.files);\n",
              "    });\n",
              "  });\n",
              "\n",
              "  const cancel = document.createElement('button');\n",
              "  inputElement.parentElement.appendChild(cancel);\n",
              "  cancel.textContent = 'Cancel upload';\n",
              "  const cancelPromise = new Promise((resolve) => {\n",
              "    cancel.onclick = () => {\n",
              "      resolve(null);\n",
              "    };\n",
              "  });\n",
              "\n",
              "  // Wait for the user to pick the files.\n",
              "  const files = yield {\n",
              "    promise: Promise.race([pickedPromise, cancelPromise]),\n",
              "    response: {\n",
              "      action: 'starting',\n",
              "    }\n",
              "  };\n",
              "\n",
              "  cancel.remove();\n",
              "\n",
              "  // Disable the input element since further picks are not allowed.\n",
              "  inputElement.disabled = true;\n",
              "\n",
              "  if (!files) {\n",
              "    return {\n",
              "      response: {\n",
              "        action: 'complete',\n",
              "      }\n",
              "    };\n",
              "  }\n",
              "\n",
              "  for (const file of files) {\n",
              "    const li = document.createElement('li');\n",
              "    li.append(span(file.name, {fontWeight: 'bold'}));\n",
              "    li.append(span(\n",
              "        `(${file.type || 'n/a'}) - ${file.size} bytes, ` +\n",
              "        `last modified: ${\n",
              "            file.lastModifiedDate ? file.lastModifiedDate.toLocaleDateString() :\n",
              "                                    'n/a'} - `));\n",
              "    const percent = span('0% done');\n",
              "    li.appendChild(percent);\n",
              "\n",
              "    outputElement.appendChild(li);\n",
              "\n",
              "    const fileDataPromise = new Promise((resolve) => {\n",
              "      const reader = new FileReader();\n",
              "      reader.onload = (e) => {\n",
              "        resolve(e.target.result);\n",
              "      };\n",
              "      reader.readAsArrayBuffer(file);\n",
              "    });\n",
              "    // Wait for the data to be ready.\n",
              "    let fileData = yield {\n",
              "      promise: fileDataPromise,\n",
              "      response: {\n",
              "        action: 'continue',\n",
              "      }\n",
              "    };\n",
              "\n",
              "    // Use a chunked sending to avoid message size limits. See b/62115660.\n",
              "    let position = 0;\n",
              "    do {\n",
              "      const length = Math.min(fileData.byteLength - position, MAX_PAYLOAD_SIZE);\n",
              "      const chunk = new Uint8Array(fileData, position, length);\n",
              "      position += length;\n",
              "\n",
              "      const base64 = btoa(String.fromCharCode.apply(null, chunk));\n",
              "      yield {\n",
              "        response: {\n",
              "          action: 'append',\n",
              "          file: file.name,\n",
              "          data: base64,\n",
              "        },\n",
              "      };\n",
              "\n",
              "      let percentDone = fileData.byteLength === 0 ?\n",
              "          100 :\n",
              "          Math.round((position / fileData.byteLength) * 100);\n",
              "      percent.textContent = `${percentDone}% done`;\n",
              "\n",
              "    } while (position < fileData.byteLength);\n",
              "  }\n",
              "\n",
              "  // All done.\n",
              "  yield {\n",
              "    response: {\n",
              "      action: 'complete',\n",
              "    }\n",
              "  };\n",
              "}\n",
              "\n",
              "scope.google = scope.google || {};\n",
              "scope.google.colab = scope.google.colab || {};\n",
              "scope.google.colab._files = {\n",
              "  _uploadFiles,\n",
              "  _uploadFilesContinue,\n",
              "};\n",
              "})(self);\n",
              "</script> "
            ]
          },
          "metadata": {}
        },
        {
          "output_type": "stream",
          "name": "stdout",
          "text": [
            "Saving lab2.csv to lab2.csv\n"
          ]
        },
        {
          "output_type": "execute_result",
          "data": {
            "text/plain": [
              "{'lab2.csv': b'Name,Age, Experience,Salary\\r\\nMafiul,27,4,60000\\r\\nSalauddin,24,0,200\\r\\nDipjol,55,30,200000\\r\\nMousumi,35,25,500000\\r\\nPurnima,30,20,700000\\r\\nSakib ,45,25,800000\\r\\nJaan,18,12,300000\\r\\nSonamoni,16,10,50000\\r\\n'}"
            ]
          },
          "metadata": {},
          "execution_count": 52
        }
      ]
    },
    {
      "cell_type": "code",
      "source": [
        "df = spark.read.format('csv').option(\"header\",\"true\").option(\"inferschema\",\"true\").option(\"mode\",\"failfast\").load(\"lab2.csv\")"
      ],
      "metadata": {
        "id": "n4pkg6YZzhTe"
      },
      "execution_count": null,
      "outputs": []
    },
    {
      "cell_type": "code",
      "source": [
        "df.printSchema()"
      ],
      "metadata": {
        "colab": {
          "base_uri": "https://localhost:8080/"
        },
        "id": "RPreZBg93X0p",
        "outputId": "14d5db59-2d1c-4b70-8cd6-4a57aa87f1e0"
      },
      "execution_count": null,
      "outputs": [
        {
          "output_type": "stream",
          "name": "stdout",
          "text": [
            "root\n",
            " |-- Name: string (nullable = true)\n",
            " |-- Age: integer (nullable = true)\n",
            " |--  Experience: integer (nullable = true)\n",
            " |-- Salary: integer (nullable = true)\n",
            "\n"
          ]
        }
      ]
    },
    {
      "cell_type": "code",
      "source": [
        "df.show()"
      ],
      "metadata": {
        "colab": {
          "base_uri": "https://localhost:8080/"
        },
        "id": "JDH82WjQ6r7y",
        "outputId": "59813b14-a720-4d56-ce87-3da0d0053d6b"
      },
      "execution_count": null,
      "outputs": [
        {
          "output_type": "stream",
          "name": "stdout",
          "text": [
            "+---------+---+-----------+------+\n",
            "|     Name|Age| Experience|Salary|\n",
            "+---------+---+-----------+------+\n",
            "|   Mafiul| 27|          4| 60000|\n",
            "|Salauddin| 24|          0|   200|\n",
            "|   Dipjol| 55|         30|200000|\n",
            "|  Mousumi| 35|         25|500000|\n",
            "|  Purnima| 30|         20|700000|\n",
            "|   Sakib | 45|         25|800000|\n",
            "|     Jaan| 18|         12|300000|\n",
            "| Sonamoni| 16|         10| 50000|\n",
            "+---------+---+-----------+------+\n",
            "\n"
          ]
        }
      ]
    },
    {
      "cell_type": "code",
      "source": [
        "type(df)"
      ],
      "metadata": {
        "colab": {
          "base_uri": "https://localhost:8080/"
        },
        "id": "j1f407Ju7OF7",
        "outputId": "e2f9d114-7556-4578-e97d-3a2625516fda"
      },
      "execution_count": null,
      "outputs": [
        {
          "output_type": "execute_result",
          "data": {
            "text/plain": [
              "pyspark.sql.dataframe.DataFrame"
            ]
          },
          "metadata": {},
          "execution_count": 56
        }
      ]
    },
    {
      "cell_type": "code",
      "source": [
        "df.head(2)"
      ],
      "metadata": {
        "colab": {
          "base_uri": "https://localhost:8080/"
        },
        "id": "U5k0VXgI7Q-x",
        "outputId": "cdba09ed-d788-464a-c3e4-cdab440aa79f"
      },
      "execution_count": null,
      "outputs": [
        {
          "output_type": "execute_result",
          "data": {
            "text/plain": [
              "[Row(Name='Mafiul', Age=27,  Experience=4, Salary=60000),\n",
              " Row(Name='Salauddin', Age=24,  Experience=0, Salary=200)]"
            ]
          },
          "metadata": {},
          "execution_count": 57
        }
      ]
    },
    {
      "cell_type": "code",
      "source": [
        "df.show()"
      ],
      "metadata": {
        "colab": {
          "base_uri": "https://localhost:8080/"
        },
        "id": "g4HLhb6j7U8y",
        "outputId": "5c29e247-068b-42c6-ed5a-6ec8975bc38b"
      },
      "execution_count": null,
      "outputs": [
        {
          "output_type": "stream",
          "name": "stdout",
          "text": [
            "+---------+---+-----------+------+\n",
            "|     Name|Age| Experience|Salary|\n",
            "+---------+---+-----------+------+\n",
            "|   Mafiul| 27|          4| 60000|\n",
            "|Salauddin| 24|          0|   200|\n",
            "|   Dipjol| 55|         30|200000|\n",
            "|  Mousumi| 35|         25|500000|\n",
            "|  Purnima| 30|         20|700000|\n",
            "|   Sakib | 45|         25|800000|\n",
            "|     Jaan| 18|         12|300000|\n",
            "| Sonamoni| 16|         10| 50000|\n",
            "+---------+---+-----------+------+\n",
            "\n"
          ]
        }
      ]
    },
    {
      "cell_type": "code",
      "source": [
        "df.columns"
      ],
      "metadata": {
        "colab": {
          "base_uri": "https://localhost:8080/"
        },
        "id": "ue-hwThB991-",
        "outputId": "082c486c-9887-403f-8c6a-b419aa626264"
      },
      "execution_count": null,
      "outputs": [
        {
          "output_type": "execute_result",
          "data": {
            "text/plain": [
              "['Name', 'Age', ' Experience', 'Salary']"
            ]
          },
          "metadata": {},
          "execution_count": 61
        }
      ]
    },
    {
      "cell_type": "code",
      "source": [
        "df.select([\"Name\",\" Experience\", \"Age\"]).show()"
      ],
      "metadata": {
        "colab": {
          "base_uri": "https://localhost:8080/"
        },
        "id": "rDomN_PN9twv",
        "outputId": "8d6cdb90-a74c-4d4c-9e1e-921c44ebeb28"
      },
      "execution_count": null,
      "outputs": [
        {
          "output_type": "stream",
          "name": "stdout",
          "text": [
            "+---------+-----------+---+\n",
            "|     Name| Experience|Age|\n",
            "+---------+-----------+---+\n",
            "|   Mafiul|          4| 27|\n",
            "|Salauddin|          0| 24|\n",
            "|   Dipjol|         30| 55|\n",
            "|  Mousumi|         25| 35|\n",
            "|  Purnima|         20| 30|\n",
            "|   Sakib |         25| 45|\n",
            "|     Jaan|         12| 18|\n",
            "| Sonamoni|         10| 16|\n",
            "+---------+-----------+---+\n",
            "\n"
          ]
        }
      ]
    },
    {
      "cell_type": "code",
      "source": [
        "df.describe().show()"
      ],
      "metadata": {
        "colab": {
          "base_uri": "https://localhost:8080/"
        },
        "id": "S55hz_AFAKik",
        "outputId": "4fa49a3b-bef4-41e2-823c-3cf3e686c8f5"
      },
      "execution_count": null,
      "outputs": [
        {
          "output_type": "stream",
          "name": "stdout",
          "text": [
            "+-------+--------+------------------+------------------+-----------------+\n",
            "|summary|    Name|               Age|        Experience|           Salary|\n",
            "+-------+--------+------------------+------------------+-----------------+\n",
            "|  count|       8|                 8|                 8|                8|\n",
            "|   mean|    null|             31.25|             15.75|         326275.0|\n",
            "| stddev|    null|13.349692345304655|10.859492227013721|308094.8450906451|\n",
            "|    min|  Dipjol|                16|                 0|              200|\n",
            "|    max|Sonamoni|                55|                30|           800000|\n",
            "+-------+--------+------------------+------------------+-----------------+\n",
            "\n"
          ]
        }
      ]
    },
    {
      "cell_type": "code",
      "source": [
        "# Adding column in data frame\n",
        "df = df.withColumn(\"Experience after 2 years\", df[\" Experience\"]+2)"
      ],
      "metadata": {
        "id": "o7ToOORfAnxs"
      },
      "execution_count": null,
      "outputs": []
    },
    {
      "cell_type": "code",
      "source": [
        "df.show()"
      ],
      "metadata": {
        "colab": {
          "base_uri": "https://localhost:8080/"
        },
        "id": "I0prwyZhBxda",
        "outputId": "0f5405a4-c504-4d19-cae2-e7384fcf97b7"
      },
      "execution_count": null,
      "outputs": [
        {
          "output_type": "stream",
          "name": "stdout",
          "text": [
            "+---------+---+-----------+------+------------------------+\n",
            "|     Name|Age| Experience|Salary|Experience after 2 years|\n",
            "+---------+---+-----------+------+------------------------+\n",
            "|   Mafiul| 27|          4| 60000|                       6|\n",
            "|Salauddin| 24|          0|   200|                       2|\n",
            "|   Dipjol| 55|         30|200000|                      32|\n",
            "|  Mousumi| 35|         25|500000|                      27|\n",
            "|  Purnima| 30|         20|700000|                      22|\n",
            "|   Sakib | 45|         25|800000|                      27|\n",
            "|     Jaan| 18|         12|300000|                      14|\n",
            "| Sonamoni| 16|         10| 50000|                      12|\n",
            "+---------+---+-----------+------+------------------------+\n",
            "\n"
          ]
        }
      ]
    },
    {
      "cell_type": "code",
      "source": [
        "# Drop the columns\n",
        "df = df.drop(\"Experience after 2 years\")"
      ],
      "metadata": {
        "id": "0HbJ2b_ECJNa"
      },
      "execution_count": null,
      "outputs": []
    },
    {
      "cell_type": "code",
      "source": [
        "df.show()"
      ],
      "metadata": {
        "colab": {
          "base_uri": "https://localhost:8080/"
        },
        "id": "EsGCYqZYCEx3",
        "outputId": "84f7b260-4be9-41e2-e8e9-7b5201066854"
      },
      "execution_count": null,
      "outputs": [
        {
          "output_type": "stream",
          "name": "stdout",
          "text": [
            "+---------+---+-----------+------+\n",
            "|     Name|Age| Experience|Salary|\n",
            "+---------+---+-----------+------+\n",
            "|   Mafiul| 27|          4| 60000|\n",
            "|Salauddin| 24|          0|   200|\n",
            "|   Dipjol| 55|         30|200000|\n",
            "|  Mousumi| 35|         25|500000|\n",
            "|  Purnima| 30|         20|700000|\n",
            "|   Sakib | 45|         25|800000|\n",
            "|     Jaan| 18|         12|300000|\n",
            "| Sonamoni| 16|         10| 50000|\n",
            "+---------+---+-----------+------+\n",
            "\n"
          ]
        }
      ]
    },
    {
      "cell_type": "code",
      "source": [
        "# Rename the comun name\n",
        "df.withColumnRenamed(\"Name\", \"New Name\").show()"
      ],
      "metadata": {
        "colab": {
          "base_uri": "https://localhost:8080/"
        },
        "id": "y9h5n1VUCVsi",
        "outputId": "0e6e08fe-6224-42ea-ec4e-a6bfe36f94e8"
      },
      "execution_count": null,
      "outputs": [
        {
          "output_type": "stream",
          "name": "stdout",
          "text": [
            "+---------+---+-----------+------+\n",
            "| New Name|Age| Experience|Salary|\n",
            "+---------+---+-----------+------+\n",
            "|   Mafiul| 27|          4| 60000|\n",
            "|Salauddin| 24|          0|   200|\n",
            "|   Dipjol| 55|         30|200000|\n",
            "|  Mousumi| 35|         25|500000|\n",
            "|  Purnima| 30|         20|700000|\n",
            "|   Sakib | 45|         25|800000|\n",
            "|     Jaan| 18|         12|300000|\n",
            "| Sonamoni| 16|         10| 50000|\n",
            "+---------+---+-----------+------+\n",
            "\n"
          ]
        }
      ]
    }
  ]
}