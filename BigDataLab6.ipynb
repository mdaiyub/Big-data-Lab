{
  "nbformat": 4,
  "nbformat_minor": 0,
  "metadata": {
    "colab": {
      "provenance": []
    },
    "kernelspec": {
      "name": "python3",
      "display_name": "Python 3"
    },
    "language_info": {
      "name": "python"
    }
  },
  "cells": [
    {
      "cell_type": "markdown",
      "source": [
        "# **Data from Kaggle in Google Colab using command-line**"
      ],
      "metadata": {
        "id": "fq5CgP8rKXUC"
      }
    },
    {
      "cell_type": "code",
      "execution_count": null,
      "metadata": {
        "colab": {
          "base_uri": "https://localhost:8080/"
        },
        "id": "c3nL0Fg9DW8d",
        "outputId": "939c3a26-e975-4f2b-83ce-e661784f3d9d"
      },
      "outputs": [
        {
          "output_type": "stream",
          "name": "stdout",
          "text": [
            "Drive already mounted at /content/drive; to attempt to forcibly remount, call drive.mount(\"/content/drive\", force_remount=True).\n"
          ]
        }
      ],
      "source": [
        "from google.colab import drive\n",
        "drive.mount('/content/drive')"
      ]
    },
    {
      "cell_type": "code",
      "source": [
        "!mkdir -p /root/.kaggle/"
      ],
      "metadata": {
        "id": "Bdl9QOHWJM70"
      },
      "execution_count": null,
      "outputs": []
    },
    {
      "cell_type": "code",
      "source": [
        "!cp \"/content/drive/MyDrive/Big Data Lab/kaggle.json\" /root/.kaggle/"
      ],
      "metadata": {
        "id": "r-rN0M_dIktZ"
      },
      "execution_count": null,
      "outputs": []
    },
    {
      "cell_type": "code",
      "source": [
        "!chmod 600 /root/.kaggle/kaggle.json"
      ],
      "metadata": {
        "id": "ZFymjkSRJBTo"
      },
      "execution_count": null,
      "outputs": []
    },
    {
      "cell_type": "code",
      "source": [
        "!kaggle datasets download -d nelgiriyewithana/global-youtube-statistics-2023"
      ],
      "metadata": {
        "colab": {
          "base_uri": "https://localhost:8080/"
        },
        "id": "mxF17wIaJt-d",
        "outputId": "10c70fd8-7058-4382-dfb9-9e098a2e840a"
      },
      "execution_count": null,
      "outputs": [
        {
          "output_type": "stream",
          "name": "stdout",
          "text": [
            "Downloading global-youtube-statistics-2023.zip to /content\n",
            "\r  0% 0.00/60.1k [00:00<?, ?B/s]\n",
            "\r100% 60.1k/60.1k [00:00<00:00, 59.3MB/s]\n"
          ]
        }
      ]
    },
    {
      "cell_type": "code",
      "source": [
        "!unzip global-youtube-statistics-2023.zip"
      ],
      "metadata": {
        "colab": {
          "base_uri": "https://localhost:8080/"
        },
        "id": "lkP4blg1KACb",
        "outputId": "1aaf066f-3dd0-4392-9062-e60ec72e306e"
      },
      "execution_count": null,
      "outputs": [
        {
          "output_type": "stream",
          "name": "stdout",
          "text": [
            "Archive:  global-youtube-statistics-2023.zip\n",
            "  inflating: Global YouTube Statistics.csv  \n"
          ]
        }
      ]
    },
    {
      "cell_type": "markdown",
      "source": [
        "# **Required pakages of big data**"
      ],
      "metadata": {
        "id": "qayXxyPSK3Kn"
      }
    },
    {
      "cell_type": "code",
      "source": [
        "#openjdk installation\n",
        "!apt-get install openjdk-8-jdk-headless -qq > /dev/null\n",
        "#Downloading the apche spark with specific version\n",
        "!wget -q https://dlcdn.apache.org/spark/spark-3.4.1/spark-3.4.1-bin-hadoop3.tgz\n",
        "#Zip into unzip the apche spark\n",
        "!tar -xf spark-3.4.1-bin-hadoop3.tgz\n",
        "#findspark installation\n",
        "!pip install -q findspark\n",
        "#Environment setup for the openjdk and spark\n",
        "import os\n",
        "os.environ[\"JAVA_HOME\"] = \"/usr/lib/jvm/java-8-openjdk-amd64\"\n",
        "os.environ[\"SPARK_HOME\"] = \"/content/spark-3.4.1-bin-hadoop3\"\n",
        "import findspark\n",
        "findspark.init()\n",
        "from pyspark.sql import SparkSession\n",
        "spark = SparkSession.builder.master(\"local[*]\").getOrCreate()"
      ],
      "metadata": {
        "id": "xXWasdzBKhi9"
      },
      "execution_count": null,
      "outputs": []
    },
    {
      "cell_type": "markdown",
      "source": [
        "# **Youtube Data Analysis**"
      ],
      "metadata": {
        "id": "EDfBeyqiLOqF"
      }
    },
    {
      "cell_type": "code",
      "source": [
        "df = spark.read.format('csv').option(\"header\",\"true\").option(\"inferschema\",\"true\").option(\"mode\",\"failfast\").load(\"/content/Global YouTube Statistics.csv\")"
      ],
      "metadata": {
        "id": "BGUZ4uawK-V5"
      },
      "execution_count": null,
      "outputs": []
    },
    {
      "cell_type": "code",
      "source": [
        "df.printSchema()"
      ],
      "metadata": {
        "colab": {
          "base_uri": "https://localhost:8080/"
        },
        "id": "83Zx5fC7LUbB",
        "outputId": "52c47c04-4c39-4c41-cc44-05d467a49520"
      },
      "execution_count": null,
      "outputs": [
        {
          "output_type": "stream",
          "name": "stdout",
          "text": [
            "root\n",
            " |-- rank: integer (nullable = true)\n",
            " |-- Youtuber: string (nullable = true)\n",
            " |-- subscribers: integer (nullable = true)\n",
            " |-- video views: double (nullable = true)\n",
            " |-- category: string (nullable = true)\n",
            " |-- Title: string (nullable = true)\n",
            " |-- uploads: integer (nullable = true)\n",
            " |-- Country: string (nullable = true)\n",
            " |-- Abbreviation: string (nullable = true)\n",
            " |-- channel_type: string (nullable = true)\n",
            " |-- video_views_rank: integer (nullable = true)\n",
            " |-- country_rank: string (nullable = true)\n",
            " |-- channel_type_rank: string (nullable = true)\n",
            " |-- video_views_for_the_last_30_days: string (nullable = true)\n",
            " |-- lowest_monthly_earnings: double (nullable = true)\n",
            " |-- highest_monthly_earnings: double (nullable = true)\n",
            " |-- lowest_yearly_earnings: double (nullable = true)\n",
            " |-- highest_yearly_earnings: double (nullable = true)\n",
            " |-- subscribers_for_last_30_days: string (nullable = true)\n",
            " |-- created_year: string (nullable = true)\n",
            " |-- created_month: string (nullable = true)\n",
            " |-- created_date: string (nullable = true)\n",
            " |-- Gross tertiary education enrollment (%): string (nullable = true)\n",
            " |-- Population: string (nullable = true)\n",
            " |-- Unemployment rate: string (nullable = true)\n",
            " |-- Urban_population: string (nullable = true)\n",
            " |-- Latitude: string (nullable = true)\n",
            " |-- Longitude: string (nullable = true)\n",
            "\n"
          ]
        }
      ]
    },
    {
      "cell_type": "code",
      "source": [
        "df.createOrReplaceTempView(\"yt\")"
      ],
      "metadata": {
        "id": "sjZH_U2OML_y"
      },
      "execution_count": null,
      "outputs": []
    },
    {
      "cell_type": "code",
      "source": [
        "spark.sql(\"Select * from yt\").show()"
      ],
      "metadata": {
        "colab": {
          "base_uri": "https://localhost:8080/"
        },
        "id": "0sKTYCquMQgk",
        "outputId": "d61b4935-4db2-4c55-9526-353e2be4c2af"
      },
      "execution_count": null,
      "outputs": [
        {
          "output_type": "stream",
          "name": "stdout",
          "text": [
            "+----+--------------------+-----------+---------------+----------------+--------------------+-------+--------------+------------+-------------+----------------+------------+-----------------+--------------------------------+-----------------------+------------------------+----------------------+-----------------------+----------------------------+------------+-------------+------------+---------------------------------------+----------+-----------------+----------------+---------+-----------+\n",
            "|rank|            Youtuber|subscribers|    video views|        category|               Title|uploads|       Country|Abbreviation| channel_type|video_views_rank|country_rank|channel_type_rank|video_views_for_the_last_30_days|lowest_monthly_earnings|highest_monthly_earnings|lowest_yearly_earnings|highest_yearly_earnings|subscribers_for_last_30_days|created_year|created_month|created_date|Gross tertiary education enrollment (%)|Population|Unemployment rate|Urban_population| Latitude|  Longitude|\n",
            "+----+--------------------+-----------+---------------+----------------+--------------------+-------+--------------+------------+-------------+----------------+------------+-----------------+--------------------------------+-----------------------+------------------------+----------------------+-----------------------+----------------------------+------------+-------------+------------+---------------------------------------+----------+-----------------+----------------+---------+-----------+\n",
            "|   1|            T-Series|  245000000|        2.28E11|           Music|            T-Series|  20082|         India|          IN|        Music|               1|           1|                1|                      2258000000|               564600.0|               9000000.0|             6800000.0|                1.084E8|                     2000000|        2006|          Mar|          13|                                   28.1|1366417754|             5.36|       471031528|20.593684|   78.96288|\n",
            "|   2|      YouTube Movies|  170000000|            0.0|Film & Animation|       youtubemovies|      1| United States|          US|        Games|         4055159|        7670|             7423|                              12|                    0.0|                    0.05|                  0.04|                   0.58|                         nan|        2006|          Mar|           5|                                   88.2| 328239523|             14.7|       270663028| 37.09024| -95.712891|\n",
            "|   3|             MrBeast|  166000000| 2.836884187E10|   Entertainment|             MrBeast|    741| United States|          US|Entertainment|              48|           1|                1|                      1348000000|               337000.0|               5400000.0|             4000000.0|                 6.47E7|                     8000000|        2012|          Feb|          20|                                   88.2| 328239523|             14.7|       270663028| 37.09024| -95.712891|\n",
            "|   4|Cocomelon - Nurse...|  162000000|        1.64E11|       Education|Cocomelon - Nurse...|    966| United States|          US|    Education|               2|           2|                1|                      1975000000|               493800.0|               7900000.0|             5900000.0|                 9.48E7|                     1000000|        2006|          Sep|           1|                                   88.2| 328239523|             14.7|       270663028| 37.09024| -95.712891|\n",
            "|   5|           SET India|  159000000|        1.48E11|           Shows|           SET India| 116536|         India|          IN|Entertainment|               3|           2|                2|                      1824000000|               455900.0|               7300000.0|             5500000.0|                 8.75E7|                     1000000|        2006|          Sep|          20|                                   28.1|1366417754|             5.36|       471031528|20.593684|   78.96288|\n",
            "|   6|               Music|  119000000|            0.0|             nan|               Music|      0|           nan|         nan|        Music|         4057944|         nan|              nan|                             nan|                    0.0|                     0.0|                   0.0|                    0.0|                         nan|        2013|          Sep|          24|                                    nan|       nan|              nan|             nan|      nan|        nan|\n",
            "|   7| ��� Kids Diana Show|  112000000|9.3247040539E10|  People & Blogs| ��� Kids Diana Show|   1111| United States|          US|Entertainment|               5|           3|                3|                       731674000|               182900.0|               2900000.0|             2200000.0|                 3.51E7|                         nan|        2015|          May|          12|                                   88.2| 328239523|             14.7|       270663028| 37.09024| -95.712891|\n",
            "|   8|           PewDiePie|  111000000|2.9058044447E10|          Gaming|           PewDiePie|   4716|         Japan|          JP|Entertainment|              44|           1|                4|                        39184000|                 9800.0|                156700.0|              117600.0|              1900000.0|                         nan|        2010|          Apr|          29|                                   63.2| 126226568|             2.29|       115782416|36.204824| 138.252924|\n",
            "|   9|         Like Nastya|  106000000|9.0479060027E10|  People & Blogs|    Like Nastya Vlog|    493|        Russia|          RU|       People|             630|           5|               25|                        48947000|                12200.0|                195800.0|              146800.0|              2300000.0|                      100000|        2016|          Jan|          14|                                   81.9| 144373535|             4.59|       107683889| 61.52401| 105.318756|\n",
            "|  10|       Vlad and Niki|   98900000|7.7180169894E10|   Entertainment|       Vlad and Niki|    574| United States|          US|Entertainment|               8|           5|                6|                       580574000|               145100.0|               2300000.0|             1700000.0|                 2.79E7|                      600000|        2018|          Apr|          23|                                   88.2| 328239523|             14.7|       270663028| 37.09024| -95.712891|\n",
            "|  11|   Zee Music Company|   96700000|5.7856289381E10|           Music|   Zee Music Company|   8548|         India|          IN|        Music|              12|           3|                2|                       803613000|               200900.0|               3200000.0|             2400000.0|                 3.86E7|                     1100000|        2014|          Mar|          12|                                   28.1|1366417754|             5.36|       471031528|20.593684|   78.96288|\n",
            "|  12|                 WWE|   96000000|7.7428473662E10|          Sports|                 WWE|  70127| United States|          US|       Sports|               7|           6|                1|                       714614000|               178700.0|               2900000.0|             2100000.0|                 3.43E7|                      600000|        2007|          May|          11|                                   88.2| 328239523|             14.7|       270663028| 37.09024| -95.712891|\n",
            "|  13|              Gaming|   93600000|            0.0|             nan|              Gaming|      0|           nan|         nan|        Games|         4057944|         nan|                1|                             nan|                    0.0|                     0.0|                   0.0|                    0.0|                         nan|        2013|          Dec|          15|                                    nan|       nan|              nan|             nan|      nan|        nan|\n",
            "|  14|           BLACKPINK|   89800000|3.2144597566E10|  People & Blogs|           BLACKPINK|    543|   South Korea|          KR|        Music|              32|           1|                3|                       498930000|               124700.0|               2000000.0|             1500000.0|                 2.39E7|                      700000|        2016|          Jun|          29|                                   94.3|  51709098|             4.15|        42106719|35.907757| 127.766922|\n",
            "|  15|           Goldmines|   86900000| 2.411823058E10|Film & Animation|           goldmines|      1|           nan|         nan|        Music|         4056562|         nan|             5663|                              18|                    0.0|                    0.07|                  0.05|                   0.86|                         nan|        2006|          Aug|          15|                                    nan|       nan|              nan|             nan|      nan|        nan|\n",
            "|  16|            Sony SAB|   83000000|        1.01E11|           Shows|            Sony SAB|  71270|         India|          IN|Entertainment|               4|           5|                7|                      1657000000|               414300.0|               6600000.0|             5000000.0|                 7.96E7|                     1100000|        2007|          Aug|           4|                                   28.1|1366417754|             5.36|       471031528|20.593684|   78.96288|\n",
            "|  17|     5-Minute Crafts|   80100000|2.6236790209E10|   Howto & Style| 5-Minute Crafts 2.0|      1|United Kingdom|          GB|Entertainment|         4057901|        4797|             6781|                               1|                    0.0|                     0.0|                   0.0|                   0.05|                         nan|        2020|          Jul|          27|                                     60|  66834405|             3.85|        55908316|55.378051|  -3.435973|\n",
            "|  18|           BANGTANTV|   75600000|2.0826993957E10|           Music|           BANGTANTV|   2281|   South Korea|          KR|        Music|             112|           2|                4|                       168290000|                42100.0|                673200.0|              504900.0|              8100000.0|                      400000|        2012|          Dec|          17|                                   94.3|  51709098|             4.15|        42106719|35.907757| 127.766922|\n",
            "|  19|              Sports|   75000000|            0.0|             nan|              sports|      3| United States|          US|Entertainment|         3898122|        6266|             5395|                              16|                    0.0|                    0.06|                  0.05|                   0.77|                         nan|        2006|          Jan|          30|                                   88.2| 328239523|             14.7|       270663028| 37.09024| -95.712891|\n",
            "|  20|       Justin Bieber|   71600000|3.0608119724E10|           Music|       Justin Bieber|    249|        Canada|          CA|        Music|              38|           1|                6|                       176326000|                44100.0|                705300.0|              529000.0|              8500000.0|                      100000|        2007|          Jan|          15|                                   68.9|  36991981|             5.56|        30628482|56.130366|-106.346771|\n",
            "+----+--------------------+-----------+---------------+----------------+--------------------+-------+--------------+------------+-------------+----------------+------------+-----------------+--------------------------------+-----------------------+------------------------+----------------------+-----------------------+----------------------------+------------+-------------+------------+---------------------------------------+----------+-----------------+----------------+---------+-----------+\n",
            "only showing top 20 rows\n",
            "\n"
          ]
        }
      ]
    },
    {
      "cell_type": "code",
      "source": [
        "spark.sql(\"Select count(*) from yt\").show()"
      ],
      "metadata": {
        "colab": {
          "base_uri": "https://localhost:8080/"
        },
        "id": "28mNEEYgOEyw",
        "outputId": "90c57f7d-6e12-4345-d16c-2955951bcc50"
      },
      "execution_count": null,
      "outputs": [
        {
          "output_type": "stream",
          "name": "stdout",
          "text": [
            "+--------+\n",
            "|count(1)|\n",
            "+--------+\n",
            "|     995|\n",
            "+--------+\n",
            "\n"
          ]
        }
      ]
    },
    {
      "cell_type": "markdown",
      "source": [
        "**Q1: What is the maximum number of YouTube subscribers according to the channel and the name of the channel**"
      ],
      "metadata": {
        "id": "Xlsgaa99T2fb"
      }
    },
    {
      "cell_type": "code",
      "source": [
        "spark.sql(\"SELECT MAX(subscribers) AS max_subscribers FROM yt\").show()"
      ],
      "metadata": {
        "colab": {
          "base_uri": "https://localhost:8080/"
        },
        "id": "qNc5i_3MPQKw",
        "outputId": "847151ba-47fb-4e9e-ecff-d0cc9a48ceb5"
      },
      "execution_count": null,
      "outputs": [
        {
          "output_type": "stream",
          "name": "stdout",
          "text": [
            "+---------------+\n",
            "|max_subscribers|\n",
            "+---------------+\n",
            "|      245000000|\n",
            "+---------------+\n",
            "\n"
          ]
        }
      ]
    },
    {
      "cell_type": "code",
      "source": [
        "spark.sql(\"SELECT Youtuber FROM yt WHERE subscribers = (SELECT MAX(subscribers) FROM yt)\").show()"
      ],
      "metadata": {
        "colab": {
          "base_uri": "https://localhost:8080/"
        },
        "id": "JtNGEjXKTm0g",
        "outputId": "6b8d3e82-47dd-4f2f-bead-4e22ac6a2dab"
      },
      "execution_count": null,
      "outputs": [
        {
          "output_type": "stream",
          "name": "stdout",
          "text": [
            "+--------+\n",
            "|Youtuber|\n",
            "+--------+\n",
            "|T-Series|\n",
            "+--------+\n",
            "\n"
          ]
        }
      ]
    },
    {
      "cell_type": "markdown",
      "source": [
        "**Q2: What is the minimum number of YouTube subscribers according to the channel and the name of the channel**"
      ],
      "metadata": {
        "id": "i4mOiZGdUCBo"
      }
    },
    {
      "cell_type": "code",
      "source": [
        "spark.sql(\"SELECT MIN(subscribers) AS min_subscribers FROM yt\").show()"
      ],
      "metadata": {
        "colab": {
          "base_uri": "https://localhost:8080/"
        },
        "id": "isfJC0TIUAm8",
        "outputId": "56ef57cb-0c0f-4f60-83d3-f8d91fa323d9"
      },
      "execution_count": null,
      "outputs": [
        {
          "output_type": "stream",
          "name": "stdout",
          "text": [
            "+---------------+\n",
            "|min_subscribers|\n",
            "+---------------+\n",
            "|       12300000|\n",
            "+---------------+\n",
            "\n"
          ]
        }
      ]
    },
    {
      "cell_type": "code",
      "source": [
        "spark.sql(\"SELECT Youtuber FROM yt WHERE subscribers = (SELECT MIN(subscribers) FROM yt)\").show()"
      ],
      "metadata": {
        "colab": {
          "base_uri": "https://localhost:8080/"
        },
        "id": "9kKY9eaAUWSl",
        "outputId": "b1493634-5ebb-46ba-c752-2cec60ae19d8"
      },
      "execution_count": null,
      "outputs": [
        {
          "output_type": "stream",
          "name": "stdout",
          "text": [
            "+--------------------+\n",
            "|            Youtuber|\n",
            "+--------------------+\n",
            "|        Natan por A�|\n",
            "|Free Fire India O...|\n",
            "|               Panda|\n",
            "|         RobTopGames|\n",
            "|        Make Joke Of|\n",
            "+--------------------+\n",
            "\n"
          ]
        }
      ]
    },
    {
      "cell_type": "markdown",
      "source": [
        "**Q3: Find out the total number of views of a particular channel according to its name**"
      ],
      "metadata": {
        "id": "M4FR3JieWI2J"
      }
    },
    {
      "cell_type": "code",
      "source": [
        "spark.sql(\"SELECT `video views` FROM yt WHERE Youtuber = 'WWE'\").show()"
      ],
      "metadata": {
        "colab": {
          "base_uri": "https://localhost:8080/"
        },
        "id": "1yT0aed3Wvbt",
        "outputId": "fbb06dfc-ba6d-4024-fdb3-c68439f60a3f"
      },
      "execution_count": null,
      "outputs": [
        {
          "output_type": "stream",
          "name": "stdout",
          "text": [
            "+---------------+\n",
            "|    video views|\n",
            "+---------------+\n",
            "|7.7428473662E10|\n",
            "+---------------+\n",
            "\n"
          ]
        }
      ]
    },
    {
      "cell_type": "code",
      "source": [
        "spark.sql(\"SELECT `video views` FROM yt WHERE Youtuber = 'RobTopGames'\").show()"
      ],
      "metadata": {
        "colab": {
          "base_uri": "https://localhost:8080/"
        },
        "id": "NH1AjaHDXGd1",
        "outputId": "e5ed6839-6f49-436d-874f-be2233427ee2"
      },
      "execution_count": null,
      "outputs": [
        {
          "output_type": "stream",
          "name": "stdout",
          "text": [
            "+------------+\n",
            "| video views|\n",
            "+------------+\n",
            "|3.74123483E8|\n",
            "+------------+\n",
            "\n"
          ]
        }
      ]
    },
    {
      "cell_type": "code",
      "source": [
        "spark.sql(\"SELECT `video views` FROM yt WHERE Youtuber = 'T-Series'\").show()"
      ],
      "metadata": {
        "colab": {
          "base_uri": "https://localhost:8080/"
        },
        "id": "BBfb4EvOXTcR",
        "outputId": "699b25bd-28b2-43e1-dea8-b50a922c8705"
      },
      "execution_count": null,
      "outputs": [
        {
          "output_type": "stream",
          "name": "stdout",
          "text": [
            "+-----------+\n",
            "|video views|\n",
            "+-----------+\n",
            "|    2.28E11|\n",
            "+-----------+\n",
            "\n"
          ]
        }
      ]
    },
    {
      "cell_type": "markdown",
      "source": [
        "**Q4: Total number of unique category channels on youtube**"
      ],
      "metadata": {
        "id": "CU_gd39iYKVL"
      }
    },
    {
      "cell_type": "code",
      "source": [
        "spark.sql(\"SELECT COUNT(DISTINCT category) AS unique_category_count FROM yt\").show()"
      ],
      "metadata": {
        "colab": {
          "base_uri": "https://localhost:8080/"
        },
        "id": "5qkJ_q1gX6Lv",
        "outputId": "c3d654bb-0725-49e9-e104-eff4370da7d7"
      },
      "execution_count": null,
      "outputs": [
        {
          "output_type": "stream",
          "name": "stdout",
          "text": [
            "+---------------------+\n",
            "|unique_category_count|\n",
            "+---------------------+\n",
            "|                   19|\n",
            "+---------------------+\n",
            "\n"
          ]
        }
      ]
    },
    {
      "cell_type": "markdown",
      "source": [
        "**Q5: Find out which category of videos have the most views on YouTube**"
      ],
      "metadata": {
        "id": "xDoIFm9-ZyHg"
      }
    },
    {
      "cell_type": "code",
      "source": [
        "spark.sql(\"SELECT category, SUM(`video views`) AS total_video_views FROM yt GROUP BY category ORDER BY total_video_views DESC LIMIT 1\").show()"
      ],
      "metadata": {
        "colab": {
          "base_uri": "https://localhost:8080/"
        },
        "id": "JQ41UWtzZcB0",
        "outputId": "4f957403-0b28-4959-e573-30259146c3ca"
      },
      "execution_count": null,
      "outputs": [
        {
          "output_type": "stream",
          "name": "stdout",
          "text": [
            "+--------+-----------------+\n",
            "|category|total_video_views|\n",
            "+--------+-----------------+\n",
            "|   Music|3.121477506633E12|\n",
            "+--------+-----------------+\n",
            "\n"
          ]
        }
      ]
    },
    {
      "cell_type": "code",
      "source": [
        "spark.sql(\"SELECT category, SUM(`video views`) AS total_video_views FROM yt GROUP BY category ORDER BY total_video_views DESC LIMIT 5\").show()"
      ],
      "metadata": {
        "colab": {
          "base_uri": "https://localhost:8080/"
        },
        "id": "sVGdu75YaPyE",
        "outputId": "c6a828ad-760e-4fae-a963-29569ebf9824"
      },
      "execution_count": null,
      "outputs": [
        {
          "output_type": "stream",
          "name": "stdout",
          "text": [
            "+--------------+-----------------+\n",
            "|      category|total_video_views|\n",
            "+--------------+-----------------+\n",
            "|         Music|3.121477506633E12|\n",
            "| Entertainment|2.527739309583E12|\n",
            "|People & Blogs|1.265791201548E12|\n",
            "|        Gaming| 7.17638899629E11|\n",
            "|     Education| 6.96614472899E11|\n",
            "+--------------+-----------------+\n",
            "\n"
          ]
        }
      ]
    },
    {
      "cell_type": "markdown",
      "source": [
        "**Q6: Find out which category of videos have the less views on YouTube**"
      ],
      "metadata": {
        "id": "9seocc-3aUfO"
      }
    },
    {
      "cell_type": "code",
      "source": [
        "spark.sql(\"SELECT category, SUM(`video views`) AS total_video_views FROM yt GROUP BY category ORDER BY total_video_views ASC LIMIT 1\").show()"
      ],
      "metadata": {
        "colab": {
          "base_uri": "https://localhost:8080/"
        },
        "id": "SD9CULeOZ3f0",
        "outputId": "6afadf0d-81ca-4098-9780-0721ef5fe116"
      },
      "execution_count": null,
      "outputs": [
        {
          "output_type": "stream",
          "name": "stdout",
          "text": [
            "+---------------+-----------------+\n",
            "|       category|total_video_views|\n",
            "+---------------+-----------------+\n",
            "|Travel & Events|     3.14088314E9|\n",
            "+---------------+-----------------+\n",
            "\n"
          ]
        }
      ]
    },
    {
      "cell_type": "code",
      "source": [
        "spark.sql(\"SELECT category, SUM(`video views`) AS total_video_views FROM yt GROUP BY category ORDER BY total_video_views ASC LIMIT 5\").show()"
      ],
      "metadata": {
        "colab": {
          "base_uri": "https://localhost:8080/"
        },
        "id": "cB4heiY2afYk",
        "outputId": "f0788a94-6de5-45ed-d09a-f12c541aea33"
      },
      "execution_count": null,
      "outputs": [
        {
          "output_type": "stream",
          "name": "stdout",
          "text": [
            "+--------------------+-----------------+\n",
            "|            category|total_video_views|\n",
            "+--------------------+-----------------+\n",
            "|     Travel & Events|     3.14088314E9|\n",
            "|Nonprofits & Acti...|  1.0862911785E10|\n",
            "|    Autos & Vehicles|  1.5003458141E10|\n",
            "|              Movies|  1.5383255129E10|\n",
            "|            Trailers|  3.3262717607E10|\n",
            "+--------------------+-----------------+\n",
            "\n"
          ]
        }
      ]
    },
    {
      "cell_type": "markdown",
      "source": [
        "**Q7: Find the title value corresponding to the maximum number of views from the video views column from the title column.**"
      ],
      "metadata": {
        "id": "2yuf_djobHwJ"
      }
    },
    {
      "cell_type": "code",
      "source": [
        "spark.sql(\"SELECT Title FROM yt WHERE `video views` = (SELECT MAX(`video views`) FROM yt)\").show()"
      ],
      "metadata": {
        "colab": {
          "base_uri": "https://localhost:8080/"
        },
        "id": "AeJMKJ3VbC8F",
        "outputId": "61a812a3-214d-434f-cf94-85ea81276dbe"
      },
      "execution_count": null,
      "outputs": [
        {
          "output_type": "stream",
          "name": "stdout",
          "text": [
            "+--------+\n",
            "|   Title|\n",
            "+--------+\n",
            "|T-Series|\n",
            "+--------+\n",
            "\n"
          ]
        }
      ]
    },
    {
      "cell_type": "markdown",
      "source": [
        "**Q8: Find the title value corresponding to the minimum number of views from the video views column from the title column.**"
      ],
      "metadata": {
        "id": "TUig0logbQFs"
      }
    },
    {
      "cell_type": "code",
      "source": [
        "spark.sql(\"SELECT Title FROM yt WHERE `video views` = (SELECT MIN(`video views`) FROM yt)\").show()"
      ],
      "metadata": {
        "colab": {
          "base_uri": "https://localhost:8080/"
        },
        "id": "lVfIIUHWbPbW",
        "outputId": "e0eea918-a1bd-4be4-f2fa-dfbd603bc4d7"
      },
      "execution_count": null,
      "outputs": [
        {
          "output_type": "stream",
          "name": "stdout",
          "text": [
            "+------------------+\n",
            "|             Title|\n",
            "+------------------+\n",
            "|     youtubemovies|\n",
            "|             Music|\n",
            "|            Gaming|\n",
            "|            sports|\n",
            "|              News|\n",
            "|Popular on Youtube|\n",
            "| Minecraft - Topic|\n",
            "|              Live|\n",
            "+------------------+\n",
            "\n"
          ]
        }
      ]
    },
    {
      "cell_type": "markdown",
      "source": [
        "**Q9: Find out which channel has the maximum video uploaded**"
      ],
      "metadata": {
        "id": "GRK7SsNhcUow"
      }
    },
    {
      "cell_type": "code",
      "source": [
        "spark.sql(\"SELECT Youtuber, uploads FROM yt WHERE uploads = (SELECT MAX(uploads) FROM yt)\").show()"
      ],
      "metadata": {
        "colab": {
          "base_uri": "https://localhost:8080/"
        },
        "id": "a3sFiHkKcbVh",
        "outputId": "73db0178-f13e-45bf-f8b2-d66efa8dbd52"
      },
      "execution_count": null,
      "outputs": [
        {
          "output_type": "stream",
          "name": "stdout",
          "text": [
            "+--------+-------+\n",
            "|Youtuber|uploads|\n",
            "+--------+-------+\n",
            "|ABP NEWS| 301308|\n",
            "+--------+-------+\n",
            "\n"
          ]
        }
      ]
    },
    {
      "cell_type": "markdown",
      "source": [
        "**Q10: Find out which channel has the minimum video uploaded**"
      ],
      "metadata": {
        "id": "c8ciWdrYc4g-"
      }
    },
    {
      "cell_type": "code",
      "source": [
        "spark.sql(\"SELECT Youtuber, uploads FROM yt WHERE uploads = (SELECT MIN(uploads) FROM yt)\").show()"
      ],
      "metadata": {
        "colab": {
          "base_uri": "https://localhost:8080/"
        },
        "id": "YHLuhxAJck-U",
        "outputId": "8100222a-c8da-43d5-95c7-3bf0677b23ab"
      },
      "execution_count": null,
      "outputs": [
        {
          "output_type": "stream",
          "name": "stdout",
          "text": [
            "+--------------------+-------+\n",
            "|            Youtuber|uploads|\n",
            "+--------------------+-------+\n",
            "|               Music|      0|\n",
            "|              Gaming|      0|\n",
            "|         BRIGHT SIDE|      0|\n",
            "|    Luisito Comunica|      0|\n",
            "|                News|      0|\n",
            "|T-Series Apna Punjab|      0|\n",
            "|          Luis Fonsi|      0|\n",
            "|       Frost Diamond|      0|\n",
            "|  Aditya Music India|      0|\n",
            "|  Sandeep Maheshwari|      0|\n",
            "|1MILLION Dance St...|      0|\n",
            "|       Fede Vigevani|      0|\n",
            "|         Chris Brown|      0|\n",
            "|            FaZe Rug|      0|\n",
            "|         Alan Becker|      0|\n",
            "|                YOLO|      0|\n",
            "|   Minecraft - Topic|      0|\n",
            "|         Linkin Park|      0|\n",
            "|      Family GamesTV|      0|\n",
            "|    Robin Hood Gamer|      0|\n",
            "+--------------------+-------+\n",
            "only showing top 20 rows\n",
            "\n"
          ]
        }
      ]
    },
    {
      "cell_type": "markdown",
      "source": [
        "**Q11: Total number of videos uploaded to YouTube**"
      ],
      "metadata": {
        "id": "NxSvS3wwdcVY"
      }
    },
    {
      "cell_type": "code",
      "source": [
        "spark.sql(\"SELECT SUM(uploads) AS total_uploads FROM yt\").show()"
      ],
      "metadata": {
        "colab": {
          "base_uri": "https://localhost:8080/"
        },
        "id": "yPF8jXsNdWET",
        "outputId": "00528a51-acc8-422a-ea69-093c4ed2c521"
      },
      "execution_count": null,
      "outputs": [
        {
          "output_type": "stream",
          "name": "stdout",
          "text": [
            "+-------------+\n",
            "|total_uploads|\n",
            "+-------------+\n",
            "|      9141190|\n",
            "+-------------+\n",
            "\n"
          ]
        }
      ]
    },
    {
      "cell_type": "code",
      "source": [
        "spark.sql(\"Select * from yt\").show()"
      ],
      "metadata": {
        "colab": {
          "base_uri": "https://localhost:8080/"
        },
        "id": "_LGgXyDtdlXU",
        "outputId": "474283ff-6a49-4bff-ce7e-204c2f74b4ea"
      },
      "execution_count": null,
      "outputs": [
        {
          "output_type": "stream",
          "name": "stdout",
          "text": [
            "+----+--------------------+-----------+---------------+----------------+--------------------+-------+--------------+------------+-------------+----------------+------------+-----------------+--------------------------------+-----------------------+------------------------+----------------------+-----------------------+----------------------------+------------+-------------+------------+---------------------------------------+----------+-----------------+----------------+---------+-----------+\n",
            "|rank|            Youtuber|subscribers|    video views|        category|               Title|uploads|       Country|Abbreviation| channel_type|video_views_rank|country_rank|channel_type_rank|video_views_for_the_last_30_days|lowest_monthly_earnings|highest_monthly_earnings|lowest_yearly_earnings|highest_yearly_earnings|subscribers_for_last_30_days|created_year|created_month|created_date|Gross tertiary education enrollment (%)|Population|Unemployment rate|Urban_population| Latitude|  Longitude|\n",
            "+----+--------------------+-----------+---------------+----------------+--------------------+-------+--------------+------------+-------------+----------------+------------+-----------------+--------------------------------+-----------------------+------------------------+----------------------+-----------------------+----------------------------+------------+-------------+------------+---------------------------------------+----------+-----------------+----------------+---------+-----------+\n",
            "|   1|            T-Series|  245000000|        2.28E11|           Music|            T-Series|  20082|         India|          IN|        Music|               1|           1|                1|                      2258000000|               564600.0|               9000000.0|             6800000.0|                1.084E8|                     2000000|        2006|          Mar|          13|                                   28.1|1366417754|             5.36|       471031528|20.593684|   78.96288|\n",
            "|   2|      YouTube Movies|  170000000|            0.0|Film & Animation|       youtubemovies|      1| United States|          US|        Games|         4055159|        7670|             7423|                              12|                    0.0|                    0.05|                  0.04|                   0.58|                         nan|        2006|          Mar|           5|                                   88.2| 328239523|             14.7|       270663028| 37.09024| -95.712891|\n",
            "|   3|             MrBeast|  166000000| 2.836884187E10|   Entertainment|             MrBeast|    741| United States|          US|Entertainment|              48|           1|                1|                      1348000000|               337000.0|               5400000.0|             4000000.0|                 6.47E7|                     8000000|        2012|          Feb|          20|                                   88.2| 328239523|             14.7|       270663028| 37.09024| -95.712891|\n",
            "|   4|Cocomelon - Nurse...|  162000000|        1.64E11|       Education|Cocomelon - Nurse...|    966| United States|          US|    Education|               2|           2|                1|                      1975000000|               493800.0|               7900000.0|             5900000.0|                 9.48E7|                     1000000|        2006|          Sep|           1|                                   88.2| 328239523|             14.7|       270663028| 37.09024| -95.712891|\n",
            "|   5|           SET India|  159000000|        1.48E11|           Shows|           SET India| 116536|         India|          IN|Entertainment|               3|           2|                2|                      1824000000|               455900.0|               7300000.0|             5500000.0|                 8.75E7|                     1000000|        2006|          Sep|          20|                                   28.1|1366417754|             5.36|       471031528|20.593684|   78.96288|\n",
            "|   6|               Music|  119000000|            0.0|             nan|               Music|      0|           nan|         nan|        Music|         4057944|         nan|              nan|                             nan|                    0.0|                     0.0|                   0.0|                    0.0|                         nan|        2013|          Sep|          24|                                    nan|       nan|              nan|             nan|      nan|        nan|\n",
            "|   7| ��� Kids Diana Show|  112000000|9.3247040539E10|  People & Blogs| ��� Kids Diana Show|   1111| United States|          US|Entertainment|               5|           3|                3|                       731674000|               182900.0|               2900000.0|             2200000.0|                 3.51E7|                         nan|        2015|          May|          12|                                   88.2| 328239523|             14.7|       270663028| 37.09024| -95.712891|\n",
            "|   8|           PewDiePie|  111000000|2.9058044447E10|          Gaming|           PewDiePie|   4716|         Japan|          JP|Entertainment|              44|           1|                4|                        39184000|                 9800.0|                156700.0|              117600.0|              1900000.0|                         nan|        2010|          Apr|          29|                                   63.2| 126226568|             2.29|       115782416|36.204824| 138.252924|\n",
            "|   9|         Like Nastya|  106000000|9.0479060027E10|  People & Blogs|    Like Nastya Vlog|    493|        Russia|          RU|       People|             630|           5|               25|                        48947000|                12200.0|                195800.0|              146800.0|              2300000.0|                      100000|        2016|          Jan|          14|                                   81.9| 144373535|             4.59|       107683889| 61.52401| 105.318756|\n",
            "|  10|       Vlad and Niki|   98900000|7.7180169894E10|   Entertainment|       Vlad and Niki|    574| United States|          US|Entertainment|               8|           5|                6|                       580574000|               145100.0|               2300000.0|             1700000.0|                 2.79E7|                      600000|        2018|          Apr|          23|                                   88.2| 328239523|             14.7|       270663028| 37.09024| -95.712891|\n",
            "|  11|   Zee Music Company|   96700000|5.7856289381E10|           Music|   Zee Music Company|   8548|         India|          IN|        Music|              12|           3|                2|                       803613000|               200900.0|               3200000.0|             2400000.0|                 3.86E7|                     1100000|        2014|          Mar|          12|                                   28.1|1366417754|             5.36|       471031528|20.593684|   78.96288|\n",
            "|  12|                 WWE|   96000000|7.7428473662E10|          Sports|                 WWE|  70127| United States|          US|       Sports|               7|           6|                1|                       714614000|               178700.0|               2900000.0|             2100000.0|                 3.43E7|                      600000|        2007|          May|          11|                                   88.2| 328239523|             14.7|       270663028| 37.09024| -95.712891|\n",
            "|  13|              Gaming|   93600000|            0.0|             nan|              Gaming|      0|           nan|         nan|        Games|         4057944|         nan|                1|                             nan|                    0.0|                     0.0|                   0.0|                    0.0|                         nan|        2013|          Dec|          15|                                    nan|       nan|              nan|             nan|      nan|        nan|\n",
            "|  14|           BLACKPINK|   89800000|3.2144597566E10|  People & Blogs|           BLACKPINK|    543|   South Korea|          KR|        Music|              32|           1|                3|                       498930000|               124700.0|               2000000.0|             1500000.0|                 2.39E7|                      700000|        2016|          Jun|          29|                                   94.3|  51709098|             4.15|        42106719|35.907757| 127.766922|\n",
            "|  15|           Goldmines|   86900000| 2.411823058E10|Film & Animation|           goldmines|      1|           nan|         nan|        Music|         4056562|         nan|             5663|                              18|                    0.0|                    0.07|                  0.05|                   0.86|                         nan|        2006|          Aug|          15|                                    nan|       nan|              nan|             nan|      nan|        nan|\n",
            "|  16|            Sony SAB|   83000000|        1.01E11|           Shows|            Sony SAB|  71270|         India|          IN|Entertainment|               4|           5|                7|                      1657000000|               414300.0|               6600000.0|             5000000.0|                 7.96E7|                     1100000|        2007|          Aug|           4|                                   28.1|1366417754|             5.36|       471031528|20.593684|   78.96288|\n",
            "|  17|     5-Minute Crafts|   80100000|2.6236790209E10|   Howto & Style| 5-Minute Crafts 2.0|      1|United Kingdom|          GB|Entertainment|         4057901|        4797|             6781|                               1|                    0.0|                     0.0|                   0.0|                   0.05|                         nan|        2020|          Jul|          27|                                     60|  66834405|             3.85|        55908316|55.378051|  -3.435973|\n",
            "|  18|           BANGTANTV|   75600000|2.0826993957E10|           Music|           BANGTANTV|   2281|   South Korea|          KR|        Music|             112|           2|                4|                       168290000|                42100.0|                673200.0|              504900.0|              8100000.0|                      400000|        2012|          Dec|          17|                                   94.3|  51709098|             4.15|        42106719|35.907757| 127.766922|\n",
            "|  19|              Sports|   75000000|            0.0|             nan|              sports|      3| United States|          US|Entertainment|         3898122|        6266|             5395|                              16|                    0.0|                    0.06|                  0.05|                   0.77|                         nan|        2006|          Jan|          30|                                   88.2| 328239523|             14.7|       270663028| 37.09024| -95.712891|\n",
            "|  20|       Justin Bieber|   71600000|3.0608119724E10|           Music|       Justin Bieber|    249|        Canada|          CA|        Music|              38|           1|                6|                       176326000|                44100.0|                705300.0|              529000.0|              8500000.0|                      100000|        2007|          Jan|          15|                                   68.9|  36991981|             5.56|        30628482|56.130366|-106.346771|\n",
            "+----+--------------------+-----------+---------------+----------------+--------------------+-------+--------------+------------+-------------+----------------+------------+-----------------+--------------------------------+-----------------------+------------------------+----------------------+-----------------------+----------------------------+------------+-------------+------------+---------------------------------------+----------+-----------------+----------------+---------+-----------+\n",
            "only showing top 20 rows\n",
            "\n"
          ]
        }
      ]
    },
    {
      "cell_type": "markdown",
      "source": [
        "**Q12: Find out number of countries are there channels on YouTube**"
      ],
      "metadata": {
        "id": "bbnS3xPBeH8X"
      }
    },
    {
      "cell_type": "code",
      "source": [
        "spark.sql(\"SELECT COUNT(DISTINCT Country) AS unique_country_count FROM yt\").show()"
      ],
      "metadata": {
        "colab": {
          "base_uri": "https://localhost:8080/"
        },
        "id": "FIWJL7C3d6-w",
        "outputId": "213463a0-f6fb-4de5-a3a7-9f33cffcc2c1"
      },
      "execution_count": null,
      "outputs": [
        {
          "output_type": "stream",
          "name": "stdout",
          "text": [
            "+--------------------+\n",
            "|unique_country_count|\n",
            "+--------------------+\n",
            "|                  50|\n",
            "+--------------------+\n",
            "\n"
          ]
        }
      ]
    },
    {
      "cell_type": "markdown",
      "source": [
        "**Q13: Which country has the highest number of YouTube channels and the number of channels**"
      ],
      "metadata": {
        "id": "w7KlTKhBe7q4"
      }
    },
    {
      "cell_type": "code",
      "source": [
        "spark.sql(\"SELECT Country, COUNT(*) AS count FROM yt GROUP BY Country ORDER BY count DESC LIMIT 1\").show()"
      ],
      "metadata": {
        "colab": {
          "base_uri": "https://localhost:8080/"
        },
        "id": "OAh7VvP6ewjA",
        "outputId": "5b179785-ec60-4af0-e9cf-81bfdf69b67d"
      },
      "execution_count": null,
      "outputs": [
        {
          "output_type": "stream",
          "name": "stdout",
          "text": [
            "+-------------+-----+\n",
            "|      Country|count|\n",
            "+-------------+-----+\n",
            "|United States|  313|\n",
            "+-------------+-----+\n",
            "\n"
          ]
        }
      ]
    },
    {
      "cell_type": "markdown",
      "source": [
        "**Q14: Which country has the lowest number of YouTube channels and the number of channels**"
      ],
      "metadata": {
        "id": "zsFky2eTfFVm"
      }
    },
    {
      "cell_type": "code",
      "source": [
        "spark.sql(\"SELECT Country, COUNT(*) AS count FROM yt GROUP BY Country ORDER BY count ASC LIMIT 1\").show()"
      ],
      "metadata": {
        "colab": {
          "base_uri": "https://localhost:8080/"
        },
        "id": "LK5h7zlVfJmj",
        "outputId": "920ba987-c3e5-4450-dc2e-ab37c58c9a64"
      },
      "execution_count": null,
      "outputs": [
        {
          "output_type": "stream",
          "name": "stdout",
          "text": [
            "+--------+-----+\n",
            "| Country|count|\n",
            "+--------+-----+\n",
            "|Malaysia|    1|\n",
            "+--------+-----+\n",
            "\n"
          ]
        }
      ]
    },
    {
      "cell_type": "markdown",
      "source": [
        "**Q15: Total number of unique types of channels on youtube**"
      ],
      "metadata": {
        "id": "L9zeD1JagUvs"
      }
    },
    {
      "cell_type": "code",
      "source": [
        "spark.sql(\"SELECT COUNT(DISTINCT channel_type) AS unique_channel_type_count FROM yt\").show()"
      ],
      "metadata": {
        "colab": {
          "base_uri": "https://localhost:8080/"
        },
        "id": "hNptoMNgfumy",
        "outputId": "a29c7627-e2a0-4913-e5a6-c2b7a7760e4e"
      },
      "execution_count": null,
      "outputs": [
        {
          "output_type": "stream",
          "name": "stdout",
          "text": [
            "+-------------------------+\n",
            "|unique_channel_type_count|\n",
            "+-------------------------+\n",
            "|                       15|\n",
            "+-------------------------+\n",
            "\n"
          ]
        }
      ]
    }
  ]
}