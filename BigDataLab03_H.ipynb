{
  "nbformat": 4,
  "nbformat_minor": 0,
  "metadata": {
    "colab": {
      "provenance": []
    },
    "kernelspec": {
      "name": "python3",
      "display_name": "Python 3"
    },
    "language_info": {
      "name": "python"
    }
  },
  "cells": [
    {
      "cell_type": "markdown",
      "source": [
        "# Lab-3: Null value handling emploing severel techniques"
      ],
      "metadata": {
        "id": "Z-gzTqfsJFLJ"
      }
    },
    {
      "cell_type": "markdown",
      "source": [
        "# Paractice a Problem"
      ],
      "metadata": {
        "id": "JYprf-VFJvK7"
      }
    },
    {
      "cell_type": "code",
      "execution_count": 3,
      "metadata": {
        "id": "QPR04VIumW_J"
      },
      "outputs": [],
      "source": [
        "#openjdk installation\n",
        "!apt-get install openjdk-8-jdk-headless -qq > /dev/null\n",
        "#Downloading the apche spark with specific version\n",
        "!wget -q https://dlcdn.apache.org/spark/spark-3.4.1/spark-3.4.1-bin-hadoop3.tgz\n",
        "#Zip into unzip the apche spark\n",
        "!tar -xf spark-3.4.1-bin-hadoop3.tgz\n",
        "#findspark installation\n",
        "!pip install -q findspark\n",
        "#Environment setup for the openjdk and spark\n",
        "import os\n",
        "os.environ[\"JAVA_HOME\"] = \"/usr/lib/jvm/java-8-openjdk-amd64\"\n",
        "os.environ[\"SPARK_HOME\"] = \"/content/spark-3.4.1-bin-hadoop3\"\n",
        "import findspark\n",
        "findspark.init()\n",
        "from pyspark.sql import SparkSession\n",
        "spark = SparkSession.builder.master(\"local[*]\").getOrCreate()"
      ]
    },
    {
      "cell_type": "code",
      "source": [
        "# Upload the file\n",
        "from google.colab import files\n",
        "files.upload()"
      ],
      "metadata": {
        "colab": {
          "base_uri": "https://localhost:8080/",
          "height": 91
        },
        "id": "EKvCJUoTqw4P",
        "outputId": "e60a49f5-28a1-4a23-8b95-ca9ea9d78ddb"
      },
      "execution_count": 11,
      "outputs": [
        {
          "output_type": "display_data",
          "data": {
            "text/plain": [
              "<IPython.core.display.HTML object>"
            ],
            "text/html": [
              "\n",
              "     <input type=\"file\" id=\"files-e9db6ed4-7214-4505-98c4-4a0996901286\" name=\"files[]\" multiple disabled\n",
              "        style=\"border:none\" />\n",
              "     <output id=\"result-e9db6ed4-7214-4505-98c4-4a0996901286\">\n",
              "      Upload widget is only available when the cell has been executed in the\n",
              "      current browser session. Please rerun this cell to enable.\n",
              "      </output>\n",
              "      <script>// Copyright 2017 Google LLC\n",
              "//\n",
              "// Licensed under the Apache License, Version 2.0 (the \"License\");\n",
              "// you may not use this file except in compliance with the License.\n",
              "// You may obtain a copy of the License at\n",
              "//\n",
              "//      http://www.apache.org/licenses/LICENSE-2.0\n",
              "//\n",
              "// Unless required by applicable law or agreed to in writing, software\n",
              "// distributed under the License is distributed on an \"AS IS\" BASIS,\n",
              "// WITHOUT WARRANTIES OR CONDITIONS OF ANY KIND, either express or implied.\n",
              "// See the License for the specific language governing permissions and\n",
              "// limitations under the License.\n",
              "\n",
              "/**\n",
              " * @fileoverview Helpers for google.colab Python module.\n",
              " */\n",
              "(function(scope) {\n",
              "function span(text, styleAttributes = {}) {\n",
              "  const element = document.createElement('span');\n",
              "  element.textContent = text;\n",
              "  for (const key of Object.keys(styleAttributes)) {\n",
              "    element.style[key] = styleAttributes[key];\n",
              "  }\n",
              "  return element;\n",
              "}\n",
              "\n",
              "// Max number of bytes which will be uploaded at a time.\n",
              "const MAX_PAYLOAD_SIZE = 100 * 1024;\n",
              "\n",
              "function _uploadFiles(inputId, outputId) {\n",
              "  const steps = uploadFilesStep(inputId, outputId);\n",
              "  const outputElement = document.getElementById(outputId);\n",
              "  // Cache steps on the outputElement to make it available for the next call\n",
              "  // to uploadFilesContinue from Python.\n",
              "  outputElement.steps = steps;\n",
              "\n",
              "  return _uploadFilesContinue(outputId);\n",
              "}\n",
              "\n",
              "// This is roughly an async generator (not supported in the browser yet),\n",
              "// where there are multiple asynchronous steps and the Python side is going\n",
              "// to poll for completion of each step.\n",
              "// This uses a Promise to block the python side on completion of each step,\n",
              "// then passes the result of the previous step as the input to the next step.\n",
              "function _uploadFilesContinue(outputId) {\n",
              "  const outputElement = document.getElementById(outputId);\n",
              "  const steps = outputElement.steps;\n",
              "\n",
              "  const next = steps.next(outputElement.lastPromiseValue);\n",
              "  return Promise.resolve(next.value.promise).then((value) => {\n",
              "    // Cache the last promise value to make it available to the next\n",
              "    // step of the generator.\n",
              "    outputElement.lastPromiseValue = value;\n",
              "    return next.value.response;\n",
              "  });\n",
              "}\n",
              "\n",
              "/**\n",
              " * Generator function which is called between each async step of the upload\n",
              " * process.\n",
              " * @param {string} inputId Element ID of the input file picker element.\n",
              " * @param {string} outputId Element ID of the output display.\n",
              " * @return {!Iterable<!Object>} Iterable of next steps.\n",
              " */\n",
              "function* uploadFilesStep(inputId, outputId) {\n",
              "  const inputElement = document.getElementById(inputId);\n",
              "  inputElement.disabled = false;\n",
              "\n",
              "  const outputElement = document.getElementById(outputId);\n",
              "  outputElement.innerHTML = '';\n",
              "\n",
              "  const pickedPromise = new Promise((resolve) => {\n",
              "    inputElement.addEventListener('change', (e) => {\n",
              "      resolve(e.target.files);\n",
              "    });\n",
              "  });\n",
              "\n",
              "  const cancel = document.createElement('button');\n",
              "  inputElement.parentElement.appendChild(cancel);\n",
              "  cancel.textContent = 'Cancel upload';\n",
              "  const cancelPromise = new Promise((resolve) => {\n",
              "    cancel.onclick = () => {\n",
              "      resolve(null);\n",
              "    };\n",
              "  });\n",
              "\n",
              "  // Wait for the user to pick the files.\n",
              "  const files = yield {\n",
              "    promise: Promise.race([pickedPromise, cancelPromise]),\n",
              "    response: {\n",
              "      action: 'starting',\n",
              "    }\n",
              "  };\n",
              "\n",
              "  cancel.remove();\n",
              "\n",
              "  // Disable the input element since further picks are not allowed.\n",
              "  inputElement.disabled = true;\n",
              "\n",
              "  if (!files) {\n",
              "    return {\n",
              "      response: {\n",
              "        action: 'complete',\n",
              "      }\n",
              "    };\n",
              "  }\n",
              "\n",
              "  for (const file of files) {\n",
              "    const li = document.createElement('li');\n",
              "    li.append(span(file.name, {fontWeight: 'bold'}));\n",
              "    li.append(span(\n",
              "        `(${file.type || 'n/a'}) - ${file.size} bytes, ` +\n",
              "        `last modified: ${\n",
              "            file.lastModifiedDate ? file.lastModifiedDate.toLocaleDateString() :\n",
              "                                    'n/a'} - `));\n",
              "    const percent = span('0% done');\n",
              "    li.appendChild(percent);\n",
              "\n",
              "    outputElement.appendChild(li);\n",
              "\n",
              "    const fileDataPromise = new Promise((resolve) => {\n",
              "      const reader = new FileReader();\n",
              "      reader.onload = (e) => {\n",
              "        resolve(e.target.result);\n",
              "      };\n",
              "      reader.readAsArrayBuffer(file);\n",
              "    });\n",
              "    // Wait for the data to be ready.\n",
              "    let fileData = yield {\n",
              "      promise: fileDataPromise,\n",
              "      response: {\n",
              "        action: 'continue',\n",
              "      }\n",
              "    };\n",
              "\n",
              "    // Use a chunked sending to avoid message size limits. See b/62115660.\n",
              "    let position = 0;\n",
              "    do {\n",
              "      const length = Math.min(fileData.byteLength - position, MAX_PAYLOAD_SIZE);\n",
              "      const chunk = new Uint8Array(fileData, position, length);\n",
              "      position += length;\n",
              "\n",
              "      const base64 = btoa(String.fromCharCode.apply(null, chunk));\n",
              "      yield {\n",
              "        response: {\n",
              "          action: 'append',\n",
              "          file: file.name,\n",
              "          data: base64,\n",
              "        },\n",
              "      };\n",
              "\n",
              "      let percentDone = fileData.byteLength === 0 ?\n",
              "          100 :\n",
              "          Math.round((position / fileData.byteLength) * 100);\n",
              "      percent.textContent = `${percentDone}% done`;\n",
              "\n",
              "    } while (position < fileData.byteLength);\n",
              "  }\n",
              "\n",
              "  // All done.\n",
              "  yield {\n",
              "    response: {\n",
              "      action: 'complete',\n",
              "    }\n",
              "  };\n",
              "}\n",
              "\n",
              "scope.google = scope.google || {};\n",
              "scope.google.colab = scope.google.colab || {};\n",
              "scope.google.colab._files = {\n",
              "  _uploadFiles,\n",
              "  _uploadFilesContinue,\n",
              "};\n",
              "})(self);\n",
              "</script> "
            ]
          },
          "metadata": {}
        },
        {
          "output_type": "stream",
          "name": "stdout",
          "text": [
            "Saving lab3.csv to lab3 (1).csv\n"
          ]
        },
        {
          "output_type": "execute_result",
          "data": {
            "text/plain": [
              "{'lab3 (1).csv': b'Name,Age,Experience,Salary\\nMousumi,50,20,30000\\n,,,\\nNahid,22,5,10000\\nSalauddin,24,12,50000\\nDurjoy,18,,\\nAsha,,,\\nMafiul,27,14,60000\\n'}"
            ]
          },
          "metadata": {},
          "execution_count": 11
        }
      ]
    },
    {
      "cell_type": "code",
      "source": [
        "df = spark.read.format('csv').option(\"header\",\"true\").option(\"inferschema\",\"true\").option(\"mode\",\"failfast\").load(\"lab3 (1).csv\")"
      ],
      "metadata": {
        "id": "BDw8Pda_t_nS"
      },
      "execution_count": 21,
      "outputs": []
    },
    {
      "cell_type": "code",
      "source": [
        "df.printSchema()"
      ],
      "metadata": {
        "colab": {
          "base_uri": "https://localhost:8080/"
        },
        "id": "6QITIcPiuHSG",
        "outputId": "fbb43dc4-5144-4b6b-a331-ddee48a46537"
      },
      "execution_count": 22,
      "outputs": [
        {
          "output_type": "stream",
          "name": "stdout",
          "text": [
            "root\n",
            " |-- Name: string (nullable = true)\n",
            " |-- Age: integer (nullable = true)\n",
            " |-- Experience: integer (nullable = true)\n",
            " |-- Salary: integer (nullable = true)\n",
            "\n"
          ]
        }
      ]
    },
    {
      "cell_type": "code",
      "source": [
        "df.show()"
      ],
      "metadata": {
        "colab": {
          "base_uri": "https://localhost:8080/"
        },
        "id": "ZfQ-WEd4uJJQ",
        "outputId": "0079da41-609c-484d-e7f4-1f56573efe14"
      },
      "execution_count": 17,
      "outputs": [
        {
          "output_type": "stream",
          "name": "stdout",
          "text": [
            "+---------+----+----------+------+\n",
            "|     Name| Age|Experience|Salary|\n",
            "+---------+----+----------+------+\n",
            "|  Mousumi|  50|        20| 30000|\n",
            "|     null|null|      null|  null|\n",
            "|    Nahid|  22|         5| 10000|\n",
            "|Salauddin|  24|        12| 50000|\n",
            "|   Durjoy|  18|      null|  null|\n",
            "|     Asha|null|      null|  null|\n",
            "|   Mafiul|  27|        14| 60000|\n",
            "+---------+----+----------+------+\n",
            "\n"
          ]
        }
      ]
    },
    {
      "cell_type": "code",
      "source": [
        "type(df)"
      ],
      "metadata": {
        "colab": {
          "base_uri": "https://localhost:8080/"
        },
        "id": "LqdSc4E8uO1M",
        "outputId": "fd14dfdc-2167-43a5-e297-a0c207ed4e02"
      },
      "execution_count": 18,
      "outputs": [
        {
          "output_type": "execute_result",
          "data": {
            "text/plain": [
              "pyspark.sql.dataframe.DataFrame"
            ]
          },
          "metadata": {},
          "execution_count": 18
        }
      ]
    },
    {
      "cell_type": "code",
      "source": [
        "df.head(2)"
      ],
      "metadata": {
        "colab": {
          "base_uri": "https://localhost:8080/"
        },
        "id": "FHECIPWBuSsx",
        "outputId": "75ef8d4c-7f77-41e6-acce-4ee2ed45238e"
      },
      "execution_count": 10,
      "outputs": [
        {
          "output_type": "execute_result",
          "data": {
            "text/plain": [
              "[Row(Name='Mousumi', Age=50, Experience=20, Salary=30000),\n",
              " Row(Name='Prerona', Age=None, Experience=None, Salary=40000)]"
            ]
          },
          "metadata": {},
          "execution_count": 10
        }
      ]
    },
    {
      "cell_type": "code",
      "source": [
        "df.na.drop(how=\"all\").show()"
      ],
      "metadata": {
        "colab": {
          "base_uri": "https://localhost:8080/"
        },
        "id": "ispGB1RLxCFl",
        "outputId": "e01d274f-c5ce-4e6e-cc0a-f58cc2e4430b"
      },
      "execution_count": 23,
      "outputs": [
        {
          "output_type": "stream",
          "name": "stdout",
          "text": [
            "+---------+----+----------+------+\n",
            "|     Name| Age|Experience|Salary|\n",
            "+---------+----+----------+------+\n",
            "|  Mousumi|  50|        20| 30000|\n",
            "|    Nahid|  22|         5| 10000|\n",
            "|Salauddin|  24|        12| 50000|\n",
            "|   Durjoy|  18|      null|  null|\n",
            "|     Asha|null|      null|  null|\n",
            "|   Mafiul|  27|        14| 60000|\n",
            "+---------+----+----------+------+\n",
            "\n"
          ]
        }
      ]
    },
    {
      "cell_type": "markdown",
      "source": [
        "# Main Lab"
      ],
      "metadata": {
        "id": "tc8elaJrx45b"
      }
    },
    {
      "cell_type": "code",
      "source": [
        "df = spark.read.format('csv').option(\"header\",\"true\").option(\"inferschema\",\"true\").option(\"mode\",\"failfast\").load(\"lab3.csv\")"
      ],
      "metadata": {
        "id": "PlDUYdsrxIAk"
      },
      "execution_count": 37,
      "outputs": []
    },
    {
      "cell_type": "code",
      "source": [
        "df.na.drop().show()"
      ],
      "metadata": {
        "colab": {
          "base_uri": "https://localhost:8080/"
        },
        "id": "Q_xJU9Z6zc7B",
        "outputId": "025facf9-33fe-4174-c654-3301bb67d184"
      },
      "execution_count": 38,
      "outputs": [
        {
          "output_type": "stream",
          "name": "stdout",
          "text": [
            "+---------+---+----------+------+\n",
            "|     Name|Age|Experience|Salary|\n",
            "+---------+---+----------+------+\n",
            "|  Mousumi| 50|        20| 30000|\n",
            "|    Nahid| 22|         5| 10000|\n",
            "|Salauddin| 24|        12| 50000|\n",
            "|   Mafiul| 27|        14| 60000|\n",
            "+---------+---+----------+------+\n",
            "\n"
          ]
        }
      ]
    },
    {
      "cell_type": "code",
      "source": [
        "df.na.drop(how=\"all\").show()"
      ],
      "metadata": {
        "colab": {
          "base_uri": "https://localhost:8080/"
        },
        "id": "NzNrbSyRzM0I",
        "outputId": "381a3d76-a2ce-4178-f2cd-e9479df3dd92"
      },
      "execution_count": 39,
      "outputs": [
        {
          "output_type": "stream",
          "name": "stdout",
          "text": [
            "+---------+----+----------+------+\n",
            "|     Name| Age|Experience|Salary|\n",
            "+---------+----+----------+------+\n",
            "|  Mousumi|  50|        20| 30000|\n",
            "|  Prerona|null|      null| 40000|\n",
            "|    Nahid|  22|         5| 10000|\n",
            "|Salauddin|  24|        12| 50000|\n",
            "|   Durjoy|  18|      null|  null|\n",
            "|     Asha|null|      null|  null|\n",
            "|   Mafiul|  27|        14| 60000|\n",
            "+---------+----+----------+------+\n",
            "\n"
          ]
        }
      ]
    },
    {
      "cell_type": "code",
      "source": [
        "df.na.drop(how=\"any\").show()"
      ],
      "metadata": {
        "colab": {
          "base_uri": "https://localhost:8080/"
        },
        "id": "4rpetm2CzURk",
        "outputId": "bfd0256d-cf9c-4c6a-eb8b-c0b2fc69991e"
      },
      "execution_count": 40,
      "outputs": [
        {
          "output_type": "stream",
          "name": "stdout",
          "text": [
            "+---------+---+----------+------+\n",
            "|     Name|Age|Experience|Salary|\n",
            "+---------+---+----------+------+\n",
            "|  Mousumi| 50|        20| 30000|\n",
            "|    Nahid| 22|         5| 10000|\n",
            "|Salauddin| 24|        12| 50000|\n",
            "|   Mafiul| 27|        14| 60000|\n",
            "+---------+---+----------+------+\n",
            "\n"
          ]
        }
      ]
    },
    {
      "cell_type": "code",
      "source": [
        "df.na.drop(how=\"any\", thresh=2).show()"
      ],
      "metadata": {
        "colab": {
          "base_uri": "https://localhost:8080/"
        },
        "id": "rQRHndebx8yx",
        "outputId": "df45074c-822a-4aad-fd41-b093296b8342"
      },
      "execution_count": 24,
      "outputs": [
        {
          "output_type": "stream",
          "name": "stdout",
          "text": [
            "+---------+---+----------+------+\n",
            "|     Name|Age|Experience|Salary|\n",
            "+---------+---+----------+------+\n",
            "|  Mousumi| 50|        20| 30000|\n",
            "|    Nahid| 22|         5| 10000|\n",
            "|Salauddin| 24|        12| 50000|\n",
            "|   Durjoy| 18|      null|  null|\n",
            "|   Mafiul| 27|        14| 60000|\n",
            "+---------+---+----------+------+\n",
            "\n"
          ]
        }
      ]
    },
    {
      "cell_type": "code",
      "source": [
        "df.na.drop(how = \"any\", subset=[\"Experience\"]).show()"
      ],
      "metadata": {
        "colab": {
          "base_uri": "https://localhost:8080/"
        },
        "id": "IVeBrz3FyPnk",
        "outputId": "457a3a20-9414-4441-a3d4-a66036e47c45"
      },
      "execution_count": 25,
      "outputs": [
        {
          "output_type": "stream",
          "name": "stdout",
          "text": [
            "+---------+---+----------+------+\n",
            "|     Name|Age|Experience|Salary|\n",
            "+---------+---+----------+------+\n",
            "|  Mousumi| 50|        20| 30000|\n",
            "|    Nahid| 22|         5| 10000|\n",
            "|Salauddin| 24|        12| 50000|\n",
            "|   Mafiul| 27|        14| 60000|\n",
            "+---------+---+----------+------+\n",
            "\n"
          ]
        }
      ]
    },
    {
      "cell_type": "code",
      "source": [
        "df = spark.read.format('csv').option(\"header\",\"true\").option(\"inferschema\",\"true\").option(\"mode\",\"failfast\").load(\"lab3.csv\")"
      ],
      "metadata": {
        "id": "LIl2o3mAyy9s"
      },
      "execution_count": 46,
      "outputs": []
    },
    {
      "cell_type": "code",
      "source": [
        "df.show()"
      ],
      "metadata": {
        "colab": {
          "base_uri": "https://localhost:8080/"
        },
        "id": "LH7t-0pqy23g",
        "outputId": "cb415810-26ca-4411-c07a-1a4b129a1877"
      },
      "execution_count": 47,
      "outputs": [
        {
          "output_type": "stream",
          "name": "stdout",
          "text": [
            "+---------+----+----------+------+\n",
            "|     Name| Age|Experience|Salary|\n",
            "+---------+----+----------+------+\n",
            "|  Mousumi|  50|        20| 30000|\n",
            "|  Prerona|null|      null| 40000|\n",
            "|    Nahid|  22|         5| 10000|\n",
            "|Salauddin|  24|        12| 50000|\n",
            "|   Durjoy|  18|      null|  null|\n",
            "|     Asha|null|      null|  null|\n",
            "|   Mafiul|  27|        14| 60000|\n",
            "+---------+----+----------+------+\n",
            "\n"
          ]
        }
      ]
    },
    {
      "cell_type": "code",
      "source": [
        "from pyspark.ml.feature import Imputer\n",
        "\n",
        "imputer = Imputer(\n",
        "    inputCols = [\"Age\", \"Experience\", \"Salary\"],\n",
        "    outputCols = [\"{}_imputed\".format(c) for c in [\"Age\", \"Experience\", \"Salary\"]]\n",
        "\n",
        ").setStrategy(\"mean\")"
      ],
      "metadata": {
        "id": "dxoNFZNT0Al6"
      },
      "execution_count": 50,
      "outputs": []
    },
    {
      "cell_type": "code",
      "source": [
        "# Add imputation cols to df\n",
        "imputer.fit(df).transform(df).show()"
      ],
      "metadata": {
        "colab": {
          "base_uri": "https://localhost:8080/"
        },
        "id": "MCoYhppa5vBA",
        "outputId": "02a6de26-0271-4b6f-9ccf-4dabbf0c72c8"
      },
      "execution_count": 52,
      "outputs": [
        {
          "output_type": "stream",
          "name": "stdout",
          "text": [
            "+---------+----+----------+------+-----------+------------------+--------------+\n",
            "|     Name| Age|Experience|Salary|Age_imputed|Experience_imputed|Salary_imputed|\n",
            "+---------+----+----------+------+-----------+------------------+--------------+\n",
            "|  Mousumi|  50|        20| 30000|         50|                20|         30000|\n",
            "|  Prerona|null|      null| 40000|         28|                12|         40000|\n",
            "|    Nahid|  22|         5| 10000|         22|                 5|         10000|\n",
            "|Salauddin|  24|        12| 50000|         24|                12|         50000|\n",
            "|   Durjoy|  18|      null|  null|         18|                12|         38000|\n",
            "|     Asha|null|      null|  null|         28|                12|         38000|\n",
            "|   Mafiul|  27|        14| 60000|         27|                14|         60000|\n",
            "+---------+----+----------+------+-----------+------------------+--------------+\n",
            "\n"
          ]
        }
      ]
    },
    {
      "cell_type": "markdown",
      "source": [
        "# Lab evaluation"
      ],
      "metadata": {
        "id": "o3vCmwHD-eqM"
      }
    },
    {
      "cell_type": "code",
      "source": [
        "# Upload the file\n",
        "from google.colab import files\n",
        "files.upload()"
      ],
      "metadata": {
        "colab": {
          "base_uri": "https://localhost:8080/",
          "height": 143
        },
        "id": "jZHMPbOB7Y6E",
        "outputId": "53afd854-c6b2-4537-abe9-e81bd602a1ae"
      },
      "execution_count": 53,
      "outputs": [
        {
          "output_type": "display_data",
          "data": {
            "text/plain": [
              "<IPython.core.display.HTML object>"
            ],
            "text/html": [
              "\n",
              "     <input type=\"file\" id=\"files-43f120c9-f242-48d0-9a22-55a8fa629a54\" name=\"files[]\" multiple disabled\n",
              "        style=\"border:none\" />\n",
              "     <output id=\"result-43f120c9-f242-48d0-9a22-55a8fa629a54\">\n",
              "      Upload widget is only available when the cell has been executed in the\n",
              "      current browser session. Please rerun this cell to enable.\n",
              "      </output>\n",
              "      <script>// Copyright 2017 Google LLC\n",
              "//\n",
              "// Licensed under the Apache License, Version 2.0 (the \"License\");\n",
              "// you may not use this file except in compliance with the License.\n",
              "// You may obtain a copy of the License at\n",
              "//\n",
              "//      http://www.apache.org/licenses/LICENSE-2.0\n",
              "//\n",
              "// Unless required by applicable law or agreed to in writing, software\n",
              "// distributed under the License is distributed on an \"AS IS\" BASIS,\n",
              "// WITHOUT WARRANTIES OR CONDITIONS OF ANY KIND, either express or implied.\n",
              "// See the License for the specific language governing permissions and\n",
              "// limitations under the License.\n",
              "\n",
              "/**\n",
              " * @fileoverview Helpers for google.colab Python module.\n",
              " */\n",
              "(function(scope) {\n",
              "function span(text, styleAttributes = {}) {\n",
              "  const element = document.createElement('span');\n",
              "  element.textContent = text;\n",
              "  for (const key of Object.keys(styleAttributes)) {\n",
              "    element.style[key] = styleAttributes[key];\n",
              "  }\n",
              "  return element;\n",
              "}\n",
              "\n",
              "// Max number of bytes which will be uploaded at a time.\n",
              "const MAX_PAYLOAD_SIZE = 100 * 1024;\n",
              "\n",
              "function _uploadFiles(inputId, outputId) {\n",
              "  const steps = uploadFilesStep(inputId, outputId);\n",
              "  const outputElement = document.getElementById(outputId);\n",
              "  // Cache steps on the outputElement to make it available for the next call\n",
              "  // to uploadFilesContinue from Python.\n",
              "  outputElement.steps = steps;\n",
              "\n",
              "  return _uploadFilesContinue(outputId);\n",
              "}\n",
              "\n",
              "// This is roughly an async generator (not supported in the browser yet),\n",
              "// where there are multiple asynchronous steps and the Python side is going\n",
              "// to poll for completion of each step.\n",
              "// This uses a Promise to block the python side on completion of each step,\n",
              "// then passes the result of the previous step as the input to the next step.\n",
              "function _uploadFilesContinue(outputId) {\n",
              "  const outputElement = document.getElementById(outputId);\n",
              "  const steps = outputElement.steps;\n",
              "\n",
              "  const next = steps.next(outputElement.lastPromiseValue);\n",
              "  return Promise.resolve(next.value.promise).then((value) => {\n",
              "    // Cache the last promise value to make it available to the next\n",
              "    // step of the generator.\n",
              "    outputElement.lastPromiseValue = value;\n",
              "    return next.value.response;\n",
              "  });\n",
              "}\n",
              "\n",
              "/**\n",
              " * Generator function which is called between each async step of the upload\n",
              " * process.\n",
              " * @param {string} inputId Element ID of the input file picker element.\n",
              " * @param {string} outputId Element ID of the output display.\n",
              " * @return {!Iterable<!Object>} Iterable of next steps.\n",
              " */\n",
              "function* uploadFilesStep(inputId, outputId) {\n",
              "  const inputElement = document.getElementById(inputId);\n",
              "  inputElement.disabled = false;\n",
              "\n",
              "  const outputElement = document.getElementById(outputId);\n",
              "  outputElement.innerHTML = '';\n",
              "\n",
              "  const pickedPromise = new Promise((resolve) => {\n",
              "    inputElement.addEventListener('change', (e) => {\n",
              "      resolve(e.target.files);\n",
              "    });\n",
              "  });\n",
              "\n",
              "  const cancel = document.createElement('button');\n",
              "  inputElement.parentElement.appendChild(cancel);\n",
              "  cancel.textContent = 'Cancel upload';\n",
              "  const cancelPromise = new Promise((resolve) => {\n",
              "    cancel.onclick = () => {\n",
              "      resolve(null);\n",
              "    };\n",
              "  });\n",
              "\n",
              "  // Wait for the user to pick the files.\n",
              "  const files = yield {\n",
              "    promise: Promise.race([pickedPromise, cancelPromise]),\n",
              "    response: {\n",
              "      action: 'starting',\n",
              "    }\n",
              "  };\n",
              "\n",
              "  cancel.remove();\n",
              "\n",
              "  // Disable the input element since further picks are not allowed.\n",
              "  inputElement.disabled = true;\n",
              "\n",
              "  if (!files) {\n",
              "    return {\n",
              "      response: {\n",
              "        action: 'complete',\n",
              "      }\n",
              "    };\n",
              "  }\n",
              "\n",
              "  for (const file of files) {\n",
              "    const li = document.createElement('li');\n",
              "    li.append(span(file.name, {fontWeight: 'bold'}));\n",
              "    li.append(span(\n",
              "        `(${file.type || 'n/a'}) - ${file.size} bytes, ` +\n",
              "        `last modified: ${\n",
              "            file.lastModifiedDate ? file.lastModifiedDate.toLocaleDateString() :\n",
              "                                    'n/a'} - `));\n",
              "    const percent = span('0% done');\n",
              "    li.appendChild(percent);\n",
              "\n",
              "    outputElement.appendChild(li);\n",
              "\n",
              "    const fileDataPromise = new Promise((resolve) => {\n",
              "      const reader = new FileReader();\n",
              "      reader.onload = (e) => {\n",
              "        resolve(e.target.result);\n",
              "      };\n",
              "      reader.readAsArrayBuffer(file);\n",
              "    });\n",
              "    // Wait for the data to be ready.\n",
              "    let fileData = yield {\n",
              "      promise: fileDataPromise,\n",
              "      response: {\n",
              "        action: 'continue',\n",
              "      }\n",
              "    };\n",
              "\n",
              "    // Use a chunked sending to avoid message size limits. See b/62115660.\n",
              "    let position = 0;\n",
              "    do {\n",
              "      const length = Math.min(fileData.byteLength - position, MAX_PAYLOAD_SIZE);\n",
              "      const chunk = new Uint8Array(fileData, position, length);\n",
              "      position += length;\n",
              "\n",
              "      const base64 = btoa(String.fromCharCode.apply(null, chunk));\n",
              "      yield {\n",
              "        response: {\n",
              "          action: 'append',\n",
              "          file: file.name,\n",
              "          data: base64,\n",
              "        },\n",
              "      };\n",
              "\n",
              "      let percentDone = fileData.byteLength === 0 ?\n",
              "          100 :\n",
              "          Math.round((position / fileData.byteLength) * 100);\n",
              "      percent.textContent = `${percentDone}% done`;\n",
              "\n",
              "    } while (position < fileData.byteLength);\n",
              "  }\n",
              "\n",
              "  // All done.\n",
              "  yield {\n",
              "    response: {\n",
              "      action: 'complete',\n",
              "    }\n",
              "  };\n",
              "}\n",
              "\n",
              "scope.google = scope.google || {};\n",
              "scope.google.colab = scope.google.colab || {};\n",
              "scope.google.colab._files = {\n",
              "  _uploadFiles,\n",
              "  _uploadFilesContinue,\n",
              "};\n",
              "})(self);\n",
              "</script> "
            ]
          },
          "metadata": {}
        },
        {
          "output_type": "stream",
          "name": "stdout",
          "text": [
            "Saving labtask.csv to labtask.csv\n"
          ]
        },
        {
          "output_type": "execute_result",
          "data": {
            "text/plain": [
              "{'labtask.csv': b'Name,Age,Experience,Expected Salary,Salary\\nAiyub,22,1,100000,30000\\nAli,23,2,50000,\\nAman,22,2,,10000\\nsourov,24,1,34000,50000\\ntuhin,,1,35000,\\nAsha,23,,45000,\\nAkash,27,2,,60000\\nPaul,24,,34000,\\nMim,23,2,,34000\\nKhadija,,3,60000,25000\\nameen,24,2,70000,23000\\nJoynal,25,,100000,\\nNahid,22,1,120000,23500\\nsadi,23,1,340000,12000\\nEmon,21,2,,70000\\nNur,,2,500000,\\nEkbal,24,,500000,40000\\nJahid,34,12,450000,\\nDulu,23,2,20000,10000\\nBabu,27,4,,34000\\nRobiul,31,5,600000,\\nSoyaeb,34,6,500000,45000\\nArju,21,2,500000,3000\\nRabeya,22,1,100000,34000\\n'}"
            ]
          },
          "metadata": {},
          "execution_count": 53
        }
      ]
    },
    {
      "cell_type": "code",
      "source": [
        "df = spark.read.format('csv').option(\"header\",\"true\").option(\"inferschema\",\"true\").option(\"mode\",\"failfast\").load(\"labtask.csv\")"
      ],
      "metadata": {
        "id": "Qm9n-RZx-rtE"
      },
      "execution_count": 54,
      "outputs": []
    },
    {
      "cell_type": "code",
      "source": [
        "df.show()"
      ],
      "metadata": {
        "colab": {
          "base_uri": "https://localhost:8080/"
        },
        "id": "MbQrmb94-yRG",
        "outputId": "28bb5080-8368-4c1b-df04-bb44e6e3a4a9"
      },
      "execution_count": 55,
      "outputs": [
        {
          "output_type": "stream",
          "name": "stdout",
          "text": [
            "+-------+----+----------+---------------+------+\n",
            "|   Name| Age|Experience|Expected Salary|Salary|\n",
            "+-------+----+----------+---------------+------+\n",
            "|  Aiyub|  22|         1|         100000| 30000|\n",
            "|    Ali|  23|         2|          50000|  null|\n",
            "|   Aman|  22|         2|           null| 10000|\n",
            "| sourov|  24|         1|          34000| 50000|\n",
            "|  tuhin|null|         1|          35000|  null|\n",
            "|   Asha|  23|      null|          45000|  null|\n",
            "|  Akash|  27|         2|           null| 60000|\n",
            "|   Paul|  24|      null|          34000|  null|\n",
            "|    Mim|  23|         2|           null| 34000|\n",
            "|Khadija|null|         3|          60000| 25000|\n",
            "|  ameen|  24|         2|          70000| 23000|\n",
            "| Joynal|  25|      null|         100000|  null|\n",
            "|  Nahid|  22|         1|         120000| 23500|\n",
            "|   sadi|  23|         1|         340000| 12000|\n",
            "|   Emon|  21|         2|           null| 70000|\n",
            "|    Nur|null|         2|         500000|  null|\n",
            "|  Ekbal|  24|      null|         500000| 40000|\n",
            "|  Jahid|  34|        12|         450000|  null|\n",
            "|   Dulu|  23|         2|          20000| 10000|\n",
            "|   Babu|  27|         4|           null| 34000|\n",
            "+-------+----+----------+---------------+------+\n",
            "only showing top 20 rows\n",
            "\n"
          ]
        }
      ]
    },
    {
      "cell_type": "code",
      "source": [
        "df.head(5)"
      ],
      "metadata": {
        "colab": {
          "base_uri": "https://localhost:8080/"
        },
        "id": "I7KcaNi0-22i",
        "outputId": "21a39950-e8b7-412f-e925-96cb591b043f"
      },
      "execution_count": 56,
      "outputs": [
        {
          "output_type": "execute_result",
          "data": {
            "text/plain": [
              "[Row(Name='Aiyub', Age=22, Experience=1, Expected Salary=100000, Salary=30000),\n",
              " Row(Name='Ali', Age=23, Experience=2, Expected Salary=50000, Salary=None),\n",
              " Row(Name='Aman', Age=22, Experience=2, Expected Salary=None, Salary=10000),\n",
              " Row(Name='sourov', Age=24, Experience=1, Expected Salary=34000, Salary=50000),\n",
              " Row(Name='tuhin', Age=None, Experience=1, Expected Salary=35000, Salary=None)]"
            ]
          },
          "metadata": {},
          "execution_count": 56
        }
      ]
    },
    {
      "cell_type": "code",
      "source": [
        "df.tail(5)"
      ],
      "metadata": {
        "colab": {
          "base_uri": "https://localhost:8080/"
        },
        "id": "bEPZZ9-q-42G",
        "outputId": "9e006384-c649-4afe-f4e9-6207245f808c"
      },
      "execution_count": 57,
      "outputs": [
        {
          "output_type": "execute_result",
          "data": {
            "text/plain": [
              "[Row(Name='Babu', Age=27, Experience=4, Expected Salary=None, Salary=34000),\n",
              " Row(Name='Robiul', Age=31, Experience=5, Expected Salary=600000, Salary=None),\n",
              " Row(Name='Soyaeb', Age=34, Experience=6, Expected Salary=500000, Salary=45000),\n",
              " Row(Name='Arju', Age=21, Experience=2, Expected Salary=500000, Salary=3000),\n",
              " Row(Name='Rabeya', Age=22, Experience=1, Expected Salary=100000, Salary=34000)]"
            ]
          },
          "metadata": {},
          "execution_count": 57
        }
      ]
    },
    {
      "cell_type": "code",
      "source": [
        "df.describe()"
      ],
      "metadata": {
        "colab": {
          "base_uri": "https://localhost:8080/"
        },
        "id": "S3i5lyXR-764",
        "outputId": "e9a76df5-e6b9-44d2-b3fa-780f34526bb4"
      },
      "execution_count": 60,
      "outputs": [
        {
          "output_type": "execute_result",
          "data": {
            "text/plain": [
              "DataFrame[summary: string, Name: string, Age: string, Experience: string, Expected Salary: string, Salary: string]"
            ]
          },
          "metadata": {},
          "execution_count": 60
        }
      ]
    },
    {
      "cell_type": "code",
      "source": [
        "df.columns"
      ],
      "metadata": {
        "colab": {
          "base_uri": "https://localhost:8080/"
        },
        "id": "6RXk7hwpBw8h",
        "outputId": "bf706869-9156-4db6-9e16-7c6ae7bf8e8d"
      },
      "execution_count": 76,
      "outputs": [
        {
          "output_type": "execute_result",
          "data": {
            "text/plain": [
              "['Name', 'Age', 'Experience', 'Expected Salary', 'Salary']"
            ]
          },
          "metadata": {},
          "execution_count": 76
        }
      ]
    },
    {
      "cell_type": "code",
      "source": [
        "df.na.drop().show()"
      ],
      "metadata": {
        "colab": {
          "base_uri": "https://localhost:8080/"
        },
        "id": "Pp2mUYmo_rXB",
        "outputId": "8ddc5c4b-d34f-402b-d93b-d68c2c3a845b"
      },
      "execution_count": 65,
      "outputs": [
        {
          "output_type": "stream",
          "name": "stdout",
          "text": [
            "+------+---+----------+---------------+------+\n",
            "|  Name|Age|Experience|Expected Salary|Salary|\n",
            "+------+---+----------+---------------+------+\n",
            "| Aiyub| 22|         1|         100000| 30000|\n",
            "|sourov| 24|         1|          34000| 50000|\n",
            "| ameen| 24|         2|          70000| 23000|\n",
            "| Nahid| 22|         1|         120000| 23500|\n",
            "|  sadi| 23|         1|         340000| 12000|\n",
            "|  Dulu| 23|         2|          20000| 10000|\n",
            "|Soyaeb| 34|         6|         500000| 45000|\n",
            "|  Arju| 21|         2|         500000|  3000|\n",
            "|Rabeya| 22|         1|         100000| 34000|\n",
            "+------+---+----------+---------------+------+\n",
            "\n"
          ]
        }
      ]
    },
    {
      "cell_type": "code",
      "source": [
        "df.na.drop(how = \"any\").show()"
      ],
      "metadata": {
        "colab": {
          "base_uri": "https://localhost:8080/"
        },
        "id": "2X-kfk2M_s1P",
        "outputId": "78c80db9-d6f8-467c-9571-0ebeac4c29b4"
      },
      "execution_count": 67,
      "outputs": [
        {
          "output_type": "stream",
          "name": "stdout",
          "text": [
            "+------+---+----------+---------------+------+\n",
            "|  Name|Age|Experience|Expected Salary|Salary|\n",
            "+------+---+----------+---------------+------+\n",
            "| Aiyub| 22|         1|         100000| 30000|\n",
            "|sourov| 24|         1|          34000| 50000|\n",
            "| ameen| 24|         2|          70000| 23000|\n",
            "| Nahid| 22|         1|         120000| 23500|\n",
            "|  sadi| 23|         1|         340000| 12000|\n",
            "|  Dulu| 23|         2|          20000| 10000|\n",
            "|Soyaeb| 34|         6|         500000| 45000|\n",
            "|  Arju| 21|         2|         500000|  3000|\n",
            "|Rabeya| 22|         1|         100000| 34000|\n",
            "+------+---+----------+---------------+------+\n",
            "\n"
          ]
        }
      ]
    },
    {
      "cell_type": "code",
      "source": [
        "df.na.drop(how = \"all\").show()"
      ],
      "metadata": {
        "colab": {
          "base_uri": "https://localhost:8080/"
        },
        "id": "WKeCbD9NALXz",
        "outputId": "88cde24b-d782-43c8-fa4c-5ad878fe4387"
      },
      "execution_count": 68,
      "outputs": [
        {
          "output_type": "stream",
          "name": "stdout",
          "text": [
            "+-------+----+----------+---------------+------+\n",
            "|   Name| Age|Experience|Expected Salary|Salary|\n",
            "+-------+----+----------+---------------+------+\n",
            "|  Aiyub|  22|         1|         100000| 30000|\n",
            "|    Ali|  23|         2|          50000|  null|\n",
            "|   Aman|  22|         2|           null| 10000|\n",
            "| sourov|  24|         1|          34000| 50000|\n",
            "|  tuhin|null|         1|          35000|  null|\n",
            "|   Asha|  23|      null|          45000|  null|\n",
            "|  Akash|  27|         2|           null| 60000|\n",
            "|   Paul|  24|      null|          34000|  null|\n",
            "|    Mim|  23|         2|           null| 34000|\n",
            "|Khadija|null|         3|          60000| 25000|\n",
            "|  ameen|  24|         2|          70000| 23000|\n",
            "| Joynal|  25|      null|         100000|  null|\n",
            "|  Nahid|  22|         1|         120000| 23500|\n",
            "|   sadi|  23|         1|         340000| 12000|\n",
            "|   Emon|  21|         2|           null| 70000|\n",
            "|    Nur|null|         2|         500000|  null|\n",
            "|  Ekbal|  24|      null|         500000| 40000|\n",
            "|  Jahid|  34|        12|         450000|  null|\n",
            "|   Dulu|  23|         2|          20000| 10000|\n",
            "|   Babu|  27|         4|           null| 34000|\n",
            "+-------+----+----------+---------------+------+\n",
            "only showing top 20 rows\n",
            "\n"
          ]
        }
      ]
    },
    {
      "cell_type": "code",
      "source": [
        "df.na.drop(how=\"any\", thresh=2).show()"
      ],
      "metadata": {
        "colab": {
          "base_uri": "https://localhost:8080/"
        },
        "id": "7QCW9AIgATgR",
        "outputId": "fe2af072-e4fe-4f6e-8609-3018941adf5d"
      },
      "execution_count": 69,
      "outputs": [
        {
          "output_type": "stream",
          "name": "stdout",
          "text": [
            "+-------+----+----------+---------------+------+\n",
            "|   Name| Age|Experience|Expected Salary|Salary|\n",
            "+-------+----+----------+---------------+------+\n",
            "|  Aiyub|  22|         1|         100000| 30000|\n",
            "|    Ali|  23|         2|          50000|  null|\n",
            "|   Aman|  22|         2|           null| 10000|\n",
            "| sourov|  24|         1|          34000| 50000|\n",
            "|  tuhin|null|         1|          35000|  null|\n",
            "|   Asha|  23|      null|          45000|  null|\n",
            "|  Akash|  27|         2|           null| 60000|\n",
            "|   Paul|  24|      null|          34000|  null|\n",
            "|    Mim|  23|         2|           null| 34000|\n",
            "|Khadija|null|         3|          60000| 25000|\n",
            "|  ameen|  24|         2|          70000| 23000|\n",
            "| Joynal|  25|      null|         100000|  null|\n",
            "|  Nahid|  22|         1|         120000| 23500|\n",
            "|   sadi|  23|         1|         340000| 12000|\n",
            "|   Emon|  21|         2|           null| 70000|\n",
            "|    Nur|null|         2|         500000|  null|\n",
            "|  Ekbal|  24|      null|         500000| 40000|\n",
            "|  Jahid|  34|        12|         450000|  null|\n",
            "|   Dulu|  23|         2|          20000| 10000|\n",
            "|   Babu|  27|         4|           null| 34000|\n",
            "+-------+----+----------+---------------+------+\n",
            "only showing top 20 rows\n",
            "\n"
          ]
        }
      ]
    },
    {
      "cell_type": "code",
      "source": [
        "df.na.drop(how = \"any\", subset=[\"Salary\"]).show()"
      ],
      "metadata": {
        "colab": {
          "base_uri": "https://localhost:8080/"
        },
        "id": "kqzJgk0GAZp6",
        "outputId": "80ce4100-45fe-4248-ada6-02e2539dc747"
      },
      "execution_count": 71,
      "outputs": [
        {
          "output_type": "stream",
          "name": "stdout",
          "text": [
            "+-------+----+----------+---------------+------+\n",
            "|   Name| Age|Experience|Expected Salary|Salary|\n",
            "+-------+----+----------+---------------+------+\n",
            "|  Aiyub|  22|         1|         100000| 30000|\n",
            "|   Aman|  22|         2|           null| 10000|\n",
            "| sourov|  24|         1|          34000| 50000|\n",
            "|  Akash|  27|         2|           null| 60000|\n",
            "|    Mim|  23|         2|           null| 34000|\n",
            "|Khadija|null|         3|          60000| 25000|\n",
            "|  ameen|  24|         2|          70000| 23000|\n",
            "|  Nahid|  22|         1|         120000| 23500|\n",
            "|   sadi|  23|         1|         340000| 12000|\n",
            "|   Emon|  21|         2|           null| 70000|\n",
            "|  Ekbal|  24|      null|         500000| 40000|\n",
            "|   Dulu|  23|         2|          20000| 10000|\n",
            "|   Babu|  27|         4|           null| 34000|\n",
            "| Soyaeb|  34|         6|         500000| 45000|\n",
            "|   Arju|  21|         2|         500000|  3000|\n",
            "| Rabeya|  22|         1|         100000| 34000|\n",
            "+-------+----+----------+---------------+------+\n",
            "\n"
          ]
        }
      ]
    },
    {
      "cell_type": "code",
      "source": [
        "from pyspark.ml.feature import Imputer\n",
        "\n",
        "imputer = Imputer(\n",
        "    inputCols = [\"Age\", \"Experience\", \"Expected Salary\", \"Salary\"],\n",
        "    outputCols = [\"{}_imputed\".format(c) for c in [\"Age\", \"Experience\", \"Expected Salary\", \"Salary\"]]\n",
        "\n",
        ").setStrategy(\"mean\")"
      ],
      "metadata": {
        "id": "fGS0j_1mAnd9"
      },
      "execution_count": 91,
      "outputs": []
    },
    {
      "cell_type": "code",
      "source": [
        "imputer.fit(df).transform(df).show()"
      ],
      "metadata": {
        "colab": {
          "base_uri": "https://localhost:8080/"
        },
        "id": "-Bdr5zfNBLKO",
        "outputId": "8b3671de-b7e6-4ad5-afac-ea76c2f7f28a"
      },
      "execution_count": 92,
      "outputs": [
        {
          "output_type": "stream",
          "name": "stdout",
          "text": [
            "+-------+----+----------+---------------+------+-----------+------------------+-----------------------+--------------+\n",
            "|   Name| Age|Experience|Expected Salary|Salary|Age_imputed|Experience_imputed|Expected Salary_imputed|Salary_imputed|\n",
            "+-------+----+----------+---------------+------+-----------+------------------+-----------------------+--------------+\n",
            "|  Aiyub|  22|         1|         100000| 30000|         22|                 1|                 100000|         30000|\n",
            "|    Ali|  23|         2|          50000|  null|         23|                 2|                  50000|         31468|\n",
            "|   Aman|  22|         2|           null| 10000|         22|                 2|                 218842|         10000|\n",
            "| sourov|  24|         1|          34000| 50000|         24|                 1|                  34000|         50000|\n",
            "|  tuhin|null|         1|          35000|  null|         24|                 1|                  35000|         31468|\n",
            "|   Asha|  23|      null|          45000|  null|         23|                 2|                  45000|         31468|\n",
            "|  Akash|  27|         2|           null| 60000|         27|                 2|                 218842|         60000|\n",
            "|   Paul|  24|      null|          34000|  null|         24|                 2|                  34000|         31468|\n",
            "|    Mim|  23|         2|           null| 34000|         23|                 2|                 218842|         34000|\n",
            "|Khadija|null|         3|          60000| 25000|         24|                 3|                  60000|         25000|\n",
            "|  ameen|  24|         2|          70000| 23000|         24|                 2|                  70000|         23000|\n",
            "| Joynal|  25|      null|         100000|  null|         25|                 2|                 100000|         31468|\n",
            "|  Nahid|  22|         1|         120000| 23500|         22|                 1|                 120000|         23500|\n",
            "|   sadi|  23|         1|         340000| 12000|         23|                 1|                 340000|         12000|\n",
            "|   Emon|  21|         2|           null| 70000|         21|                 2|                 218842|         70000|\n",
            "|    Nur|null|         2|         500000|  null|         24|                 2|                 500000|         31468|\n",
            "|  Ekbal|  24|      null|         500000| 40000|         24|                 2|                 500000|         40000|\n",
            "|  Jahid|  34|        12|         450000|  null|         34|                12|                 450000|         31468|\n",
            "|   Dulu|  23|         2|          20000| 10000|         23|                 2|                  20000|         10000|\n",
            "|   Babu|  27|         4|           null| 34000|         27|                 4|                 218842|         34000|\n",
            "+-------+----+----------+---------------+------+-----------+------------------+-----------------------+--------------+\n",
            "only showing top 20 rows\n",
            "\n"
          ]
        }
      ]
    },
    {
      "cell_type": "code",
      "source": [
        "df2 = imputer.fit(df).transform(df)\n",
        "df2 = df2.drop(\"Age\", \"Experience\", \"Expected Salary\", \"Salary\")\n",
        "df2.show()"
      ],
      "metadata": {
        "colab": {
          "base_uri": "https://localhost:8080/"
        },
        "id": "87xaEPkBDWJL",
        "outputId": "8c2ce3a8-55e3-460b-fe80-4c72f9eb8a85"
      },
      "execution_count": 93,
      "outputs": [
        {
          "output_type": "stream",
          "name": "stdout",
          "text": [
            "+-------+-----------+------------------+-----------------------+--------------+\n",
            "|   Name|Age_imputed|Experience_imputed|Expected Salary_imputed|Salary_imputed|\n",
            "+-------+-----------+------------------+-----------------------+--------------+\n",
            "|  Aiyub|         22|                 1|                 100000|         30000|\n",
            "|    Ali|         23|                 2|                  50000|         31468|\n",
            "|   Aman|         22|                 2|                 218842|         10000|\n",
            "| sourov|         24|                 1|                  34000|         50000|\n",
            "|  tuhin|         24|                 1|                  35000|         31468|\n",
            "|   Asha|         23|                 2|                  45000|         31468|\n",
            "|  Akash|         27|                 2|                 218842|         60000|\n",
            "|   Paul|         24|                 2|                  34000|         31468|\n",
            "|    Mim|         23|                 2|                 218842|         34000|\n",
            "|Khadija|         24|                 3|                  60000|         25000|\n",
            "|  ameen|         24|                 2|                  70000|         23000|\n",
            "| Joynal|         25|                 2|                 100000|         31468|\n",
            "|  Nahid|         22|                 1|                 120000|         23500|\n",
            "|   sadi|         23|                 1|                 340000|         12000|\n",
            "|   Emon|         21|                 2|                 218842|         70000|\n",
            "|    Nur|         24|                 2|                 500000|         31468|\n",
            "|  Ekbal|         24|                 2|                 500000|         40000|\n",
            "|  Jahid|         34|                12|                 450000|         31468|\n",
            "|   Dulu|         23|                 2|                  20000|         10000|\n",
            "|   Babu|         27|                 4|                 218842|         34000|\n",
            "+-------+-----------+------------------+-----------------------+--------------+\n",
            "only showing top 20 rows\n",
            "\n"
          ]
        }
      ]
    },
    {
      "cell_type": "code",
      "source": [
        "imputer = Imputer(\n",
        "    inputCols = [\"Age\", \"Experience\", \"Expected Salary\", \"Salary\"],\n",
        "    outputCols = [\"{}_imputed\".format(c) for c in [\"Age\", \"Experience\", \"Expected Salary\", \"Salary\"]]\n",
        "\n",
        ").setStrategy(\"median\")\n",
        "imputer.fit(df).transform(df).show()"
      ],
      "metadata": {
        "colab": {
          "base_uri": "https://localhost:8080/"
        },
        "id": "Q9gG2iOYClXe",
        "outputId": "041ffb3c-b414-4f60-b2b3-b2b28ec3218c"
      },
      "execution_count": 94,
      "outputs": [
        {
          "output_type": "stream",
          "name": "stdout",
          "text": [
            "+-------+----+----------+---------------+------+-----------+------------------+-----------------------+--------------+\n",
            "|   Name| Age|Experience|Expected Salary|Salary|Age_imputed|Experience_imputed|Expected Salary_imputed|Salary_imputed|\n",
            "+-------+----+----------+---------------+------+-----------+------------------+-----------------------+--------------+\n",
            "|  Aiyub|  22|         1|         100000| 30000|         22|                 1|                 100000|         30000|\n",
            "|    Ali|  23|         2|          50000|  null|         23|                 2|                  50000|         30000|\n",
            "|   Aman|  22|         2|           null| 10000|         22|                 2|                 100000|         10000|\n",
            "| sourov|  24|         1|          34000| 50000|         24|                 1|                  34000|         50000|\n",
            "|  tuhin|null|         1|          35000|  null|         23|                 1|                  35000|         30000|\n",
            "|   Asha|  23|      null|          45000|  null|         23|                 2|                  45000|         30000|\n",
            "|  Akash|  27|         2|           null| 60000|         27|                 2|                 100000|         60000|\n",
            "|   Paul|  24|      null|          34000|  null|         24|                 2|                  34000|         30000|\n",
            "|    Mim|  23|         2|           null| 34000|         23|                 2|                 100000|         34000|\n",
            "|Khadija|null|         3|          60000| 25000|         23|                 3|                  60000|         25000|\n",
            "|  ameen|  24|         2|          70000| 23000|         24|                 2|                  70000|         23000|\n",
            "| Joynal|  25|      null|         100000|  null|         25|                 2|                 100000|         30000|\n",
            "|  Nahid|  22|         1|         120000| 23500|         22|                 1|                 120000|         23500|\n",
            "|   sadi|  23|         1|         340000| 12000|         23|                 1|                 340000|         12000|\n",
            "|   Emon|  21|         2|           null| 70000|         21|                 2|                 100000|         70000|\n",
            "|    Nur|null|         2|         500000|  null|         23|                 2|                 500000|         30000|\n",
            "|  Ekbal|  24|      null|         500000| 40000|         24|                 2|                 500000|         40000|\n",
            "|  Jahid|  34|        12|         450000|  null|         34|                12|                 450000|         30000|\n",
            "|   Dulu|  23|         2|          20000| 10000|         23|                 2|                  20000|         10000|\n",
            "|   Babu|  27|         4|           null| 34000|         27|                 4|                 100000|         34000|\n",
            "+-------+----+----------+---------------+------+-----------+------------------+-----------------------+--------------+\n",
            "only showing top 20 rows\n",
            "\n"
          ]
        }
      ]
    },
    {
      "cell_type": "code",
      "source": [
        "df3 = imputer.fit(df).transform(df)\n",
        "df3 = df3.drop(\"Age\", \"Experience\", \"Expected Salary\", \"Salary\")\n",
        "df3.show()"
      ],
      "metadata": {
        "colab": {
          "base_uri": "https://localhost:8080/"
        },
        "id": "WEZcV11KD9b1",
        "outputId": "500ac6e5-f192-4158-cc7b-6f24bfd64b0a"
      },
      "execution_count": 95,
      "outputs": [
        {
          "output_type": "stream",
          "name": "stdout",
          "text": [
            "+-------+-----------+------------------+-----------------------+--------------+\n",
            "|   Name|Age_imputed|Experience_imputed|Expected Salary_imputed|Salary_imputed|\n",
            "+-------+-----------+------------------+-----------------------+--------------+\n",
            "|  Aiyub|         22|                 1|                 100000|         30000|\n",
            "|    Ali|         23|                 2|                  50000|         30000|\n",
            "|   Aman|         22|                 2|                 100000|         10000|\n",
            "| sourov|         24|                 1|                  34000|         50000|\n",
            "|  tuhin|         23|                 1|                  35000|         30000|\n",
            "|   Asha|         23|                 2|                  45000|         30000|\n",
            "|  Akash|         27|                 2|                 100000|         60000|\n",
            "|   Paul|         24|                 2|                  34000|         30000|\n",
            "|    Mim|         23|                 2|                 100000|         34000|\n",
            "|Khadija|         23|                 3|                  60000|         25000|\n",
            "|  ameen|         24|                 2|                  70000|         23000|\n",
            "| Joynal|         25|                 2|                 100000|         30000|\n",
            "|  Nahid|         22|                 1|                 120000|         23500|\n",
            "|   sadi|         23|                 1|                 340000|         12000|\n",
            "|   Emon|         21|                 2|                 100000|         70000|\n",
            "|    Nur|         23|                 2|                 500000|         30000|\n",
            "|  Ekbal|         24|                 2|                 500000|         40000|\n",
            "|  Jahid|         34|                12|                 450000|         30000|\n",
            "|   Dulu|         23|                 2|                  20000|         10000|\n",
            "|   Babu|         27|                 4|                 100000|         34000|\n",
            "+-------+-----------+------------------+-----------------------+--------------+\n",
            "only showing top 20 rows\n",
            "\n"
          ]
        }
      ]
    },
    {
      "cell_type": "code",
      "source": [
        "imputer = Imputer(\n",
        "    inputCols = [\"Age\", \"Experience\", \"Expected Salary\", \"Salary\"],\n",
        "    outputCols = [\"{}_imputed\".format(c) for c in [\"Age\", \"Experience\", \"Expected Salary\", \"Salary\"]]\n",
        "\n",
        ").setStrategy(\"mode\")\n",
        "imputer.fit(df).transform(df).show()"
      ],
      "metadata": {
        "colab": {
          "base_uri": "https://localhost:8080/"
        },
        "id": "KMm2cthZJe9V",
        "outputId": "516867ce-08b9-486a-e8e0-d1ee9ec5485b"
      },
      "execution_count": 97,
      "outputs": [
        {
          "output_type": "stream",
          "name": "stdout",
          "text": [
            "+-------+----+----------+---------------+------+-----------+------------------+-----------------------+--------------+\n",
            "|   Name| Age|Experience|Expected Salary|Salary|Age_imputed|Experience_imputed|Expected Salary_imputed|Salary_imputed|\n",
            "+-------+----+----------+---------------+------+-----------+------------------+-----------------------+--------------+\n",
            "|  Aiyub|  22|         1|         100000| 30000|         22|                 1|                 100000|         30000|\n",
            "|    Ali|  23|         2|          50000|  null|         23|                 2|                  50000|         34000|\n",
            "|   Aman|  22|         2|           null| 10000|         22|                 2|                 500000|         10000|\n",
            "| sourov|  24|         1|          34000| 50000|         24|                 1|                  34000|         50000|\n",
            "|  tuhin|null|         1|          35000|  null|         23|                 1|                  35000|         34000|\n",
            "|   Asha|  23|      null|          45000|  null|         23|                 2|                  45000|         34000|\n",
            "|  Akash|  27|         2|           null| 60000|         27|                 2|                 500000|         60000|\n",
            "|   Paul|  24|      null|          34000|  null|         24|                 2|                  34000|         34000|\n",
            "|    Mim|  23|         2|           null| 34000|         23|                 2|                 500000|         34000|\n",
            "|Khadija|null|         3|          60000| 25000|         23|                 3|                  60000|         25000|\n",
            "|  ameen|  24|         2|          70000| 23000|         24|                 2|                  70000|         23000|\n",
            "| Joynal|  25|      null|         100000|  null|         25|                 2|                 100000|         34000|\n",
            "|  Nahid|  22|         1|         120000| 23500|         22|                 1|                 120000|         23500|\n",
            "|   sadi|  23|         1|         340000| 12000|         23|                 1|                 340000|         12000|\n",
            "|   Emon|  21|         2|           null| 70000|         21|                 2|                 500000|         70000|\n",
            "|    Nur|null|         2|         500000|  null|         23|                 2|                 500000|         34000|\n",
            "|  Ekbal|  24|      null|         500000| 40000|         24|                 2|                 500000|         40000|\n",
            "|  Jahid|  34|        12|         450000|  null|         34|                12|                 450000|         34000|\n",
            "|   Dulu|  23|         2|          20000| 10000|         23|                 2|                  20000|         10000|\n",
            "|   Babu|  27|         4|           null| 34000|         27|                 4|                 500000|         34000|\n",
            "+-------+----+----------+---------------+------+-----------+------------------+-----------------------+--------------+\n",
            "only showing top 20 rows\n",
            "\n"
          ]
        }
      ]
    },
    {
      "cell_type": "code",
      "source": [
        "df4 = imputer.fit(df).transform(df)\n",
        "df4 = df4.drop(\"Age\", \"Experience\", \"Expected Salary\", \"Salary\")\n",
        "df4.show()"
      ],
      "metadata": {
        "colab": {
          "base_uri": "https://localhost:8080/"
        },
        "id": "25ZPvxBZJl8r",
        "outputId": "f249519e-0990-4ee4-c5b6-b19c168c975d"
      },
      "execution_count": 98,
      "outputs": [
        {
          "output_type": "stream",
          "name": "stdout",
          "text": [
            "+-------+-----------+------------------+-----------------------+--------------+\n",
            "|   Name|Age_imputed|Experience_imputed|Expected Salary_imputed|Salary_imputed|\n",
            "+-------+-----------+------------------+-----------------------+--------------+\n",
            "|  Aiyub|         22|                 1|                 100000|         30000|\n",
            "|    Ali|         23|                 2|                  50000|         34000|\n",
            "|   Aman|         22|                 2|                 500000|         10000|\n",
            "| sourov|         24|                 1|                  34000|         50000|\n",
            "|  tuhin|         23|                 1|                  35000|         34000|\n",
            "|   Asha|         23|                 2|                  45000|         34000|\n",
            "|  Akash|         27|                 2|                 500000|         60000|\n",
            "|   Paul|         24|                 2|                  34000|         34000|\n",
            "|    Mim|         23|                 2|                 500000|         34000|\n",
            "|Khadija|         23|                 3|                  60000|         25000|\n",
            "|  ameen|         24|                 2|                  70000|         23000|\n",
            "| Joynal|         25|                 2|                 100000|         34000|\n",
            "|  Nahid|         22|                 1|                 120000|         23500|\n",
            "|   sadi|         23|                 1|                 340000|         12000|\n",
            "|   Emon|         21|                 2|                 500000|         70000|\n",
            "|    Nur|         23|                 2|                 500000|         34000|\n",
            "|  Ekbal|         24|                 2|                 500000|         40000|\n",
            "|  Jahid|         34|                12|                 450000|         34000|\n",
            "|   Dulu|         23|                 2|                  20000|         10000|\n",
            "|   Babu|         27|                 4|                 500000|         34000|\n",
            "+-------+-----------+------------------+-----------------------+--------------+\n",
            "only showing top 20 rows\n",
            "\n"
          ]
        }
      ]
    }
  ]
}