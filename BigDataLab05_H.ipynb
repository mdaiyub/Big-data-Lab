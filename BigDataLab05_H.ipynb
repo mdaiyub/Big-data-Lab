{
  "cells": [
    {
      "cell_type": "markdown",
      "metadata": {
        "id": "view-in-github",
        "colab_type": "text"
      },
      "source": [
        "<a href=\"https://colab.research.google.com/github/mdaiyub/Big-data-Lab/blob/main/BigDataLab05_H.ipynb\" target=\"_parent\"><img src=\"https://colab.research.google.com/assets/colab-badge.svg\" alt=\"Open In Colab\"/></a>"
      ]
    },
    {
      "cell_type": "markdown",
      "metadata": {
        "id": "ibMU0FIUPnAP"
      },
      "source": [
        "# Processing and Handling Facebook Dataset"
      ]
    },
    {
      "cell_type": "markdown",
      "source": [
        "# Kaggle data Download"
      ],
      "metadata": {
        "id": "zOldhPoZBxO2"
      }
    },
    {
      "cell_type": "code",
      "source": [
        "#!mkdir -p ~/.kaggle\n",
        "#!cp kaggle.json ~/.kaggle/\n",
        "#!chmod 600 ~/.kaggle/kaggle.json\n",
        "#!kaggle datasets download -d username/dataset-name\n",
        "#!unzip dataset-name.zip"
      ],
      "metadata": {
        "id": "oSUOjBnXB2_3"
      },
      "execution_count": null,
      "outputs": []
    },
    {
      "cell_type": "markdown",
      "source": [
        "# Lab5"
      ],
      "metadata": {
        "id": "4byq_jaGB8ql"
      }
    },
    {
      "cell_type": "code",
      "execution_count": null,
      "metadata": {
        "id": "vvuIk1CgPt9H"
      },
      "outputs": [],
      "source": [
        "#openjdk installation\n",
        "!apt-get install openjdk-8-jdk-headless -qq > /dev/null\n",
        "#Downloading the apche spark with specific version\n",
        "!wget -q https://dlcdn.apache.org/spark/spark-3.4.1/spark-3.4.1-bin-hadoop3.tgz\n",
        "#Zip into unzip the apche spark\n",
        "!tar -xf spark-3.4.1-bin-hadoop3.tgz\n",
        "#findspark installation\n",
        "!pip install -q findspark\n",
        "#Environment setup for the openjdk and spark\n",
        "import os\n",
        "os.environ[\"JAVA_HOME\"] = \"/usr/lib/jvm/java-8-openjdk-amd64\"\n",
        "os.environ[\"SPARK_HOME\"] = \"/content/spark-3.4.1-bin-hadoop3\"\n",
        "import findspark\n",
        "findspark.init()\n",
        "from pyspark.sql import SparkSession\n",
        "spark = SparkSession.builder.master(\"local[*]\").getOrCreate()"
      ]
    },
    {
      "cell_type": "code",
      "execution_count": null,
      "metadata": {
        "id": "n3dqq2DWRvtc"
      },
      "outputs": [],
      "source": [
        "# Upload the file\n",
        "from google.colab import files\n",
        "files.upload()"
      ]
    },
    {
      "cell_type": "code",
      "execution_count": null,
      "metadata": {
        "id": "-0oFQ_KV1h9I"
      },
      "outputs": [],
      "source": [
        "df = spark.read.format('csv').option(\"header\",\"true\").option(\"inferschema\",\"true\").option(\"mode\",\"failfast\").load(\"pseudo_facebook.csv\")"
      ]
    },
    {
      "cell_type": "code",
      "execution_count": null,
      "metadata": {
        "id": "ES9BVZgC1me3",
        "colab": {
          "base_uri": "https://localhost:8080/"
        },
        "outputId": "12b8312c-ee96-42c4-f63d-875aec9e4363"
      },
      "outputs": [
        {
          "output_type": "stream",
          "name": "stdout",
          "text": [
            "root\n",
            " |-- userid: integer (nullable = true)\n",
            " |-- age: integer (nullable = true)\n",
            " |-- dob_day: integer (nullable = true)\n",
            " |-- dob_year: integer (nullable = true)\n",
            " |-- dob_month: integer (nullable = true)\n",
            " |-- gender: string (nullable = true)\n",
            " |-- tenure: string (nullable = true)\n",
            " |-- friend_count: integer (nullable = true)\n",
            " |-- friendships_initiated: integer (nullable = true)\n",
            " |-- likes: integer (nullable = true)\n",
            " |-- likes_received: integer (nullable = true)\n",
            " |-- mobile_likes: integer (nullable = true)\n",
            " |-- mobile_likes_received: integer (nullable = true)\n",
            " |-- www_likes: integer (nullable = true)\n",
            " |-- www_likes_received: integer (nullable = true)\n",
            "\n"
          ]
        }
      ],
      "source": [
        "df.printSchema()"
      ]
    },
    {
      "cell_type": "code",
      "execution_count": null,
      "metadata": {
        "id": "0Mgx26t11C7x"
      },
      "outputs": [],
      "source": [
        "df.createOrReplaceTempView(\"fb\")"
      ]
    },
    {
      "cell_type": "code",
      "execution_count": null,
      "metadata": {
        "id": "Lb4c88kR1O6o",
        "colab": {
          "base_uri": "https://localhost:8080/"
        },
        "outputId": "82f55508-193f-4bf5-94b7-86d211252c2f"
      },
      "outputs": [
        {
          "output_type": "stream",
          "name": "stdout",
          "text": [
            "+-------+---+-------+--------+---------+------+------+------------+---------------------+-----+--------------+------------+---------------------+---------+------------------+\n",
            "| userid|age|dob_day|dob_year|dob_month|gender|tenure|friend_count|friendships_initiated|likes|likes_received|mobile_likes|mobile_likes_received|www_likes|www_likes_received|\n",
            "+-------+---+-------+--------+---------+------+------+------------+---------------------+-----+--------------+------------+---------------------+---------+------------------+\n",
            "|2094382| 14|     19|    1999|       11|  male|   266|           0|                    0|    0|             0|           0|                    0|        0|                 0|\n",
            "|1192601| 14|      2|    1999|       11|female|     6|           0|                    0|    0|             0|           0|                    0|        0|                 0|\n",
            "|2083884| 14|     16|    1999|       11|  male|    13|           0|                    0|    0|             0|           0|                    0|        0|                 0|\n",
            "|1203168| 14|     25|    1999|       12|female|    93|           0|                    0|    0|             0|           0|                    0|        0|                 0|\n",
            "|1733186| 14|      4|    1999|       12|  male|    82|           0|                    0|    0|             0|           0|                    0|        0|                 0|\n",
            "|1524765| 14|      1|    1999|       12|  male|    15|           0|                    0|    0|             0|           0|                    0|        0|                 0|\n",
            "|1136133| 13|     14|    2000|        1|  male|    12|           0|                    0|    0|             0|           0|                    0|        0|                 0|\n",
            "|1680361| 13|      4|    2000|        1|female|     0|           0|                    0|    0|             0|           0|                    0|        0|                 0|\n",
            "|1365174| 13|      1|    2000|        1|  male|    81|           0|                    0|    0|             0|           0|                    0|        0|                 0|\n",
            "|1712567| 13|      2|    2000|        2|  male|   171|           0|                    0|    0|             0|           0|                    0|        0|                 0|\n",
            "|1612453| 13|     22|    2000|        2|  male|    98|           0|                    0|    0|             0|           0|                    0|        0|                 0|\n",
            "|2104073| 13|      1|    2000|        2|  male|    55|           0|                    0|    0|             0|           0|                    0|        0|                 0|\n",
            "|1918584| 13|      5|    2000|        3|  male|   106|           0|                    0|    0|             0|           0|                    0|        0|                 0|\n",
            "|1704433| 13|     21|    2000|        3|  male|    61|           0|                    0|    0|             0|           0|                    0|        0|                 0|\n",
            "|1932519| 13|     28|    2000|        3|female|     0|           0|                    0|    0|             0|           0|                    0|        0|                 0|\n",
            "|1751722| 13|      7|    2000|        4|female|    16|           0|                    0|    0|             0|           0|                    0|        0|                 0|\n",
            "|1470850| 13|     30|    2000|        5|female|    34|           0|                    0|    0|             0|           0|                    0|        0|                 0|\n",
            "|1001768| 13|     23|    2000|        5|female|    25|           0|                    0|    0|             0|           0|                    0|        0|                 0|\n",
            "|1537661| 13|     16|    2000|        5|female|     4|           0|                    0|    0|             0|           0|                    0|        0|                 0|\n",
            "|1020296| 13|     13|    2000|        8|  male|     9|           0|                    0|    0|             0|           0|                    0|        0|                 0|\n",
            "+-------+---+-------+--------+---------+------+------+------------+---------------------+-----+--------------+------------+---------------------+---------+------------------+\n",
            "only showing top 20 rows\n",
            "\n"
          ]
        }
      ],
      "source": [
        "spark.sql(\"Select * from fb\").show()"
      ]
    },
    {
      "cell_type": "code",
      "execution_count": null,
      "metadata": {
        "id": "qYGezx9v2BE4",
        "colab": {
          "base_uri": "https://localhost:8080/"
        },
        "outputId": "c4c39f4b-eecc-4145-817b-caf36b550b87"
      },
      "outputs": [
        {
          "output_type": "stream",
          "name": "stdout",
          "text": [
            "+--------+\n",
            "|count(1)|\n",
            "+--------+\n",
            "|   99003|\n",
            "+--------+\n",
            "\n"
          ]
        }
      ],
      "source": [
        "spark.sql(\"Select count(*) from fb\").show()"
      ]
    },
    {
      "cell_type": "code",
      "source": [
        "spark.sql(\"Select avg(likes_received) as avg_like, gender from fb group by gender\").show()"
      ],
      "metadata": {
        "colab": {
          "base_uri": "https://localhost:8080/"
        },
        "id": "16VxcJ2A4eoW",
        "outputId": "bebd7c9e-50f0-4c74-da7a-f99293a04e36"
      },
      "execution_count": null,
      "outputs": [
        {
          "output_type": "stream",
          "name": "stdout",
          "text": [
            "+------------------+------+\n",
            "|          avg_like|gender|\n",
            "+------------------+------+\n",
            "|157.38285714285715|    NA|\n",
            "| 251.4354349878273|female|\n",
            "| 67.91154778570697|  male|\n",
            "+------------------+------+\n",
            "\n"
          ]
        }
      ]
    },
    {
      "cell_type": "code",
      "source": [
        "spark.sql(\"Select avg(likes_received) as avg_like, gender from fb group by gender order by avg_like\").show()"
      ],
      "metadata": {
        "colab": {
          "base_uri": "https://localhost:8080/"
        },
        "id": "louLFShe5S78",
        "outputId": "675b26f9-05cc-4cb2-c4db-b2b7b4dc68bf"
      },
      "execution_count": null,
      "outputs": [
        {
          "output_type": "stream",
          "name": "stdout",
          "text": [
            "+------------------+------+\n",
            "|          avg_like|gender|\n",
            "+------------------+------+\n",
            "| 67.91154778570697|  male|\n",
            "|157.38285714285715|    NA|\n",
            "| 251.4354349878273|female|\n",
            "+------------------+------+\n",
            "\n"
          ]
        }
      ]
    },
    {
      "cell_type": "code",
      "source": [
        "spark.sql(\"Select avg(friend_count) from fb where age>=20 AND age<=50\").show()"
      ],
      "metadata": {
        "colab": {
          "base_uri": "https://localhost:8080/"
        },
        "id": "-VAfYruz5d9d",
        "outputId": "621bab65-6fc8-48ce-f6c4-27c60ce1d02f"
      },
      "execution_count": null,
      "outputs": [
        {
          "output_type": "stream",
          "name": "stdout",
          "text": [
            "+-----------------+\n",
            "|avg(friend_count)|\n",
            "+-----------------+\n",
            "| 151.720904332331|\n",
            "+-----------------+\n",
            "\n"
          ]
        }
      ]
    },
    {
      "cell_type": "code",
      "source": [
        "spark.sql(\"Select avg(friend_count) from fb where age>=100\").show()"
      ],
      "metadata": {
        "colab": {
          "base_uri": "https://localhost:8080/"
        },
        "id": "ZXuAg86457OT",
        "outputId": "6208cf60-1dbf-4b97-8073-9ba02f16bc9b"
      },
      "execution_count": null,
      "outputs": [
        {
          "output_type": "stream",
          "name": "stdout",
          "text": [
            "+-----------------+\n",
            "|avg(friend_count)|\n",
            "+-----------------+\n",
            "|394.4165004985045|\n",
            "+-----------------+\n",
            "\n"
          ]
        }
      ]
    },
    {
      "cell_type": "code",
      "source": [
        "spark.sql(\"Select avg(mobile_likes), avg(www_likes) from fb where age>=20 AND age<=40\").show()"
      ],
      "metadata": {
        "colab": {
          "base_uri": "https://localhost:8080/"
        },
        "id": "neQCRLUb6Fbs",
        "outputId": "800e531a-3327-4efb-dd99-b3863a41c07c"
      },
      "execution_count": null,
      "outputs": [
        {
          "output_type": "stream",
          "name": "stdout",
          "text": [
            "+-----------------+------------------+\n",
            "|avg(mobile_likes)|    avg(www_likes)|\n",
            "+-----------------+------------------+\n",
            "|97.57308600187058|31.245178817975326|\n",
            "+-----------------+------------------+\n",
            "\n"
          ]
        }
      ]
    },
    {
      "cell_type": "markdown",
      "source": [
        "# Linkdln Dataset"
      ],
      "metadata": {
        "id": "9482NbQC7aoj"
      }
    },
    {
      "cell_type": "markdown",
      "source": [
        "[Kaggle Dataset](https://www.kaggle.com/datasets/killbot/linkedin)"
      ],
      "metadata": {
        "id": "vd_IJutW-jAH"
      }
    },
    {
      "cell_type": "code",
      "source": [
        "# Upload the file\n",
        "from google.colab import files\n",
        "files.upload()"
      ],
      "metadata": {
        "colab": {
          "base_uri": "https://localhost:8080/",
          "height": 73
        },
        "id": "40LtjEA07f8j",
        "outputId": "95910688-a794-4468-c45d-d958350cf618"
      },
      "execution_count": null,
      "outputs": [
        {
          "output_type": "display_data",
          "data": {
            "text/plain": [
              "<IPython.core.display.HTML object>"
            ],
            "text/html": [
              "\n",
              "     <input type=\"file\" id=\"files-280255b9-82e4-4cb5-a2a9-ba08d915a60d\" name=\"files[]\" multiple disabled\n",
              "        style=\"border:none\" />\n",
              "     <output id=\"result-280255b9-82e4-4cb5-a2a9-ba08d915a60d\">\n",
              "      Upload widget is only available when the cell has been executed in the\n",
              "      current browser session. Please rerun this cell to enable.\n",
              "      </output>\n",
              "      <script>// Copyright 2017 Google LLC\n",
              "//\n",
              "// Licensed under the Apache License, Version 2.0 (the \"License\");\n",
              "// you may not use this file except in compliance with the License.\n",
              "// You may obtain a copy of the License at\n",
              "//\n",
              "//      http://www.apache.org/licenses/LICENSE-2.0\n",
              "//\n",
              "// Unless required by applicable law or agreed to in writing, software\n",
              "// distributed under the License is distributed on an \"AS IS\" BASIS,\n",
              "// WITHOUT WARRANTIES OR CONDITIONS OF ANY KIND, either express or implied.\n",
              "// See the License for the specific language governing permissions and\n",
              "// limitations under the License.\n",
              "\n",
              "/**\n",
              " * @fileoverview Helpers for google.colab Python module.\n",
              " */\n",
              "(function(scope) {\n",
              "function span(text, styleAttributes = {}) {\n",
              "  const element = document.createElement('span');\n",
              "  element.textContent = text;\n",
              "  for (const key of Object.keys(styleAttributes)) {\n",
              "    element.style[key] = styleAttributes[key];\n",
              "  }\n",
              "  return element;\n",
              "}\n",
              "\n",
              "// Max number of bytes which will be uploaded at a time.\n",
              "const MAX_PAYLOAD_SIZE = 100 * 1024;\n",
              "\n",
              "function _uploadFiles(inputId, outputId) {\n",
              "  const steps = uploadFilesStep(inputId, outputId);\n",
              "  const outputElement = document.getElementById(outputId);\n",
              "  // Cache steps on the outputElement to make it available for the next call\n",
              "  // to uploadFilesContinue from Python.\n",
              "  outputElement.steps = steps;\n",
              "\n",
              "  return _uploadFilesContinue(outputId);\n",
              "}\n",
              "\n",
              "// This is roughly an async generator (not supported in the browser yet),\n",
              "// where there are multiple asynchronous steps and the Python side is going\n",
              "// to poll for completion of each step.\n",
              "// This uses a Promise to block the python side on completion of each step,\n",
              "// then passes the result of the previous step as the input to the next step.\n",
              "function _uploadFilesContinue(outputId) {\n",
              "  const outputElement = document.getElementById(outputId);\n",
              "  const steps = outputElement.steps;\n",
              "\n",
              "  const next = steps.next(outputElement.lastPromiseValue);\n",
              "  return Promise.resolve(next.value.promise).then((value) => {\n",
              "    // Cache the last promise value to make it available to the next\n",
              "    // step of the generator.\n",
              "    outputElement.lastPromiseValue = value;\n",
              "    return next.value.response;\n",
              "  });\n",
              "}\n",
              "\n",
              "/**\n",
              " * Generator function which is called between each async step of the upload\n",
              " * process.\n",
              " * @param {string} inputId Element ID of the input file picker element.\n",
              " * @param {string} outputId Element ID of the output display.\n",
              " * @return {!Iterable<!Object>} Iterable of next steps.\n",
              " */\n",
              "function* uploadFilesStep(inputId, outputId) {\n",
              "  const inputElement = document.getElementById(inputId);\n",
              "  inputElement.disabled = false;\n",
              "\n",
              "  const outputElement = document.getElementById(outputId);\n",
              "  outputElement.innerHTML = '';\n",
              "\n",
              "  const pickedPromise = new Promise((resolve) => {\n",
              "    inputElement.addEventListener('change', (e) => {\n",
              "      resolve(e.target.files);\n",
              "    });\n",
              "  });\n",
              "\n",
              "  const cancel = document.createElement('button');\n",
              "  inputElement.parentElement.appendChild(cancel);\n",
              "  cancel.textContent = 'Cancel upload';\n",
              "  const cancelPromise = new Promise((resolve) => {\n",
              "    cancel.onclick = () => {\n",
              "      resolve(null);\n",
              "    };\n",
              "  });\n",
              "\n",
              "  // Wait for the user to pick the files.\n",
              "  const files = yield {\n",
              "    promise: Promise.race([pickedPromise, cancelPromise]),\n",
              "    response: {\n",
              "      action: 'starting',\n",
              "    }\n",
              "  };\n",
              "\n",
              "  cancel.remove();\n",
              "\n",
              "  // Disable the input element since further picks are not allowed.\n",
              "  inputElement.disabled = true;\n",
              "\n",
              "  if (!files) {\n",
              "    return {\n",
              "      response: {\n",
              "        action: 'complete',\n",
              "      }\n",
              "    };\n",
              "  }\n",
              "\n",
              "  for (const file of files) {\n",
              "    const li = document.createElement('li');\n",
              "    li.append(span(file.name, {fontWeight: 'bold'}));\n",
              "    li.append(span(\n",
              "        `(${file.type || 'n/a'}) - ${file.size} bytes, ` +\n",
              "        `last modified: ${\n",
              "            file.lastModifiedDate ? file.lastModifiedDate.toLocaleDateString() :\n",
              "                                    'n/a'} - `));\n",
              "    const percent = span('0% done');\n",
              "    li.appendChild(percent);\n",
              "\n",
              "    outputElement.appendChild(li);\n",
              "\n",
              "    const fileDataPromise = new Promise((resolve) => {\n",
              "      const reader = new FileReader();\n",
              "      reader.onload = (e) => {\n",
              "        resolve(e.target.result);\n",
              "      };\n",
              "      reader.readAsArrayBuffer(file);\n",
              "    });\n",
              "    // Wait for the data to be ready.\n",
              "    let fileData = yield {\n",
              "      promise: fileDataPromise,\n",
              "      response: {\n",
              "        action: 'continue',\n",
              "      }\n",
              "    };\n",
              "\n",
              "    // Use a chunked sending to avoid message size limits. See b/62115660.\n",
              "    let position = 0;\n",
              "    do {\n",
              "      const length = Math.min(fileData.byteLength - position, MAX_PAYLOAD_SIZE);\n",
              "      const chunk = new Uint8Array(fileData, position, length);\n",
              "      position += length;\n",
              "\n",
              "      const base64 = btoa(String.fromCharCode.apply(null, chunk));\n",
              "      yield {\n",
              "        response: {\n",
              "          action: 'append',\n",
              "          file: file.name,\n",
              "          data: base64,\n",
              "        },\n",
              "      };\n",
              "\n",
              "      let percentDone = fileData.byteLength === 0 ?\n",
              "          100 :\n",
              "          Math.round((position / fileData.byteLength) * 100);\n",
              "      percent.textContent = `${percentDone}% done`;\n",
              "\n",
              "    } while (position < fileData.byteLength);\n",
              "  }\n",
              "\n",
              "  // All done.\n",
              "  yield {\n",
              "    response: {\n",
              "      action: 'complete',\n",
              "    }\n",
              "  };\n",
              "}\n",
              "\n",
              "scope.google = scope.google || {};\n",
              "scope.google.colab = scope.google.colab || {};\n",
              "scope.google.colab._files = {\n",
              "  _uploadFiles,\n",
              "  _uploadFilesContinue,\n",
              "};\n",
              "})(self);\n",
              "</script> "
            ]
          },
          "metadata": {}
        },
        {
          "output_type": "stream",
          "name": "stdout",
          "text": [
            "Saving linkedin_data.csv to linkedin_data.csv\n"
          ]
        }
      ]
    },
    {
      "cell_type": "code",
      "source": [
        "df = spark.read.format('csv').option(\"header\",\"true\").option(\"inferschema\",\"true\").option(\"mode\",\"failfast\").load(\"linkedin_data.csv\")"
      ],
      "metadata": {
        "id": "fwBRUm_xBKR9"
      },
      "execution_count": null,
      "outputs": []
    },
    {
      "cell_type": "code",
      "source": [
        "df.printSchema()"
      ],
      "metadata": {
        "colab": {
          "base_uri": "https://localhost:8080/"
        },
        "id": "YYFtuMUaBOhd",
        "outputId": "c909b10c-ead9-4c19-b249-b39fc91a3783"
      },
      "execution_count": null,
      "outputs": [
        {
          "output_type": "stream",
          "name": "stdout",
          "text": [
            "root\n",
            " |-- _c0: integer (nullable = true)\n",
            " |-- avg_n_pos_per_prev_tenure: double (nullable = true)\n",
            " |-- avg_pos_len: double (nullable = true)\n",
            " |-- avg_prev_tenure_len: double (nullable = true)\n",
            " |-- c_name: string (nullable = true)\n",
            " |-- m_urn: string (nullable = true)\n",
            " |-- n_pos: integer (nullable = true)\n",
            " |-- n_prev_tenures: integer (nullable = true)\n",
            " |-- tenure_len: double (nullable = true)\n",
            " |-- age: integer (nullable = true)\n",
            " |-- beauty: double (nullable = true)\n",
            " |-- beauty_female: double (nullable = true)\n",
            " |-- beauty_male: double (nullable = true)\n",
            " |-- blur: double (nullable = true)\n",
            " |-- blur_gaussian: double (nullable = true)\n",
            " |-- blur_motion: double (nullable = true)\n",
            " |-- emo_anger: double (nullable = true)\n",
            " |-- emo_disgust: double (nullable = true)\n",
            " |-- emo_fear: double (nullable = true)\n",
            " |-- emo_happiness: double (nullable = true)\n",
            " |-- emo_neutral: double (nullable = true)\n",
            " |-- emo_sadness: double (nullable = true)\n",
            " |-- emo_surprise: double (nullable = true)\n",
            " |-- ethnicity: string (nullable = true)\n",
            " |-- face_quality: double (nullable = true)\n",
            " |-- gender: string (nullable = true)\n",
            " |-- glass: string (nullable = true)\n",
            " |-- head_pitch: double (nullable = true)\n",
            " |-- head_roll: double (nullable = true)\n",
            " |-- head_yaw: double (nullable = true)\n",
            " |-- img: string (nullable = true)\n",
            " |-- mouth_close: double (nullable = true)\n",
            " |-- mouth_mask: double (nullable = true)\n",
            " |-- mouth_open: double (nullable = true)\n",
            " |-- mouth_other: double (nullable = true)\n",
            " |-- skin_acne: double (nullable = true)\n",
            " |-- skin_dark_circle: double (nullable = true)\n",
            " |-- skin_health: double (nullable = true)\n",
            " |-- skin_stain: double (nullable = true)\n",
            " |-- smile: double (nullable = true)\n",
            " |-- african: double (nullable = true)\n",
            " |-- celtic_english: double (nullable = true)\n",
            " |-- east_asian: double (nullable = true)\n",
            " |-- european: double (nullable = true)\n",
            " |-- greek: double (nullable = true)\n",
            " |-- hispanic: double (nullable = true)\n",
            " |-- jewish: double (nullable = true)\n",
            " |-- muslim: double (nullable = true)\n",
            " |-- nationality: string (nullable = true)\n",
            " |-- nordic: double (nullable = true)\n",
            " |-- south_asian: double (nullable = true)\n",
            " |-- n_followers: integer (nullable = true)\n",
            "\n"
          ]
        }
      ]
    },
    {
      "cell_type": "code",
      "source": [
        "df.createOrReplaceTempView(\"lkdn\")"
      ],
      "metadata": {
        "id": "1AToLRVfBc0v"
      },
      "execution_count": null,
      "outputs": []
    },
    {
      "cell_type": "code",
      "source": [
        "spark.sql(\"Select * from lkdn\").show()"
      ],
      "metadata": {
        "colab": {
          "base_uri": "https://localhost:8080/"
        },
        "id": "llaSh_-LBnkv",
        "outputId": "392946cf-b120-4582-f4d1-f3dbe8ad773f"
      },
      "execution_count": null,
      "outputs": [
        {
          "output_type": "stream",
          "name": "stdout",
          "text": [
            "+---+-------------------------+-----------+-------------------+--------------------+--------------------+-----+--------------+----------+---+------+-------------+-----------+-----+-------------+-----------+---------+-----------+--------+-------------+-----------+-----------+------------+---------+------------+------+------+-----------+----------+----------+--------------------+-----------+----------+----------+-----------+---------+----------------+-----------+----------+------+--------------------+-------------------+--------------------+--------------------+--------------------+--------------------+--------------------+--------------------+--------------+--------------------+--------------------+-----------+\n",
            "|_c0|avg_n_pos_per_prev_tenure|avg_pos_len|avg_prev_tenure_len|              c_name|               m_urn|n_pos|n_prev_tenures|tenure_len|age|beauty|beauty_female|beauty_male| blur|blur_gaussian|blur_motion|emo_anger|emo_disgust|emo_fear|emo_happiness|emo_neutral|emo_sadness|emo_surprise|ethnicity|face_quality|gender| glass| head_pitch| head_roll|  head_yaw|                 img|mouth_close|mouth_mask|mouth_open|mouth_other|skin_acne|skin_dark_circle|skin_health|skin_stain| smile|             african|     celtic_english|          east_asian|            european|               greek|            hispanic|              jewish|              muslim|   nationality|              nordic|         south_asian|n_followers|\n",
            "+---+-------------------------+-----------+-------------------+--------------------+--------------------+-----+--------------+----------+---+------+-------------+-----------+-----+-------------+-----------+---------+-----------+--------+-------------+-----------+-----------+------------+---------+------------+------+------+-----------+----------+----------+--------------------+-----------+----------+----------+-----------+---------+----------------+-----------+----------+------+--------------------+-------------------+--------------------+--------------------+--------------------+--------------------+--------------------+--------------------+--------------+--------------------+--------------------+-----------+\n",
            "|  0|                      2.0|      457.0|             1338.0|                  TD|urn:li:member:149...|    1|             1|     457.0| 37| 57.57|       63.829|      57.57|0.421|        0.421|      0.421|    0.766|      0.007|   0.007|       99.035|      0.086|      0.007|       0.091|    Asian|      67.662|  Male|Normal|  7.7350483| -5.195693| 12.394546|/p/7/005/09c/003/...|      100.0|       0.0|       0.0|        0.0|    0.734|           3.295|     34.366|     1.411|77.536| 2.90855509277535E-4|0.06038792971289208|  0.8776807733141504| 0.05266990528688503|3.167775560809464...|6.379816968036548E-4|2.102663097939149...|1.020253942606524...|    east_asian| 0.00828370063309383|4.778088856839355E-5|        420|\n",
            "|  1|                      1.5|      212.0|              897.5|Light Up The Worl...|urn:li:member:149...|    1|             2|     212.0| 37| 57.57|       63.829|      57.57|0.421|        0.421|      0.421|    0.766|      0.007|   0.007|       99.035|      0.086|      0.007|       0.091|    Asian|      67.662|  Male|Normal|  7.7350483| -5.195693| 12.394546|/p/7/005/09c/003/...|      100.0|       0.0|       0.0|        0.0|    0.734|           3.295|     34.366|     1.411|77.536| 2.90855509277535E-4|0.06038792971289208|  0.8776807733141504| 0.05266990528688503|3.167775560809464...|6.379816968036548E-4|2.102663097939149...|1.020253942606524...|    east_asian| 0.00828370063309383|4.778088856839355E-5|        420|\n",
            "|  2|       1.3333333333333333|      243.0|              669.0|             Glacier|urn:li:member:149...|    1|             3|     243.0| 37| 57.57|       63.829|      57.57|0.421|        0.421|      0.421|    0.766|      0.007|   0.007|       99.035|      0.086|      0.007|       0.091|    Asian|      67.662|  Male|Normal|  7.7350483| -5.195693| 12.394546|/p/7/005/09c/003/...|      100.0|       0.0|       0.0|        0.0|    0.734|           3.295|     34.366|     1.411|77.536| 2.90855509277535E-4|0.06038792971289208|  0.8776807733141504| 0.05266990528688503|3.167775560809464...|6.379816968036548E-4|2.102663097939149...|1.020253942606524...|    east_asian| 0.00828370063309383|4.778088856839355E-5|        420|\n",
            "|  3|                     1.25|      123.0|              562.5|          Sprout App|urn:li:member:149...|    1|             4|     123.0| 37| 57.57|       63.829|      57.57|0.421|        0.421|      0.421|    0.766|      0.007|   0.007|       99.035|      0.086|      0.007|       0.091|    Asian|      67.662|  Male|Normal|  7.7350483| -5.195693| 12.394546|/p/7/005/09c/003/...|      100.0|       0.0|       0.0|        0.0|    0.734|           3.295|     34.366|     1.411|77.536| 2.90855509277535E-4|0.06038792971289208|  0.8776807733141504| 0.05266990528688503|3.167775560809464...|6.379816968036548E-4|2.102663097939149...|1.020253942606524...|    east_asian| 0.00828370063309383|4.778088856839355E-5|        420|\n",
            "|  4|                      1.2|      244.0|              474.6|         College Pro|urn:li:member:149...|    1|             5|     244.0| 37| 57.57|       63.829|      57.57|0.421|        0.421|      0.421|    0.766|      0.007|   0.007|       99.035|      0.086|      0.007|       0.091|    Asian|      67.662|  Male|Normal|  7.7350483| -5.195693| 12.394546|/p/7/005/09c/003/...|      100.0|       0.0|       0.0|        0.0|    0.734|           3.295|     34.366|     1.411|77.536| 2.90855509277535E-4|0.06038792971289208|  0.8776807733141504| 0.05266990528688503|3.167775560809464...|6.379816968036548E-4|2.102663097939149...|1.020253942606524...|    east_asian| 0.00828370063309383|4.778088856839355E-5|        420|\n",
            "|  5|       1.1666666666666667|      304.0|  436.1666666666667|           Microsoft|urn:li:member:149...|    1|             6|     304.0| 37| 57.57|       63.829|      57.57|0.421|        0.421|      0.421|    0.766|      0.007|   0.007|       99.035|      0.086|      0.007|       0.091|    Asian|      67.662|  Male|Normal|  7.7350483| -5.195693| 12.394546|/p/7/005/09c/003/...|      100.0|       0.0|       0.0|        0.0|    0.734|           3.295|     34.366|     1.411|77.536| 2.90855509277535E-4|0.06038792971289208|  0.8776807733141504| 0.05266990528688503|3.167775560809464...|6.379816968036548E-4|2.102663097939149...|1.020253942606524...|    east_asian| 0.00828370063309383|4.778088856839355E-5|        420|\n",
            "|  6|                      2.0|      457.0|             1338.0|                  TD|urn:li:member:149...|    1|             1|     457.0| 37| 57.57|       63.829|      57.57|0.421|        0.421|      0.421|    0.766|      0.007|   0.007|       99.035|      0.086|      0.007|       0.091|    Asian|      67.662|  Male|Normal|  7.7350483| -5.195693| 12.394546|/p/7/005/09c/003/...|      100.0|       0.0|       0.0|        0.0|    0.734|           3.295|     34.366|     1.411|77.536| 2.90855509277535E-4|0.06038792971289208|  0.8776807733141504| 0.05266990528688503|3.167775560809464...|6.379816968036548E-4|2.102663097939149...|1.020253942606524...|    east_asian| 0.00828370063309383|4.778088856839355E-5|        420|\n",
            "|  7|                      1.5|      212.0|              897.5|Light Up The Worl...|urn:li:member:149...|    1|             2|     212.0| 37| 57.57|       63.829|      57.57|0.421|        0.421|      0.421|    0.766|      0.007|   0.007|       99.035|      0.086|      0.007|       0.091|    Asian|      67.662|  Male|Normal|  7.7350483| -5.195693| 12.394546|/p/7/005/09c/003/...|      100.0|       0.0|       0.0|        0.0|    0.734|           3.295|     34.366|     1.411|77.536| 2.90855509277535E-4|0.06038792971289208|  0.8776807733141504| 0.05266990528688503|3.167775560809464...|6.379816968036548E-4|2.102663097939149...|1.020253942606524...|    east_asian| 0.00828370063309383|4.778088856839355E-5|        420|\n",
            "|  8|       1.3333333333333333|      243.0|              669.0|             Glacier|urn:li:member:149...|    1|             3|     243.0| 37| 57.57|       63.829|      57.57|0.421|        0.421|      0.421|    0.766|      0.007|   0.007|       99.035|      0.086|      0.007|       0.091|    Asian|      67.662|  Male|Normal|  7.7350483| -5.195693| 12.394546|/p/7/005/09c/003/...|      100.0|       0.0|       0.0|        0.0|    0.734|           3.295|     34.366|     1.411|77.536| 2.90855509277535E-4|0.06038792971289208|  0.8776807733141504| 0.05266990528688503|3.167775560809464...|6.379816968036548E-4|2.102663097939149...|1.020253942606524...|    east_asian| 0.00828370063309383|4.778088856839355E-5|        420|\n",
            "|  9|                     1.25|      123.0|              562.5|          Sprout App|urn:li:member:149...|    1|             4|     123.0| 37| 57.57|       63.829|      57.57|0.421|        0.421|      0.421|    0.766|      0.007|   0.007|       99.035|      0.086|      0.007|       0.091|    Asian|      67.662|  Male|Normal|  7.7350483| -5.195693| 12.394546|/p/7/005/09c/003/...|      100.0|       0.0|       0.0|        0.0|    0.734|           3.295|     34.366|     1.411|77.536| 2.90855509277535E-4|0.06038792971289208|  0.8776807733141504| 0.05266990528688503|3.167775560809464...|6.379816968036548E-4|2.102663097939149...|1.020253942606524...|    east_asian| 0.00828370063309383|4.778088856839355E-5|        420|\n",
            "| 10|                      1.2|      244.0|              474.6|         College Pro|urn:li:member:149...|    1|             5|     244.0| 37| 57.57|       63.829|      57.57|0.421|        0.421|      0.421|    0.766|      0.007|   0.007|       99.035|      0.086|      0.007|       0.091|    Asian|      67.662|  Male|Normal|  7.7350483| -5.195693| 12.394546|/p/7/005/09c/003/...|      100.0|       0.0|       0.0|        0.0|    0.734|           3.295|     34.366|     1.411|77.536| 2.90855509277535E-4|0.06038792971289208|  0.8776807733141504| 0.05266990528688503|3.167775560809464...|6.379816968036548E-4|2.102663097939149...|1.020253942606524...|    east_asian| 0.00828370063309383|4.778088856839355E-5|        420|\n",
            "| 11|       1.1666666666666667|      304.0|  436.1666666666667|           Microsoft|urn:li:member:149...|    1|             6|     304.0| 37| 57.57|       63.829|      57.57|0.421|        0.421|      0.421|    0.766|      0.007|   0.007|       99.035|      0.086|      0.007|       0.091|    Asian|      67.662|  Male|Normal|  7.7350483| -5.195693| 12.394546|/p/7/005/09c/003/...|      100.0|       0.0|       0.0|        0.0|    0.734|           3.295|     34.366|     1.411|77.536| 2.90855509277535E-4|0.06038792971289208|  0.8776807733141504| 0.05266990528688503|3.167775560809464...|6.379816968036548E-4|2.102663097939149...|1.020253942606524...|    east_asian| 0.00828370063309383|4.778088856839355E-5|        420|\n",
            "| 12|                      1.0|     1430.0|             1430.0|           Microsoft|urn:li:member:229...|    1|             1|    1430.0| 52|61.982|       62.304|     61.982|0.249|        0.249|      0.249|    0.008|      0.359|   0.008|       93.705|      5.824|      0.009|       0.088|    White|      94.064|  Male|Normal|-0.36690667|-6.3737774| 1.7485394|/p/4/005/047/3b9/...|      100.0|       0.0|       0.0|        0.0|   13.554|           2.534|      1.226|     20.78|73.185|2.016356025953188E-4| 0.9946984103142452|4.214889053364005...|0.001397432446931172|1.943243648994065...|0.002464045201123797|1.443631957791556...|5.001429354647403E-5|celtic_english|2.126101477765154...|5.524054084768701E-4|        311|\n",
            "| 13|                      1.0|     1095.0|             1430.0|      SIG Consulting|urn:li:member:229...|    1|             2|    1095.0| 52|61.982|       62.304|     61.982|0.249|        0.249|      0.249|    0.008|      0.359|   0.008|       93.705|      5.824|      0.009|       0.088|    White|      94.064|  Male|Normal|-0.36690667|-6.3737774| 1.7485394|/p/4/005/047/3b9/...|      100.0|       0.0|       0.0|        0.0|   13.554|           2.534|      1.226|     20.78|73.185|2.016356025953188E-4| 0.9946984103142452|4.214889053364005...|0.001397432446931172|1.943243648994065...|0.002464045201123797|1.443631957791556...|5.001429354647403E-5|celtic_english|2.126101477765154...|5.524054084768701E-4|        311|\n",
            "| 14|                      1.0|     2799.0| 1318.3333333333333|           K3 Retail|urn:li:member:229...|    1|             3|    2799.0| 52|61.982|       62.304|     61.982|0.249|        0.249|      0.249|    0.008|      0.359|   0.008|       93.705|      5.824|      0.009|       0.088|    White|      94.064|  Male|Normal|-0.36690667|-6.3737774| 1.7485394|/p/4/005/047/3b9/...|      100.0|       0.0|       0.0|        0.0|   13.554|           2.534|      1.226|     20.78|73.185|2.016356025953188E-4| 0.9946984103142452|4.214889053364005...|0.001397432446931172|1.943243648994065...|0.002464045201123797|1.443631957791556...|5.001429354647403E-5|celtic_english|2.126101477765154...|5.524054084768701E-4|        311|\n",
            "| 15|                      1.0|     1430.0|             1430.0|           Microsoft|urn:li:member:229...|    1|             1|    1430.0| 52|61.982|       62.304|     61.982|0.249|        0.249|      0.249|    0.008|      0.359|   0.008|       93.705|      5.824|      0.009|       0.088|    White|      94.064|  Male|Normal|-0.36690667|-6.3737774| 1.7485394|/p/4/005/047/3b9/...|      100.0|       0.0|       0.0|        0.0|   13.554|           2.534|      1.226|     20.78|73.185|2.016356025953188E-4| 0.9946984103142452|4.214889053364005...|0.001397432446931172|1.943243648994065...|0.002464045201123797|1.443631957791556...|5.001429354647403E-5|celtic_english|2.126101477765154...|5.524054084768701E-4|        311|\n",
            "| 16|                      1.0|     1095.0|             1430.0|      SIG Consulting|urn:li:member:229...|    1|             2|    1095.0| 52|61.982|       62.304|     61.982|0.249|        0.249|      0.249|    0.008|      0.359|   0.008|       93.705|      5.824|      0.009|       0.088|    White|      94.064|  Male|Normal|-0.36690667|-6.3737774| 1.7485394|/p/4/005/047/3b9/...|      100.0|       0.0|       0.0|        0.0|   13.554|           2.534|      1.226|     20.78|73.185|2.016356025953188E-4| 0.9946984103142452|4.214889053364005...|0.001397432446931172|1.943243648994065...|0.002464045201123797|1.443631957791556...|5.001429354647403E-5|celtic_english|2.126101477765154...|5.524054084768701E-4|        311|\n",
            "| 17|                      1.0|     2799.0| 1318.3333333333333|           K3 Retail|urn:li:member:229...|    1|             3|    2799.0| 52|61.982|       62.304|     61.982|0.249|        0.249|      0.249|    0.008|      0.359|   0.008|       93.705|      5.824|      0.009|       0.088|    White|      94.064|  Male|Normal|-0.36690667|-6.3737774| 1.7485394|/p/4/005/047/3b9/...|      100.0|       0.0|       0.0|        0.0|   13.554|           2.534|      1.226|     20.78|73.185|2.016356025953188E-4| 0.9946984103142452|4.214889053364005...|0.001397432446931172|1.943243648994065...|0.002464045201123797|1.443631957791556...|5.001429354647403E-5|celtic_english|2.126101477765154...|5.524054084768701E-4|        311|\n",
            "| 18|                      1.0|      393.0|             1888.0|Motech Industries...|urn:li:member:404...|    1|             1|     393.0| 28|81.561|       81.561|     79.763|0.568|        0.568|      0.568|      0.0|        0.0|     0.0|       99.093|      0.907|        0.0|         0.0|    Asian|      93.239|Female|  None|  4.4533515|  7.705469|-1.5286509|/AAEAAQAAAAAAAAvz...|      100.0|       0.0|       0.0|        0.0|    0.994|            1.94|     88.875|     8.978|68.108|0.002624117224946089|0.05664943516935849|  0.6587550193040295| 0.18991812493311128| 0.03510501047588953| 0.05379515597966743|2.430497101700921E-7|6.792675549028815E-4|    east_asian|4.698912949715082...|0.002468927395434976|        331|\n",
            "| 19|                      1.0|     1003.0|             1140.5|           Microsoft|urn:li:member:404...|    1|             2|    1003.0| 28|81.561|       81.561|     79.763|0.568|        0.568|      0.568|      0.0|        0.0|     0.0|       99.093|      0.907|        0.0|         0.0|    Asian|      93.239|Female|  None|  4.4533515|  7.705469|-1.5286509|/AAEAAQAAAAAAAAvz...|      100.0|       0.0|       0.0|        0.0|    0.994|            1.94|     88.875|     8.978|68.108|0.002624117224946089|0.05664943516935849|  0.6587550193040295| 0.18991812493311128| 0.03510501047588953| 0.05379515597966743|2.430497101700921E-7|6.792675549028815E-4|    east_asian|4.698912949715082...|0.002468927395434976|        331|\n",
            "+---+-------------------------+-----------+-------------------+--------------------+--------------------+-----+--------------+----------+---+------+-------------+-----------+-----+-------------+-----------+---------+-----------+--------+-------------+-----------+-----------+------------+---------+------------+------+------+-----------+----------+----------+--------------------+-----------+----------+----------+-----------+---------+----------------+-----------+----------+------+--------------------+-------------------+--------------------+--------------------+--------------------+--------------------+--------------------+--------------------+--------------+--------------------+--------------------+-----------+\n",
            "only showing top 20 rows\n",
            "\n"
          ]
        }
      ]
    },
    {
      "cell_type": "code",
      "source": [
        "spark.sql(\"Select count(*) from lkdn\").show()"
      ],
      "metadata": {
        "colab": {
          "base_uri": "https://localhost:8080/"
        },
        "id": "VxrMrJfJCK8U",
        "outputId": "57d09c9e-87c1-443f-9b75-e2fa5c05ecd0"
      },
      "execution_count": null,
      "outputs": [
        {
          "output_type": "stream",
          "name": "stdout",
          "text": [
            "+--------+\n",
            "|count(1)|\n",
            "+--------+\n",
            "|   62709|\n",
            "+--------+\n",
            "\n"
          ]
        }
      ]
    },
    {
      "cell_type": "markdown",
      "source": [
        "**n_followers feature**"
      ],
      "metadata": {
        "id": "3MpcbRWBEa8U"
      }
    },
    {
      "cell_type": "markdown",
      "source": [
        "This query selects the count of rows where the \"n_followers\" column is greater than 100."
      ],
      "metadata": {
        "id": "dbk2ZOw8Ez8i"
      }
    },
    {
      "cell_type": "code",
      "source": [
        "spark.sql(\"Select count(*) from lkdn where n_followers>100\").show()"
      ],
      "metadata": {
        "colab": {
          "base_uri": "https://localhost:8080/"
        },
        "id": "sN81K2HcC-F8",
        "outputId": "7ed87d44-455e-422c-9792-329292ba5fba"
      },
      "execution_count": null,
      "outputs": [
        {
          "output_type": "stream",
          "name": "stdout",
          "text": [
            "+--------+\n",
            "|count(1)|\n",
            "+--------+\n",
            "|   59562|\n",
            "+--------+\n",
            "\n"
          ]
        }
      ]
    },
    {
      "cell_type": "code",
      "source": [
        "spark.sql(\"Select count(*) from lkdn where n_followers==420\").show()"
      ],
      "metadata": {
        "colab": {
          "base_uri": "https://localhost:8080/"
        },
        "id": "VzS0kvSoGXRy",
        "outputId": "dd59eab0-d61e-4e7b-c95e-4d4780917191"
      },
      "execution_count": null,
      "outputs": [
        {
          "output_type": "stream",
          "name": "stdout",
          "text": [
            "+--------+\n",
            "|count(1)|\n",
            "+--------+\n",
            "|      71|\n",
            "+--------+\n",
            "\n"
          ]
        }
      ]
    },
    {
      "cell_type": "code",
      "source": [
        "result_df = spark.sql(\"Select avg(n_followers) AS average_followers, min(n_followers) AS min_followers, max(n_followers) AS max_followers FROM lkdn\").show()"
      ],
      "metadata": {
        "colab": {
          "base_uri": "https://localhost:8080/"
        },
        "id": "Q0Hm4sUIFlvk",
        "outputId": "c98da9e2-6109-4962-91e5-2d7866c871b4"
      },
      "execution_count": null,
      "outputs": [
        {
          "output_type": "stream",
          "name": "stdout",
          "text": [
            "+------------------+-------------+-------------+\n",
            "| average_followers|min_followers|max_followers|\n",
            "+------------------+-------------+-------------+\n",
            "|1225.8381731489899|            0|       530566|\n",
            "+------------------+-------------+-------------+\n",
            "\n"
          ]
        }
      ]
    },
    {
      "cell_type": "markdown",
      "source": [
        "**nationality gouping by number of follower**"
      ],
      "metadata": {
        "id": "n_5XqUIqHlZI"
      }
    },
    {
      "cell_type": "code",
      "source": [
        "result_df = spark.sql(\"Select nationality, n_followers, Count(*) AS count_of_persons From lkdn group by nationality, n_followers\").show()"
      ],
      "metadata": {
        "colab": {
          "base_uri": "https://localhost:8080/"
        },
        "id": "ZelMqBONHAPR",
        "outputId": "8253f6f2-60c8-48ad-af5f-af68ec144b65"
      },
      "execution_count": null,
      "outputs": [
        {
          "output_type": "stream",
          "name": "stdout",
          "text": [
            "+--------------+-----------+----------------+\n",
            "|   nationality|n_followers|count_of_persons|\n",
            "+--------------+-----------+----------------+\n",
            "|celtic_english|        562|              34|\n",
            "|celtic_english|        896|              19|\n",
            "|      european|       1766|              12|\n",
            "|   south_asian|        907|              12|\n",
            "|   south_asian|        735|               8|\n",
            "|    east_asian|        563|              11|\n",
            "|        nordic|        635|               7|\n",
            "|      hispanic|       1264|              16|\n",
            "|celtic_english|        184|              37|\n",
            "|celtic_english|       4506|               4|\n",
            "|   south_asian|       1435|              13|\n",
            "|      european|       1610|               6|\n",
            "|celtic_english|       2080|               8|\n",
            "|   south_asian|        802|               2|\n",
            "|celtic_english|        747|              16|\n",
            "|   south_asian|        228|              16|\n",
            "|      hispanic|        524|               2|\n",
            "|celtic_english|        260|              17|\n",
            "|      european|        795|               5|\n",
            "|        jewish|        692|               6|\n",
            "+--------------+-----------+----------------+\n",
            "only showing top 20 rows\n",
            "\n"
          ]
        }
      ]
    },
    {
      "cell_type": "markdown",
      "source": [
        "**Profile picture analysis**"
      ],
      "metadata": {
        "id": "HBKwuYlOIIBP"
      }
    },
    {
      "cell_type": "code",
      "source": [
        "result_df = spark.sql(\"Select avg(age) as average_ages_people, min(age) as min_ages_people, max(age) as max_ages_people FROM lkdn\").show()"
      ],
      "metadata": {
        "colab": {
          "base_uri": "https://localhost:8080/"
        },
        "id": "bOoVnk3aINWf",
        "outputId": "c3a7cbfe-5c7d-4cd8-caaa-52c0373ab305"
      },
      "execution_count": null,
      "outputs": [
        {
          "output_type": "stream",
          "name": "stdout",
          "text": [
            "+-------------------+---------------+---------------+\n",
            "|average_ages_people|min_ages_people|max_ages_people|\n",
            "+-------------------+---------------+---------------+\n",
            "|  44.04871709005087|              1|             80|\n",
            "+-------------------+---------------+---------------+\n",
            "\n"
          ]
        }
      ]
    },
    {
      "cell_type": "code",
      "source": [
        "spark.sql(\"Select count(*) from lkdn where age<=25 AND beauty>=40\").show()"
      ],
      "metadata": {
        "colab": {
          "base_uri": "https://localhost:8080/"
        },
        "id": "3daamvttJxeu",
        "outputId": "6ea4036d-3585-46d6-b667-84a8d8bbe42b"
      },
      "execution_count": null,
      "outputs": [
        {
          "output_type": "stream",
          "name": "stdout",
          "text": [
            "+--------+\n",
            "|count(1)|\n",
            "+--------+\n",
            "|    2724|\n",
            "+--------+\n",
            "\n"
          ]
        }
      ]
    },
    {
      "cell_type": "code",
      "source": [
        "result_df = spark.sql(\"Select avg(beauty_female) as average_beauty_female_ranking, min(beauty_female) as minimum_beauty_famale_ranking, max(beauty_female) as maximum_beauty_female_ranking FROM lkdn\").show()"
      ],
      "metadata": {
        "colab": {
          "base_uri": "https://localhost:8080/"
        },
        "id": "tAjrKWzxLR1U",
        "outputId": "83bfad10-2d8e-4cb8-cf07-9b58de221010"
      },
      "execution_count": null,
      "outputs": [
        {
          "output_type": "stream",
          "name": "stdout",
          "text": [
            "+-----------------------------+-----------------------------+-----------------------------+\n",
            "|average_beauty_female_ranking|minimum_beauty_famale_ranking|maximum_beauty_female_ranking|\n",
            "+-----------------------------+-----------------------------+-----------------------------+\n",
            "|            59.92912687174183|                       22.902|                       94.291|\n",
            "+-----------------------------+-----------------------------+-----------------------------+\n",
            "\n"
          ]
        }
      ]
    },
    {
      "cell_type": "code",
      "source": [
        "result_df = spark.sql(\"\"\"\n",
        "    SELECT\n",
        "        gender,\n",
        "        emo_anger,\n",
        "        COUNT(*) AS count_emo_anger\n",
        "    FROM lkdn\n",
        "    GROUP BY gender, emo_anger\n",
        "    ORDER BY gender, emo_anger\n",
        "\"\"\")\n",
        "result_df.show(5)"
      ],
      "metadata": {
        "colab": {
          "base_uri": "https://localhost:8080/"
        },
        "id": "mXBC4KeGOcKS",
        "outputId": "eff1f9a8-5936-4960-8960-9c3f56148376"
      },
      "execution_count": null,
      "outputs": [
        {
          "output_type": "stream",
          "name": "stdout",
          "text": [
            "+------+---------+---------------+\n",
            "|gender|emo_anger|count_emo_anger|\n",
            "+------+---------+---------------+\n",
            "|Female|      0.0|           5419|\n",
            "|Female|    0.001|           1857|\n",
            "|Female|    0.002|            733|\n",
            "|Female|    0.003|            480|\n",
            "|Female|    0.004|            428|\n",
            "+------+---------+---------------+\n",
            "only showing top 5 rows\n",
            "\n"
          ]
        }
      ]
    },
    {
      "cell_type": "code",
      "source": [
        "result_df = spark.sql(\"\"\"\n",
        "    SELECT\n",
        "        gender,\n",
        "        emo_anger,\n",
        "        COUNT(*) AS count_emo_anger\n",
        "    FROM lkdn\n",
        "    GROUP BY gender, emo_anger\n",
        "    ORDER BY gender, emo_anger\n",
        "\"\"\")\n",
        "result_df.show(5)"
      ],
      "metadata": {
        "colab": {
          "base_uri": "https://localhost:8080/"
        },
        "id": "TDAcP-LnRM6J",
        "outputId": "cf02b35f-23e8-499a-fc5c-9a928d98f55e"
      },
      "execution_count": null,
      "outputs": [
        {
          "output_type": "stream",
          "name": "stdout",
          "text": [
            "+------+---------+---------------+\n",
            "|gender|emo_anger|count_emo_anger|\n",
            "+------+---------+---------------+\n",
            "|Female|      0.0|           5419|\n",
            "|Female|    0.001|           1857|\n",
            "|Female|    0.002|            733|\n",
            "|Female|    0.003|            480|\n",
            "|Female|    0.004|            428|\n",
            "+------+---------+---------------+\n",
            "only showing top 5 rows\n",
            "\n"
          ]
        }
      ]
    },
    {
      "cell_type": "code",
      "source": [
        "spark.sql(\"SELECT gender,COUNT(*) AS count_of_gender FROM lkdn GROUP BY gender\").show()"
      ],
      "metadata": {
        "colab": {
          "base_uri": "https://localhost:8080/"
        },
        "id": "Uo4kIh3mQxxC",
        "outputId": "cb3064b7-66c9-47e3-ebfa-ceb09379ed74"
      },
      "execution_count": null,
      "outputs": [
        {
          "output_type": "stream",
          "name": "stdout",
          "text": [
            "+------+---------------+\n",
            "|gender|count_of_gender|\n",
            "+------+---------------+\n",
            "|Female|          14925|\n",
            "|  Male|          47784|\n",
            "+------+---------------+\n",
            "\n"
          ]
        }
      ]
    },
    {
      "cell_type": "code",
      "source": [
        "spark.sql(\"SELECT ethnicity,COUNT(*) AS count_of_ethnicity FROM lkdn GROUP BY ethnicity\").show()"
      ],
      "metadata": {
        "colab": {
          "base_uri": "https://localhost:8080/"
        },
        "id": "5LuVqupnR0__",
        "outputId": "7ebea669-bfcb-4997-cb9f-195ead702df5"
      },
      "execution_count": null,
      "outputs": [
        {
          "output_type": "stream",
          "name": "stdout",
          "text": [
            "+---------+------------------+\n",
            "|ethnicity|count_of_ethnicity|\n",
            "+---------+------------------+\n",
            "|    White|             47937|\n",
            "|    Black|              4894|\n",
            "|    Asian|              9878|\n",
            "+---------+------------------+\n",
            "\n"
          ]
        }
      ]
    },
    {
      "cell_type": "code",
      "source": [
        "spark.sql(\"Select * from lkdn\").show(5)"
      ],
      "metadata": {
        "colab": {
          "base_uri": "https://localhost:8080/"
        },
        "id": "DvfTwiUkSWKf",
        "outputId": "3f948866-fa4b-4920-b0d2-2a9e60395a83"
      },
      "execution_count": null,
      "outputs": [
        {
          "output_type": "stream",
          "name": "stdout",
          "text": [
            "+---+-------------------------+-----------+-------------------+--------------------+--------------------+-----+--------------+----------+---+------+-------------+-----------+-----+-------------+-----------+---------+-----------+--------+-------------+-----------+-----------+------------+---------+------------+------+------+----------+---------+---------+--------------------+-----------+----------+----------+-----------+---------+----------------+-----------+----------+------+-------------------+-------------------+------------------+-------------------+--------------------+--------------------+--------------------+--------------------+-----------+-------------------+--------------------+-----------+\n",
            "|_c0|avg_n_pos_per_prev_tenure|avg_pos_len|avg_prev_tenure_len|              c_name|               m_urn|n_pos|n_prev_tenures|tenure_len|age|beauty|beauty_female|beauty_male| blur|blur_gaussian|blur_motion|emo_anger|emo_disgust|emo_fear|emo_happiness|emo_neutral|emo_sadness|emo_surprise|ethnicity|face_quality|gender| glass|head_pitch|head_roll| head_yaw|                 img|mouth_close|mouth_mask|mouth_open|mouth_other|skin_acne|skin_dark_circle|skin_health|skin_stain| smile|            african|     celtic_english|        east_asian|           european|               greek|            hispanic|              jewish|              muslim|nationality|             nordic|         south_asian|n_followers|\n",
            "+---+-------------------------+-----------+-------------------+--------------------+--------------------+-----+--------------+----------+---+------+-------------+-----------+-----+-------------+-----------+---------+-----------+--------+-------------+-----------+-----------+------------+---------+------------+------+------+----------+---------+---------+--------------------+-----------+----------+----------+-----------+---------+----------------+-----------+----------+------+-------------------+-------------------+------------------+-------------------+--------------------+--------------------+--------------------+--------------------+-----------+-------------------+--------------------+-----------+\n",
            "|  0|                      2.0|      457.0|             1338.0|                  TD|urn:li:member:149...|    1|             1|     457.0| 37| 57.57|       63.829|      57.57|0.421|        0.421|      0.421|    0.766|      0.007|   0.007|       99.035|      0.086|      0.007|       0.091|    Asian|      67.662|  Male|Normal| 7.7350483|-5.195693|12.394546|/p/7/005/09c/003/...|      100.0|       0.0|       0.0|        0.0|    0.734|           3.295|     34.366|     1.411|77.536|2.90855509277535E-4|0.06038792971289208|0.8776807733141504|0.05266990528688503|3.167775560809464...|6.379816968036548E-4|2.102663097939149...|1.020253942606524...| east_asian|0.00828370063309383|4.778088856839355E-5|        420|\n",
            "|  1|                      1.5|      212.0|              897.5|Light Up The Worl...|urn:li:member:149...|    1|             2|     212.0| 37| 57.57|       63.829|      57.57|0.421|        0.421|      0.421|    0.766|      0.007|   0.007|       99.035|      0.086|      0.007|       0.091|    Asian|      67.662|  Male|Normal| 7.7350483|-5.195693|12.394546|/p/7/005/09c/003/...|      100.0|       0.0|       0.0|        0.0|    0.734|           3.295|     34.366|     1.411|77.536|2.90855509277535E-4|0.06038792971289208|0.8776807733141504|0.05266990528688503|3.167775560809464...|6.379816968036548E-4|2.102663097939149...|1.020253942606524...| east_asian|0.00828370063309383|4.778088856839355E-5|        420|\n",
            "|  2|       1.3333333333333333|      243.0|              669.0|             Glacier|urn:li:member:149...|    1|             3|     243.0| 37| 57.57|       63.829|      57.57|0.421|        0.421|      0.421|    0.766|      0.007|   0.007|       99.035|      0.086|      0.007|       0.091|    Asian|      67.662|  Male|Normal| 7.7350483|-5.195693|12.394546|/p/7/005/09c/003/...|      100.0|       0.0|       0.0|        0.0|    0.734|           3.295|     34.366|     1.411|77.536|2.90855509277535E-4|0.06038792971289208|0.8776807733141504|0.05266990528688503|3.167775560809464...|6.379816968036548E-4|2.102663097939149...|1.020253942606524...| east_asian|0.00828370063309383|4.778088856839355E-5|        420|\n",
            "|  3|                     1.25|      123.0|              562.5|          Sprout App|urn:li:member:149...|    1|             4|     123.0| 37| 57.57|       63.829|      57.57|0.421|        0.421|      0.421|    0.766|      0.007|   0.007|       99.035|      0.086|      0.007|       0.091|    Asian|      67.662|  Male|Normal| 7.7350483|-5.195693|12.394546|/p/7/005/09c/003/...|      100.0|       0.0|       0.0|        0.0|    0.734|           3.295|     34.366|     1.411|77.536|2.90855509277535E-4|0.06038792971289208|0.8776807733141504|0.05266990528688503|3.167775560809464...|6.379816968036548E-4|2.102663097939149...|1.020253942606524...| east_asian|0.00828370063309383|4.778088856839355E-5|        420|\n",
            "|  4|                      1.2|      244.0|              474.6|         College Pro|urn:li:member:149...|    1|             5|     244.0| 37| 57.57|       63.829|      57.57|0.421|        0.421|      0.421|    0.766|      0.007|   0.007|       99.035|      0.086|      0.007|       0.091|    Asian|      67.662|  Male|Normal| 7.7350483|-5.195693|12.394546|/p/7/005/09c/003/...|      100.0|       0.0|       0.0|        0.0|    0.734|           3.295|     34.366|     1.411|77.536|2.90855509277535E-4|0.06038792971289208|0.8776807733141504|0.05266990528688503|3.167775560809464...|6.379816968036548E-4|2.102663097939149...|1.020253942606524...| east_asian|0.00828370063309383|4.778088856839355E-5|        420|\n",
            "+---+-------------------------+-----------+-------------------+--------------------+--------------------+-----+--------------+----------+---+------+-------------+-----------+-----+-------------+-----------+---------+-----------+--------+-------------+-----------+-----------+------------+---------+------------+------+------+----------+---------+---------+--------------------+-----------+----------+----------+-----------+---------+----------------+-----------+----------+------+-------------------+-------------------+------------------+-------------------+--------------------+--------------------+--------------------+--------------------+-----------+-------------------+--------------------+-----------+\n",
            "only showing top 5 rows\n",
            "\n"
          ]
        }
      ]
    }
  ],
  "metadata": {
    "colab": {
      "provenance": [],
      "include_colab_link": true
    },
    "kernelspec": {
      "display_name": "Python 3",
      "name": "python3"
    },
    "language_info": {
      "name": "python"
    }
  },
  "nbformat": 4,
  "nbformat_minor": 0
}